{
 "cells": [
  {
   "cell_type": "code",
   "execution_count": 1,
   "metadata": {
    "ExecuteTime": {
     "end_time": "2023-05-31T02:42:27.163733Z",
     "start_time": "2023-05-31T02:42:22.636891Z"
    }
   },
   "outputs": [],
   "source": [
    "from PyDBDdim.utils import DimensionlessLearning\n",
    "import torch\n",
    "torch.manual_seed(0)\n",
    "import numpy as np\n",
    "import pandas as pd\n",
    "import matplotlib.pyplot as plt\n",
    "import os\n",
    "import warnings\n",
    "warnings.filterwarnings(\"ignore\")\n"
   ]
  },
  {
   "cell_type": "code",
   "execution_count": 9,
   "metadata": {
    "ExecuteTime": {
     "end_time": "2023-05-31T02:42:27.572932Z",
     "start_time": "2023-05-31T02:42:27.166608Z"
    }
   },
   "outputs": [],
   "source": [
    "#df = pd.ExcelFile(r\"mass_balance_params.xlsx\")\n",
    "df_2 = pd.ExcelFile(r\"data_from_EB_looping.xlsx\")\n",
    "df_y = pd.ExcelFile(r\"energy_balance_params.xlsx\")\n"
   ]
  },
  {
   "cell_type": "code",
   "execution_count": 10,
   "metadata": {
    "ExecuteTime": {
     "end_time": "2023-05-31T02:42:27.660878Z",
     "start_time": "2023-05-31T02:42:27.634288Z"
    }
   },
   "outputs": [],
   "source": [
    "# df_train_x['u_B_m_s'] = df_train_x['u_B_m_s'] / 1000 if np.min(df_train_x['u_B_m_s']) > 0 else df_train_x['u_B_m_s'] / 1000 - (np.min(df_train_x['u_B_m_s']) / 1000-1e-5)\n",
    "# df_train_x['A_tot_m2'] = 1.\n",
    "# df_train_x['t_a_s'] = df_train_x['t_a_s'] / 1e-7 if np.min(df_train_x['t_a_s']) > 0 else df_train_x['t_a_s'] / 1e-7 - (np.min(df_train_x['t_a_s']) / 1e-7-1e-5)\n",
    "# df_train_x['t_b_s'] = df_train_x['t_b_s'] / 1e-4 if np.min(df_train_x['t_b_s']) > 0 else df_train_x['t_b_s'] / 1e-4 - (np.min(df_train_x['t_b_s']) / 1e-4-1e-5)\n",
    "# df_train_x['Volume_m3'] = 1.\n",
    "# df_train_x['K_iz_a_m3_s_atom'] = df_train_x['K_iz_a_m3_s_atom'] / 1e-15 if np.min(df_train_x['K_iz_a_m3_s_atom']) > 0 else df_train_x['K_iz_a_m3_s_atom'] / 1e-15 - (np.min(df_train_x['K_iz_a_m3_s_atom']) / 1e-15-1e-5)\n",
    "\n",
    "# df_train_x['K_2_iz_a_m3_s_atom'] = df_train_x['K_2_iz_a_m3_s_atom'] / 1e-15 if np.min(df_train_x['K_2_iz_a_m3_s_atom']) > 0 else df_train_x['K_2_iz_a_m3_s_atom'] / 1e-15 - (np.min(df_train_x['K_2_iz_a_m3_s_atom']) / 1e-15-1e-5)\n",
    "\n",
    "# df_train_x['K_iz_exc_a_m3_s_atom'] = df_train_x['K_iz_exc_a_m3_s_atom'] / 1e-14 if np.min(df_train_x['K_iz_exc_a_m3_s_atom']) > 0 else df_train_x['K_iz_exc_a_m3_s_atom'] / 1e-14 - (np.min(df_train_x['K_iz_exc_a_m3_s_atom']) / 1e-14-1e-5)\n",
    "\n",
    "# df_train_x['n_sa_atoms_m3'] = df_train_x['n_sa_atoms_m3'] / 1e10 if np.min(df_train_x['n_sa_atoms_m3']) > 0 else df_train_x['n_sa_atoms_m3'] / 1e10 - (np.min(df_train_x['n_sa_atoms_m3']) / 1e10-1e-5)\n",
    "\n",
    "# df_train_x['n_sb_atoms_m3'] = df_train_x['n_sb_atoms_m3'] / 1e10 if np.min(df_train_x['n_sb_atoms_m3']) > 0 else df_train_x['n_sb_atoms_m3'] / 1e10 - (np.min(df_train_x['n_sb_atoms_m3']) / 1e10-1e-5)\n",
    "\n",
    "# df_train_x['A_a_m2'] = 1.\n",
    "\n",
    "# df_train_x['A_b_m2'] = 1.\n",
    "\n",
    "# df_train_x['n_He_exc_a_atoms_m3'] = df_train_x['n_He_exc_a_atoms_m3'] / 1e17 if np.min(df_train_x['n_He_exc_a_atoms_m3']) > 0 else df_train_x['n_He_exc_a_atoms_m3'] / 1e17 - (np.min(df_train_x['n_He_exc_a_atoms_m3']) / 1e17-1e-5)\n",
    "\n",
    "def rescale(g):\n",
    "    for i in range(0,g.shape[1]):\n",
    "        if np.min(np.abs(g[:,i])) ==0:\n",
    "            n = 0\n",
    "        else:\n",
    "            n = np.mean((np.log10(np.min(np.abs(g[:,i]))), np.log10(np.max(np.abs(g[:,i])))))\n",
    "        if n<0:\n",
    "                g[:,i] = g[:,i]/10**np.ceil(n) if np.min(g[:,i]) > 0 else g[:,i]/10**np.ceil(n) - (np.min(g[:,i]) / 10**np.ceil(n)-1e-5)\n",
    "        else:\n",
    "            g[:,i] = g[:,i]/10**np.floor(n) if np.min(g[:,i]) > 0 else g[:,i]/10**np.floor(n) - (np.min(g[:,i]) / 10**np.floor(n)-1e-5)\n",
    "    return g\n",
    "\n",
    "def rescale_vec(g):\n",
    "    if np.min(np.abs(g)) ==0:\n",
    "        n = 0\n",
    "    else:\n",
    "        n = np.mean((np.log10(np.min(np.abs(g))), np.log10(np.max(np.abs(g)))))\n",
    "    if n<0:\n",
    "            g= g/10**np.ceil(n) if np.min(g) > 0 else g/10**np.ceil(n) - (np.min(g) / 10**np.ceil(n)-1e-5)\n",
    "    else:\n",
    "        g = g/10**np.floor(n) if np.min(g) > 0 else g/10**np.floor(n) - (np.min(g) / 10**np.floor(n)-1e-5)\n",
    "    return g"
   ]
  },
  {
   "cell_type": "code",
   "execution_count": 11,
   "metadata": {
    "ExecuteTime": {
     "end_time": "2023-05-31T02:42:27.706539Z",
     "start_time": "2023-05-31T02:42:27.668685Z"
    },
    "scrolled": false
   },
   "outputs": [
    {
     "name": "stdout",
     "output_type": "stream",
     "text": [
      "['Volume_m3', 'n_e_electrons_m3', 'n_g_atoms_m3', 'e_c_As', 'A_tot_m3', 'E_period_kgm2_s2', 'y_exc_a_kgm5_s3_atoms2', 'y_iz_a_kgm5_s3_atoms2', 'y_iz_exc_a_kgm5_s3_atoms2', 'y_elastic_kgm5_s3_atoms2', 't_a_seconds', 'n_sa_atoms_m3', 'n_sb_atoms_m3', 'V_p_ta_kgm2_s3_A', 't_b_seconds', 'u_B_m_s', 'V_p_tb_kgm2_s3_A', 'v_e_m_s', 'n_He_exc_a_atoms_m3', 'epsilon_A2s4_kg_m3']\n",
      "[[ 3 -3 -3  0  2  2  5  5  5  5  0 -3 -3  2  0  1  2  1 -3 -3]\n",
      " [ 0  0  0  1  0 -2 -3 -3 -3 -3  1  0  0 -3  1 -1 -3 -1  0  4]\n",
      " [ 0  1  1  0  0  0 -2 -2 -2 -2  0  1  1  0  0  0  0  0  1  0]\n",
      " [ 0  0  0  0  0  1  1  1  1  1  0  0  0  1  0  0  1  0  0 -1]\n",
      " [ 0  0  0  1  0  0  0  0  0  0  0  0  0 -1  0  0 -1  0  0  2]\n",
      " [ 0  0  0  0  0  0  0  0  0  0  0  0  0  0  0  0  0  0  0  0]]\n"
     ]
    }
   ],
   "source": [
    "#                   0             1           2                    3                   4                   5           6                7                    8                     9                        10                  11                  12                      13                          \n",
    "#df1_names = [ 't_a_seconds', 'Q_a_As', 'V_p_ta_kgm2_s3_A','T_e_a_kgm2_s3_A', 'n_He_exc_a_atoms_m3', 'u_B_a_m_s', 'v_e_a_m_s', 'K_2_iz_a_m3_s_atom','K_loss_a_m6_s_atom2', 'K_iz_exc_a_m3_s_atom', 'K_exc_a_m3_s_atom', 'K_iz_a_m3_s_atom', 'K_elastic_a_m3_s_atom', 'E_elastic_a_kgm2_s2' ]\n",
    "\n",
    "\n",
    "df_time_a = rescale(np.array(pd.read_excel(df_2, sheet_name='time_a_data').iloc[:,1:]))\n",
    "df_time_a_units = np.array(pd.read_excel(df_2, sheet_name='time_a_data_units').iloc[:,1:])\n",
    "df_time_a_n = pd.read_excel(df_2, sheet_name='time_a_data_names').iloc[:,1:]\n",
    "time_a_n= [df_time_a_n.iloc[0,i] for i in range(0,df_time_a_n.shape[1])]\n",
    "#print(df_time_a_n)\n",
    "#print(df_time_a_units)\n",
    "\n",
    "\n",
    "#                   0             1                2               3                   4              5          6             7                   8                    9                       10              11                   12                   13                  \n",
    "#df2_names =  [ 't_b_seconds', 'Q_b_As', 'V_p_tb_kgm2_s3_A','T_e_kgm2_s3_A', 'n_He_exc_atoms_m3', 'u_B_m_s', 'v_e_m_s','K_2_iz_m3_s_atom','K_loss_m6_s_atom2', 'K_iz_exc_m3_s_atom', 'K_exc_m3_s_atom', 'K_iz_m3_s_atom', 'K_elastic_m3_s_atom', 'E_elastic_kgm2_s2' ]\n",
    "df_time_b = rescale(np.array(pd.read_excel(df_2, sheet_name='time_b_data').iloc[:,1:]))\n",
    "df_time_b_units = np.array(pd.read_excel(df_2, sheet_name='time_b_data_units').iloc[:,1:])\n",
    "df_time_b_n = pd.read_excel(df_2, sheet_name='time_b_data_names').iloc[:,1:]\n",
    "time_b_n= [df_time_b_n.iloc[0,i] for i in range(0,df_time_b_n.shape[1])]\n",
    "\n",
    "\n",
    "#                    0                   1                 2               3                 4               5               6                 7                  8           9        10        11                12                   13               14                   \n",
    "#df3_names = ['E_period_kgm2_s2', 'n_sa_atoms_m3','n_sb_atoms_m3', 'n_e_electrons_m3', 'n_g_atoms_m3', 'T_g_kelvin', 'E_iz_kgm2_s2', 'E_iz_exc_kgm2_s2', 'E_exc_kgm2_s2', 'e_c_As', 'm_e_kg', 'M_He_kg',  'epsilon_A2s4_kg_m3', 'eps_0_A2s4_kg_m3', 'k_b_kgm2_s2_K']\n",
    "df_other = rescale(np.array(pd.read_excel(df_2, sheet_name='other_data').iloc[:,1:]))\n",
    "df_other_units = np.array(pd.read_excel(df_2, sheet_name='other_data_units').iloc[:,1:])\n",
    "df_other_n = pd.read_excel(df_2, sheet_name='other_data_names').iloc[:,1:]\n",
    "other_n= [df_other_n.iloc[0,i] for i in range(0,df_other_n.shape[1])]\n",
    "\n",
    "#                    0                 1             2        3        4         5            6            7            8               9              10                 11                      12                      \n",
    "#df4_names = ['Volume_rxtor_m2', 'V_all_beads_m2','A_a_m2','A_b_m2', 'h_m', 'Volume_m3', 'A_bead_m2', 'A_tot_m3', 'frequency_Hz', 'Flow_m3_s', 'temp_C_gas_K', 'Set_Voltage_kgm2_s3_A', 'pulse_time_seconds' ]\n",
    "df_exp = rescale(np.array(pd.read_excel(df_2, sheet_name='Experiment_Design_data').iloc[:,1:]))\n",
    "df_exp_units = np.array(pd.read_excel(df_2, sheet_name='Experiment_Data_units').iloc[:,1:])\n",
    "df_exp_n = pd.read_excel(df_2, sheet_name='Experiment_Data_names').iloc[:,1:]\n",
    "exp_n= [df_exp_n.iloc[0,i] for i in range(0,df_exp_n.shape[1])]\n",
    "\n",
    "\n",
    "\n",
    "#energy balance expanded terms\n",
    "#terms to add: epsilon, other[12]\n",
    "a = df_time_b[:,5].shape[0] #this is just the number of data points\n",
    "\n",
    "# get gamma's!\n",
    "gammas= rescale(np.array(pd.read_excel(df_y, sheet_name='inputs').iloc[:,1:]))\n",
    "\n",
    "y_exc_a = gammas[:,8] #K_exc_a * E_exc_a\n",
    "y_exc_a_units = np.array([5,-3,-2,1,0,0])\n",
    "\n",
    "y_iz_a = gammas[:,9]#K_iz_a*E_iz\n",
    "y_iz_a_units = np.array([5,-3,-2,1,0,0])\n",
    "\n",
    "y_iz_exc_a = gammas[:,10]#K_iz_exc_a*E_iz_exc\n",
    "y_iz_exc_a_units = np.array([5,-3,-2,1,0,0])\n",
    "\n",
    "y_elastic = gammas[:,11]#K_elastic*E_elastic\n",
    "y_elastic_units = np.array([5,-3,-2,1,0,0])\n",
    "\n",
    "inputs = np.hstack((df_exp[:,5].reshape(a,1),df_other[:,3].reshape(a,1),df_other[:,4].reshape(a,1),df_other[:,9].reshape(a,1),df_exp[:,7].reshape(a,1),df_other[:,0].reshape(a,1),y_exc_a.reshape(a,1),y_iz_a.reshape(a,1),y_iz_exc_a.reshape(a,1),y_elastic.reshape(a,1),df_time_a[:,0].reshape(a,1), df_other[:,1].reshape(a,1), df_other[:,2].reshape(a,1),df_time_a[:,2].reshape(a,1),df_time_b[:,0].reshape(a,1), df_time_b[:,5].reshape(a,1),df_time_b[:,2].reshape(a,1),df_time_b[:,6].reshape(a,1),df_time_a[:,4].reshape(a,1), df_other[:,12].reshape(a,1)))\n",
    "D_in = np.hstack((df_exp_units[:,5].reshape(6,1),df_other_units[:,3].reshape(6,1),df_other_units[:,4].reshape(6,1),df_other_units[:,9].reshape(6,1),df_exp_units[:,7].reshape(6,1),df_other_units[:,0].reshape(6,1),y_exc_a_units.reshape(6,1),y_iz_a_units.reshape(6,1),y_iz_exc_a_units.reshape(6,1),y_elastic_units.reshape(6,1),df_time_a_units[:,0].reshape(6,1),df_other_units[:,1].reshape(6,1),df_other_units[:,2].reshape(6,1),df_time_a_units[:,2].reshape(6,1),df_time_b_units[:,0].reshape(6,1),df_time_b_units[:,5].reshape(6,1),df_time_b_units[:,2].reshape(6,1),df_time_b_units[:,6].reshape(6,1),df_time_a_units[:,4].reshape(6,1), df_other_units[:,12].reshape(6,1)))\n",
    "variables = [exp_n[5],other_n[3],other_n[4],other_n[9],exp_n[7],other_n[0],'y_exc_a_kgm5_s3_atoms2','y_iz_a_kgm5_s3_atoms2','y_iz_exc_a_kgm5_s3_atoms2','y_elastic_kgm5_s3_atoms2',time_a_n[0],other_n[1],other_n[2],time_a_n[2],time_b_n[0],time_b_n[5],time_b_n[2],time_b_n[6],time_a_n[4],other_n[12]]\n",
    "print(variables)\n",
    "print(D_in)\n",
    "\n",
    "\n",
    "\n",
    "\n",
    "#energy balance terms\n",
    "# #now to construct  'Volume_m3', 'n_e_atoms_m3', 'n_g_atoms_m3', 'e_c_As', 'A_tot', 'E_kgm2_s2_atom', 'y_exc_a_kgm5_s3_atoms2', 'y_iz_a_kgm5_s3_atoms2', 'y_iz_exc_a_kgm5_s3_atoms2', 'y_elastic_kgm5_s3_atoms2', 't_a_s', 'n_sa_atoms_m3', 'n_sb_atoms_m3', 'V_p_ta_volts', 't_b_s', 'u_B_m_s', 'V_p_tb_volts', 'v_e_m_s', 'n_He_exc_a_atoms_m3'  \n",
    "# a = df_time_b[:,5].shape[0] #this is just the number of data points\n",
    "\n",
    "# # get gamma's!\n",
    "# gammas= rescale(np.array(pd.read_excel(df_y, sheet_name='inputs').iloc[:,1:]))\n",
    "\n",
    "# y_exc_a = gammas[:,8] #K_exc_a * E_exc_a\n",
    "# y_exc_a_units = np.array([5,-3,-2,1,0,0])\n",
    "\n",
    "# y_iz_a = gammas[:,9]#K_iz_a*E_iz\n",
    "# y_iz_a_units = np.array([5,-3,-2,1,0,0])\n",
    "\n",
    "# y_iz_exc_a = gammas[:,10]#K_iz_exc_a*E_iz_exc\n",
    "# y_iz_exc_a_units = np.array([5,-3,-2,1,0,0])\n",
    "\n",
    "# y_elastic = gammas[:,11]#K_elastic*E_elastic\n",
    "# y_elastic_units = np.array([5,-3,-2,1,0,0])\n",
    "\n",
    "# inputs = np.hstack((df_exp[:,5].reshape(a,1),df_other[:,3].reshape(a,1),df_other[:,4].reshape(a,1),df_other[:,9].reshape(a,1),df_exp[:,7].reshape(a,1),df_other[:,0].reshape(a,1),y_exc_a.reshape(a,1),y_iz_a.reshape(a,1),y_iz_exc_a.reshape(a,1),y_elastic.reshape(a,1),df_time_a[:,0].reshape(a,1), df_other[:,1].reshape(a,1), df_other[:,2].reshape(a,1),df_time_a[:,2].reshape(a,1),df_time_b[:,0].reshape(a,1), df_time_b[:,5].reshape(a,1),df_time_b[:,2].reshape(a,1),df_time_b[:,6].reshape(a,1),df_time_a[:,4].reshape(a,1)))\n",
    "# D_in = np.hstack((df_exp_units[:,5].reshape(6,1),df_other_units[:,3].reshape(6,1),df_other_units[:,4].reshape(6,1),df_other_units[:,9].reshape(6,1),df_exp_units[:,7].reshape(6,1),df_other_units[:,0].reshape(6,1),y_exc_a_units.reshape(6,1),y_iz_a_units.reshape(6,1),y_iz_exc_a_units.reshape(6,1),y_elastic_units.reshape(6,1),df_time_a_units[:,0].reshape(6,1),df_other_units[:,1].reshape(6,1),df_other_units[:,2].reshape(6,1),df_time_a_units[:,2].reshape(6,1),df_time_b_units[:,0].reshape(6,1),df_time_b_units[:,5].reshape(6,1),df_time_b_units[:,2].reshape(6,1),df_time_b_units[:,6].reshape(6,1),df_time_a_units[:,4].reshape(6,1)))\n",
    "# variables = [exp_n[5],other_n[3],other_n[4],other_n[9],exp_n[7],other_n[0],'y_exc_a_kgm5_s3_atoms2','y_iz_a_kgm5_s3_atoms2','y_iz_exc_a_kgm5_s3_atoms2','y_elastic_kgm5_s3_atoms2',time_a_n[0],other_n[1],other_n[2],time_a_n[2],time_b_n[0],time_b_n[5],time_b_n[2],time_b_n[6],time_a_n[4]]\n",
    "# print(variables)\n",
    "# print(D_in)\n",
    "\n",
    "\n",
    "\n",
    "\n",
    "\n",
    "\n",
    "#base terms + F +K_iz, base terms: 'uB', 'Atot', 'ta', 'tb', 'Volume', 'Ka', 'K2a', 'Kexca', 'nsa', 'nsb',  'nHeexca,\n",
    "#F is exp_n[9], K_iz is time_b_n[11]\n",
    "#a = df_time_b[:,5].shape[0]\n",
    "#inputs = np.hstack((df_time_b[:,5].reshape(a,1),df_exp[:,7].reshape(a,1),df_time_a[:,0].reshape(a,1),df_time_b[:,0].reshape(a,1),df_exp[:,5].reshape(a,1),df_time_a[:,11].reshape(a,1),df_time_a[:,7].reshape(a,1),df_time_a[:,9].reshape(a,1),df_other[:,1].reshape(a,1),df_exp[:,2].reshape(a,1),df_time_a[:,4].reshape(a,1),df_exp[:,9].reshape(a,1),df_time_b[:,11].reshape(a,1)))\n",
    "#D_in = np.hstack((df_time_b_units[:,5].reshape(6,1),df_exp_units[:,7].reshape(6,1),df_time_a_units[:,0].reshape(6,1),df_time_b_units[:,0].reshape(6,1),df_exp_units[:,5].reshape(6,1),df_time_a_units[:,11].reshape(6,1),df_time_a_units[:,7].reshape(6,1),df_time_a_units[:,9].reshape(6,1),df_other_units[:,1].reshape(6,1),df_other_units[:,2].reshape(6,1),df_time_a_units[:,4].reshape(6,1),df_exp_units[:,9].reshape(6,1),df_time_b_units[:,11].reshape(6,1)))\n",
    "#variables = [time_b_n[5],exp_n[7],time_a_n[0],time_b_n[0],exp_n[5],time_a_n[11],time_a_n[7],time_a_n[9],other_n[1],other_n[2],time_a_n[4],exp_n[9], time_b_n[11]]\n",
    "#print(variables)\n",
    "#print(D_in)\n",
    "\n",
    "\n",
    "#base terms + F, base terms: 'uB', 'Atot', 'ta', 'tb', 'Volume', 'Ka', 'K2a', 'Kexca', 'nsa', 'nsb',  'nHeexca,\n",
    "#F is exp_n[9]\n",
    "#a = df_time_b[:,5].shape[0]\n",
    "#inputs = np.hstack((df_time_b[:,5].reshape(a,1),df_exp[:,7].reshape(a,1),df_time_a[:,0].reshape(a,1),df_time_b[:,0].reshape(a,1),df_exp[:,5].reshape(a,1),df_time_a[:,11].reshape(a,1),df_time_a[:,7].reshape(a,1),df_time_a[:,9].reshape(a,1),df_other[:,1].reshape(a,1),df_exp[:,2].reshape(a,1),df_time_a[:,4].reshape(a,1),df_exp[:,9].reshape(a,1)))\n",
    "#D_in = np.hstack((df_time_b_units[:,5].reshape(6,1),df_exp_units[:,7].reshape(6,1),df_time_a_units[:,0].reshape(6,1),df_time_b_units[:,0].reshape(6,1),df_exp_units[:,5].reshape(6,1),df_time_a_units[:,11].reshape(6,1),df_time_a_units[:,7].reshape(6,1),df_time_a_units[:,9].reshape(6,1),df_other_units[:,1].reshape(6,1),df_other_units[:,2].reshape(6,1),df_time_a_units[:,4].reshape(6,1),df_exp_units[:,9].reshape(6,1)))\n",
    "#variables = [time_b_n[5],exp_n[7],time_a_n[0],time_b_n[0],exp_n[5],time_a_n[11],time_a_n[7],time_a_n[9],other_n[1],other_n[2],time_a_n[4],exp_n[9]]\n",
    "#print(variables)\n",
    "#print(D_in)\n",
    "\n",
    "\n",
    "#base terms  'uB', 'Atot', 'ta', 'tb', 'Volume', 'Ka', 'K2a', 'Kexca', 'nsa', 'nsb',  'nHeexca,\n",
    "#a = df_time_b[:,5].shape[0]\n",
    "#inputs = np.hstack((df_time_b[:,5].reshape(a,1),df_exp[:,7].reshape(a,1),df_time_a[:,0].reshape(a,1),df_time_b[:,0].reshape(a,1),df_exp[:,5].reshape(a,1),df_time_a[:,11].reshape(a,1),df_time_a[:,7].reshape(a,1),df_time_a[:,9].reshape(a,1),df_other[:,1].reshape(a,1),df_exp[:,2].reshape(a,1),df_time_a[:,4].reshape(a,1)))\n",
    "#D_in = np.hstack((df_time_b_units[:,5].reshape(6,1),df_exp_units[:,7].reshape(6,1),df_time_a_units[:,0].reshape(6,1),df_time_b_units[:,0].reshape(6,1),df_exp_units[:,5].reshape(6,1),df_time_a_units[:,11].reshape(6,1),df_time_a_units[:,7].reshape(6,1),df_time_a_units[:,9].reshape(6,1),df_other_units[:,1].reshape(6,1),df_other_units[:,2].reshape(6,1),df_time_a_units[:,4].reshape(6,1)))\n",
    "#variables = [time_b_n[5],exp_n[7],time_a_n[0],time_b_n[0],exp_n[5],time_a_n[11],time_a_n[7],time_a_n[9],other_n[1],other_n[2],time_a_n[4]]\n",
    "#print(variables)\n",
    "#print(D_in)\n",
    "\n",
    "#to compare to ketong's original code only\n",
    "#not to construct  'uB', 'Atot', 'ta', 'tb', 'Volume', 'Ka', 'K2a', 'Kexca', 'nsa', 'nsb', 'Aa', 'Ab', 'nHeexca,\n",
    "#a = df_time_b[:,5].shape[0] #this is just the number of data points\n",
    "#inputs = np.hstack((df_time_b[:,5].reshape(a,1),df_exp[:,7].reshape(a,1),df_time_a[:,0].reshape(a,1),df_time_b[:,0].reshape(a,1),df_exp[:,5].reshape(a,1),df_time_a[:,11].reshape(a,1),df_time_a[:,7].reshape(a,1),df_time_a[:,9].reshape(a,1),df_other[:,1].reshape(a,1),df_other[:,2].reshape(a,1),df_exp[:,2].reshape(a,1),df_exp[:,3].reshape(a,1),df_time_a[:,4].reshape(a,1)))\n",
    "#D_in = np.hstack((df_time_b_units[:,5].reshape(6,1),df_exp_units[:,7].reshape(6,1),df_time_a_units[:,0].reshape(6,1),df_time_b_units[:,0].reshape(6,1),df_exp_units[:,5].reshape(6,1),df_time_a_units[:,11].reshape(6,1),df_time_a_units[:,7].reshape(6,1),df_time_a_units[:,9].reshape(6,1),df_other_units[:,1].reshape(6,1),df_other_units[:,2].reshape(6,1),df_exp_units[:,2].reshape(6,1),df_exp_units[:,3].reshape(6,1),df_time_a_units[:,4].reshape(6,1)))\n",
    "#variables = [time_b_n[5],exp_n[7],time_a_n[0],time_b_n[0],exp_n[5],time_a_n[11],time_a_n[7],time_a_n[9],other_n[1],other_n[2],exp_n[2],exp_n[3],time_a_n[4]]\n",
    "#print(variables)\n",
    "#print(D_in)\n"
   ]
  },
  {
   "cell_type": "code",
   "execution_count": 12,
   "metadata": {},
   "outputs": [
    {
     "name": "stdout",
     "output_type": "stream",
     "text": [
      "(166, 20)\n",
      "(6, 20)\n",
      "[ 0.24551356  1.5830906   2.9058364   0.16022     0.66788249  0.09334615\n",
      "  1.47447755  3.55100231  0.64086031  0.24316137  0.114       0.80947362\n",
      "  0.62661768  6.33354595  0.999886    1.75139783 10.02802995  2.38683606\n",
      "  1.26113486  0.407284  ]\n"
     ]
    }
   ],
   "source": [
    "print(inputs.shape)\n",
    "print(D_in.shape)\n",
    "print(inputs[0,:])"
   ]
  },
  {
   "cell_type": "code",
   "execution_count": null,
   "metadata": {},
   "outputs": [],
   "source": []
  },
  {
   "cell_type": "code",
   "execution_count": 189,
   "metadata": {
    "ExecuteTime": {
     "end_time": "2023-05-31T02:42:27.707010Z",
     "start_time": "2023-05-31T02:42:27.700438Z"
    }
   },
   "outputs": [
    {
     "name": "stdout",
     "output_type": "stream",
     "text": [
      "[0.12719865 0.12571044 0.11651852 0.12623569 0.12430976 0.12133333\n",
      " 0.12457239 0.12465993 0.11993266 0.12054545 0.1200202  0.12107071\n",
      " 0.12702357 0.11511785 0.12142088 0.12150842 0.12352189 0.12045791\n",
      " 0.12045791 0.12107071 0.11958249 0.12185859 0.12098316 0.12159596\n",
      " 0.11967003 0.12212121 0.11914478 0.11870707 0.11800673 0.11809428\n",
      " 0.12054545 0.11958249 0.12054545 0.12054545 0.12150842 0.12308418\n",
      " 0.12220875 0.1222963  0.12098316 0.12054545 0.12185859 0.12290909\n",
      " 0.12194613 0.12212121 0.1256229  0.12430976 0.12693603 0.12781145\n",
      " 0.14925926 0.156      0.16055219 0.16221549 0.14645791 0.13052525\n",
      " 0.12124579 0.12194613 0.11975758 0.13367677 0.15591246 0.21456566\n",
      " 0.22822222 0.21701684 0.12894949 0.12474747 0.12404714 0.16965657\n",
      " 0.2649899  0.27917172 0.1399798  0.13534007 0.13358923 0.12159596\n",
      " 0.12142088 0.12107071 0.12255892 0.11931987 0.12019529 0.11861953\n",
      " 0.12072054 0.11931987 0.11940741 0.120633   0.12010774 0.13954209\n",
      " 0.12824916 0.12737374 0.12518519 0.11660606 0.11686869 0.11721886\n",
      " 0.12430976 0.11993266 0.1166936  0.11625589 0.12448485 0.11555556\n",
      " 0.1239596  0.12317172 0.12247138 0.12807407 0.11012795 0.11818182\n",
      " 0.12623569 0.12142088 0.12159596 0.12107071 0.12107071 0.11993266\n",
      " 0.12045791 0.12238384 0.12238384 0.13148822 0.13428956 0.1377037\n",
      " 0.13892929 0.13323906 0.13306397 0.1256229  0.12264646 0.12142088\n",
      " 0.13569024 0.13980471 0.16694276 0.17525926 0.15468687 0.14146801\n",
      " 0.1272862  0.21675421 0.14243098 0.13656566 0.12877441 0.1272862\n",
      " 0.1233468  0.12544781 0.11879461 0.12212121 0.12404714 0.12404714\n",
      " 0.12247138 0.1222963  0.12378451 0.12282155 0.12264646 0.12255892\n",
      " 0.12737374 0.1272862  0.1316633  0.1256229  0.12509764 0.12571044\n",
      " 0.12719865 0.12492256 0.12290909 0.12492256 0.12649832 0.12772391\n",
      " 0.14041751 0.14111785 0.14444444 0.12527273 0.12273401 0.12807407\n",
      " 0.12903704 0.14540741 0.18716498 0.12299663]\n",
      "[ 4.84333333  4.78666667  4.43666667  4.80666667  4.73333333  4.62\n",
      "  4.74333333  4.74666667  4.56666667  4.59        4.57        4.61\n",
      "  4.83666667  4.38333333  4.62333333  4.62666667  4.70333333  4.58666667\n",
      "  4.58666667  4.61        4.55333333  4.64        4.60666667  4.63\n",
      "  4.55666667  4.65        4.53666667  4.52        4.49333333  4.49666667\n",
      "  4.59        4.55333333  4.59        4.59        4.62666667  4.68666667\n",
      "  4.65333333  4.65666667  4.60666667  4.59        4.64        4.68\n",
      "  4.64333333  4.65        4.78333333  4.73333333  4.83333333  4.86666667\n",
      "  5.68333333  5.94        6.11333333  6.17666667  5.57666667  4.97\n",
      "  4.61666667  4.64333333  4.56        5.09        5.93666667  8.17\n",
      "  8.69        8.26333333  4.91        4.75        4.72333333  6.46\n",
      " 10.09       10.63        5.33        5.15333333  5.08666667  4.63\n",
      "  4.62333333  4.61        4.66666667  4.54333333  4.57666667  4.51666667\n",
      "  4.59666667  4.54333333  4.54666667  4.59333333  4.57333333  5.31333333\n",
      "  4.88333333  4.85        4.76666667  4.44        4.45        4.46333333\n",
      "  4.73333333  4.56666667  4.44333333  4.42666667  4.74        4.4\n",
      "  4.72        4.69        4.66333333  4.87666667  4.19333333  4.5\n",
      "  4.80666667  4.62333333  4.63        4.61        4.61        4.56666667\n",
      "  4.58666667  4.66        4.66        5.00666667  5.11333333  5.24333333\n",
      "  5.29        5.07333333  5.06666667  4.78333333  4.67        4.62333333\n",
      "  5.16666667  5.32333333  6.35666667  6.67333333  5.89        5.38666667\n",
      "  4.84666667  8.25333333  5.42333333  5.2         4.90333333  4.84666667\n",
      "  4.69666667  4.77666667  4.52333333  4.65        4.72333333  4.72333333\n",
      "  4.66333333  4.65666667  4.71333333  4.67666667  4.67        4.66666667\n",
      "  4.85        4.84666667  5.01333333  4.78333333  4.76333333  4.78666667\n",
      "  4.84333333  4.75666667  4.68        4.75666667  4.81666667  4.86333333\n",
      "  5.34666667  5.37333333  5.5         4.77        4.67333333  4.87666667\n",
      "  4.91333333  5.53666667  7.12666667  4.68333333]\n"
     ]
    }
   ],
   "source": [
    "#For predicting Te/Tg: keep top block, comment bottom block. For predicting ne/ng, keep bottom block, comment top block.\n",
    "\n",
    "\n",
    "\n",
    "\n",
    "#### TOP BLOCK ####\n",
    "\n",
    "df_out = pd.read_excel(df_2, sheet_name='time_b_data').iloc[:,1:]\n",
    "T_e = np.array(df_out.iloc[:,3])\n",
    "df_out = pd.read_excel(df_2, sheet_name='other_data').iloc[:,1:]\n",
    "T_g = np.array(df_out.iloc[:,5])*0.026/297\n",
    "T_e_no_dim = T_e/T_g\n",
    "print(T_e)\n",
    "output = rescale_vec(T_e_no_dim)\n",
    "print(output)\n",
    "D_out = np.array(\n",
    "    [\n",
    "        [0.],\n",
    "        [0.],\n",
    "        [0.],\n",
    "        [0.],\n",
    "        [0,],\n",
    "        [0.]\n",
    "    ],\n",
    "\n",
    ")\n",
    "\n",
    "\n",
    "\n",
    "#### BOTTOM BLOCK ####\n",
    "\n",
    "# df_out = pd.read_excel(df_2, sheet_name='other_data').iloc[:,1:]\n",
    "# n_e = np.array(df_out.iloc[:,3])\n",
    "# df_out = pd.read_excel(df_2, sheet_name='other_data').iloc[:,1:]\n",
    "# n_g = np.array(df_out.iloc[:,4])\n",
    "# n_e_no_dim = n_e/n_g\n",
    "# print(n_e)\n",
    "# print(n_e_no_dim)\n",
    "# output = rescale_vec(n_e_no_dim)\n",
    "# print(output)\n",
    "# D_out = np.array(\n",
    "#     [\n",
    "#         [0.],\n",
    "#         [0.],\n",
    "#         [0.],\n",
    "#         [0.],\n",
    "#         [0,],\n",
    "#         [0.]\n",
    "#     ],\n",
    "\n",
    "# )\n"
   ]
  },
  {
   "cell_type": "code",
   "execution_count": 190,
   "metadata": {
    "ExecuteTime": {
     "end_time": "2023-05-31T02:42:27.754325Z",
     "start_time": "2023-05-31T02:42:27.738571Z"
    }
   },
   "outputs": [
    {
     "data": {
      "text/plain": [
       "tensor([[ 0.0000, -0.6667,  0.0000,  0.0000,  0.0000,  1.0000,  0.0000,  0.0000,\n",
       "          0.0000,  1.0000, -1.3333,  0.0000, -1.3333,  0.0000,  0.3333],\n",
       "        [-1.0000,  0.0000,  0.0000,  0.0000,  0.0000,  2.0000, -1.0000, -1.0000,\n",
       "          0.0000,  2.0000, -2.0000,  0.0000, -2.0000, -1.0000,  0.0000],\n",
       "        [ 1.0000,  0.0000,  0.0000,  0.0000,  0.0000,  0.0000,  0.0000,  0.0000,\n",
       "          0.0000,  0.0000,  0.0000,  0.0000,  0.0000,  0.0000,  0.0000],\n",
       "        [ 0.0000,  0.0000,  0.0000,  0.0000,  0.0000,  0.0000,  0.0000,  0.0000,\n",
       "          1.0000,  0.0000,  0.0000,  1.0000,  0.0000,  0.0000, -2.0000],\n",
       "        [ 0.0000,  1.0000,  0.0000,  0.0000,  0.0000,  0.0000,  0.0000,  0.0000,\n",
       "          0.0000,  0.0000,  0.0000,  0.0000,  0.0000,  0.0000,  0.0000],\n",
       "        [ 0.0000,  0.0000,  0.0000,  0.0000,  0.0000, -1.0000,  0.0000,  0.0000,\n",
       "         -1.0000, -1.0000,  1.0000, -1.0000,  1.0000,  0.0000,  1.0000],\n",
       "        [ 0.0000,  0.0000, -1.0000, -1.0000, -1.0000,  1.0000,  0.0000,  0.0000,\n",
       "          0.0000,  1.0000, -1.0000,  0.0000, -1.0000,  0.0000,  0.0000],\n",
       "        [ 0.0000,  0.0000,  1.0000,  0.0000,  0.0000,  0.0000,  0.0000,  0.0000,\n",
       "          0.0000,  0.0000,  0.0000,  0.0000,  0.0000,  0.0000,  0.0000],\n",
       "        [ 0.0000,  0.0000,  0.0000,  1.0000,  0.0000,  0.0000,  0.0000,  0.0000,\n",
       "          0.0000,  0.0000,  0.0000,  0.0000,  0.0000,  0.0000,  0.0000],\n",
       "        [ 0.0000,  0.0000,  0.0000,  0.0000,  1.0000,  0.0000,  0.0000,  0.0000,\n",
       "          0.0000,  0.0000,  0.0000,  0.0000,  0.0000,  0.0000,  0.0000],\n",
       "        [ 0.0000,  0.0000,  0.0000,  0.0000,  0.0000,  1.0000,  0.0000,  0.0000,\n",
       "          0.0000,  0.0000,  0.0000,  0.0000,  0.0000,  0.0000,  0.0000],\n",
       "        [ 0.0000,  0.0000,  0.0000,  0.0000,  0.0000,  0.0000,  1.0000,  0.0000,\n",
       "          0.0000,  0.0000,  0.0000,  0.0000,  0.0000,  0.0000,  0.0000],\n",
       "        [ 0.0000,  0.0000,  0.0000,  0.0000,  0.0000,  0.0000,  0.0000,  1.0000,\n",
       "          0.0000,  0.0000,  0.0000,  0.0000,  0.0000,  0.0000,  0.0000],\n",
       "        [ 0.0000,  0.0000,  0.0000,  0.0000,  0.0000,  0.0000,  0.0000,  0.0000,\n",
       "          1.0000,  0.0000,  0.0000,  0.0000,  0.0000,  0.0000,  0.0000],\n",
       "        [ 0.0000,  0.0000,  0.0000,  0.0000,  0.0000,  0.0000,  0.0000,  0.0000,\n",
       "          0.0000,  1.0000,  0.0000,  0.0000,  0.0000,  0.0000,  0.0000],\n",
       "        [ 0.0000,  0.0000,  0.0000,  0.0000,  0.0000,  0.0000,  0.0000,  0.0000,\n",
       "          0.0000,  0.0000,  1.0000,  0.0000,  0.0000,  0.0000,  0.0000],\n",
       "        [ 0.0000,  0.0000,  0.0000,  0.0000,  0.0000,  0.0000,  0.0000,  0.0000,\n",
       "          0.0000,  0.0000,  0.0000,  1.0000,  0.0000,  0.0000,  0.0000],\n",
       "        [ 0.0000,  0.0000,  0.0000,  0.0000,  0.0000,  0.0000,  0.0000,  0.0000,\n",
       "          0.0000,  0.0000,  0.0000,  0.0000,  1.0000,  0.0000,  0.0000],\n",
       "        [ 0.0000,  0.0000,  0.0000,  0.0000,  0.0000,  0.0000,  0.0000,  0.0000,\n",
       "          0.0000,  0.0000,  0.0000,  0.0000,  0.0000,  1.0000,  0.0000],\n",
       "        [ 0.0000,  0.0000,  0.0000,  0.0000,  0.0000,  0.0000,  0.0000,  0.0000,\n",
       "          0.0000,  0.0000,  0.0000,  0.0000,  0.0000,  0.0000,  1.0000]],\n",
       "       dtype=torch.float64)"
      ]
     },
     "execution_count": 190,
     "metadata": {},
     "output_type": "execute_result"
    }
   ],
   "source": [
    "fff = DimensionlessLearning(D_in, D_out)\n",
    "fff.basis_col"
   ]
  },
  {
   "cell_type": "code",
   "execution_count": 191,
   "metadata": {},
   "outputs": [
    {
     "data": {
      "text/plain": [
       "tensor([[ 0.0000, -0.6667,  0.0000,  0.0000,  0.0000,  1.0000,  0.0000,  0.0000,\n",
       "          0.0000,  1.0000, -1.3333,  0.0000, -1.3333,  0.0000,  0.3333],\n",
       "        [-1.0000,  0.0000,  0.0000,  0.0000,  0.0000,  2.0000, -1.0000, -1.0000,\n",
       "          0.0000,  2.0000, -2.0000,  0.0000, -2.0000, -1.0000,  0.0000],\n",
       "        [ 1.0000,  0.0000,  0.0000,  0.0000,  0.0000,  0.0000,  0.0000,  0.0000,\n",
       "          0.0000,  0.0000,  0.0000,  0.0000,  0.0000,  0.0000,  0.0000],\n",
       "        [ 0.0000,  0.0000,  0.0000,  0.0000,  0.0000,  0.0000,  0.0000,  0.0000,\n",
       "          1.0000,  0.0000,  0.0000,  1.0000,  0.0000,  0.0000, -2.0000],\n",
       "        [ 0.0000,  1.0000,  0.0000,  0.0000,  0.0000,  0.0000,  0.0000,  0.0000,\n",
       "          0.0000,  0.0000,  0.0000,  0.0000,  0.0000,  0.0000,  0.0000],\n",
       "        [ 0.0000,  0.0000,  0.0000,  0.0000,  0.0000, -1.0000,  0.0000,  0.0000,\n",
       "         -1.0000, -1.0000,  1.0000, -1.0000,  1.0000,  0.0000,  1.0000],\n",
       "        [ 0.0000,  0.0000, -1.0000, -1.0000, -1.0000,  1.0000,  0.0000,  0.0000,\n",
       "          0.0000,  1.0000, -1.0000,  0.0000, -1.0000,  0.0000,  0.0000],\n",
       "        [ 0.0000,  0.0000,  1.0000,  0.0000,  0.0000,  0.0000,  0.0000,  0.0000,\n",
       "          0.0000,  0.0000,  0.0000,  0.0000,  0.0000,  0.0000,  0.0000],\n",
       "        [ 0.0000,  0.0000,  0.0000,  1.0000,  0.0000,  0.0000,  0.0000,  0.0000,\n",
       "          0.0000,  0.0000,  0.0000,  0.0000,  0.0000,  0.0000,  0.0000],\n",
       "        [ 0.0000,  0.0000,  0.0000,  0.0000,  1.0000,  0.0000,  0.0000,  0.0000,\n",
       "          0.0000,  0.0000,  0.0000,  0.0000,  0.0000,  0.0000,  0.0000],\n",
       "        [ 0.0000,  0.0000,  0.0000,  0.0000,  0.0000,  1.0000,  0.0000,  0.0000,\n",
       "          0.0000,  0.0000,  0.0000,  0.0000,  0.0000,  0.0000,  0.0000],\n",
       "        [ 0.0000,  0.0000,  0.0000,  0.0000,  0.0000,  0.0000,  1.0000,  0.0000,\n",
       "          0.0000,  0.0000,  0.0000,  0.0000,  0.0000,  0.0000,  0.0000],\n",
       "        [ 0.0000,  0.0000,  0.0000,  0.0000,  0.0000,  0.0000,  0.0000,  1.0000,\n",
       "          0.0000,  0.0000,  0.0000,  0.0000,  0.0000,  0.0000,  0.0000],\n",
       "        [ 0.0000,  0.0000,  0.0000,  0.0000,  0.0000,  0.0000,  0.0000,  0.0000,\n",
       "          1.0000,  0.0000,  0.0000,  0.0000,  0.0000,  0.0000,  0.0000],\n",
       "        [ 0.0000,  0.0000,  0.0000,  0.0000,  0.0000,  0.0000,  0.0000,  0.0000,\n",
       "          0.0000,  1.0000,  0.0000,  0.0000,  0.0000,  0.0000,  0.0000],\n",
       "        [ 0.0000,  0.0000,  0.0000,  0.0000,  0.0000,  0.0000,  0.0000,  0.0000,\n",
       "          0.0000,  0.0000,  1.0000,  0.0000,  0.0000,  0.0000,  0.0000],\n",
       "        [ 0.0000,  0.0000,  0.0000,  0.0000,  0.0000,  0.0000,  0.0000,  0.0000,\n",
       "          0.0000,  0.0000,  0.0000,  1.0000,  0.0000,  0.0000,  0.0000],\n",
       "        [ 0.0000,  0.0000,  0.0000,  0.0000,  0.0000,  0.0000,  0.0000,  0.0000,\n",
       "          0.0000,  0.0000,  0.0000,  0.0000,  1.0000,  0.0000,  0.0000],\n",
       "        [ 0.0000,  0.0000,  0.0000,  0.0000,  0.0000,  0.0000,  0.0000,  0.0000,\n",
       "          0.0000,  0.0000,  0.0000,  0.0000,  0.0000,  1.0000,  0.0000],\n",
       "        [ 0.0000,  0.0000,  0.0000,  0.0000,  0.0000,  0.0000,  0.0000,  0.0000,\n",
       "          0.0000,  0.0000,  0.0000,  0.0000,  0.0000,  0.0000,  1.0000]],\n",
       "       dtype=torch.float64)"
      ]
     },
     "execution_count": 191,
     "metadata": {},
     "output_type": "execute_result"
    }
   ],
   "source": [
    "fff.basis_col"
   ]
  },
  {
   "cell_type": "code",
   "execution_count": 192,
   "metadata": {
    "ExecuteTime": {
     "end_time": "2023-05-31T02:42:27.843064Z",
     "start_time": "2023-05-31T02:42:27.750866Z"
    }
   },
   "outputs": [],
   "source": [
    "fff.read_data(inputs, output)\n"
   ]
  },
  {
   "cell_type": "code",
   "execution_count": 193,
   "metadata": {
    "ExecuteTime": {
     "end_time": "2023-05-31T02:42:27.883791Z",
     "start_time": "2023-05-31T02:42:27.758677Z"
    }
   },
   "outputs": [],
   "source": [
    "from PyDBDdim import PiLinearRegressionViaTorch\n",
    "\n",
    "\n",
    "#the code does five fold to ensure the R2 is worth while.\n",
    "# we then want to rerun the fitting on all data instead of 80% of it. The 5fold find the right number of epochs.\n",
    "# so, we re run to find the right number of epochs, and then we must store the parameters and the R2 from the 5-fold fitting.\n",
    "#"
   ]
  },
  {
   "cell_type": "code",
   "execution_count": 194,
   "metadata": {
    "ExecuteTime": {
     "end_time": "2023-05-31T02:42:27.947167Z",
     "start_time": "2023-05-31T02:42:27.779139Z"
    }
   },
   "outputs": [],
   "source": [
    "#UPDATE RUN PARAMETERS. POLYNOMIAL ORDER? # of dim groups? Which variables are called? etc.\n",
    "\n",
    "\n",
    "ndimensionless = 1\n",
    "\n",
    "lambda_gamma = .003 #lambda_gamma = 0.01, #replaced\n",
    "seed = 67   #72 gets >0.99 r2 @ lambda 0.1, first order, for both 1 and 2 dim numbers\n",
    "\n",
    "poly_order = 1\n",
    "\n",
    "\n",
    "poly_mapping = np.array([[0],\n",
    "                         [1]])\n",
    "\n",
    "# poly_mapping = np.array([[0, 0],\n",
    "#                          [1, 0],\n",
    "#                          [0, 1]])\n",
    "\n",
    "#poly_mapping = np.array([[0, 0],\n",
    "#                         [1, 0],\n",
    "#                         [0, 1],\n",
    "#                         [2, 0],\n",
    "#                         [1, 1],\n",
    "#                         [0, 2]])\n",
    "lambda_beta = 0.01 #maybe cut in half idk\n",
    "w_array = np.array(fff._basis_col)  #this is the w array, that is, the columns in Null(D)\n",
    "gamma_name = ['y'+str(id) for id in range(0,fff.basis_col.shape[1]) ]\n",
    "beta_name = ['b'+str(id) for id in range(0,poly_mapping.shape[0]) ]\n",
    "poly_name = ['dim'+str(id+1) for id in range(0,ndimensionless)]\n",
    "\n",
    "\n",
    "\n",
    "metric = 'r2'\n",
    "para_threshold = 0.005\n",
    "beta_threshold = 0.01\n",
    "training_epochs =30000\n",
    "score = []\n",
    "\n",
    "import numpy as np\n",
    "from sklearn.model_selection import train_test_split\n",
    "\n",
    "#create test set\n",
    "X_train_val, X_test, y_train_val, y_test = train_test_split(fff.X, fff.y, test_size=0.2, random_state=42)\n",
    "\n",
    "# create validation and training set\n",
    "X_train, X_val, y_train, y_val = train_test_split(X_train_val, y_train_val, test_size=0.2, random_state=42)\n",
    "\n",
    "####################################################\n",
    "# SOLVE FOR DIMENSIONLESS NUMBERS\n",
    "\n"
   ]
  },
  {
   "cell_type": "code",
   "execution_count": null,
   "metadata": {},
   "outputs": [],
   "source": []
  },
  {
   "cell_type": "code",
   "execution_count": 195,
   "metadata": {},
   "outputs": [
    {
     "name": "stdout",
     "output_type": "stream",
     "text": [
      "File 'C:\\Users\\vvmil\\Documents\\Python_Vmil\\Jupyter_Notebooks\\Plasma_He_calcs\\dimensionless_numbers_energy\\base_terms\\dim1_order1\\1dim_order1_lambda0.003_seed67' did not exist.\n",
      "C:\\Users\\vvmil\\Documents\\Python_Vmil\\Jupyter_Notebooks\\Plasma_He_calcs\\dimensionless_numbers_energy\\base_terms\\dim1_order1\\1dim_order1_lambda0.003_seed67\\1dim_order1_lambda0.003_seed67dim1\n"
     ]
    }
   ],
   "source": [
    "#set save path\n",
    "\n",
    "current_path = r\"C:\\Users\\vvmil\\Documents\\Python_Vmil\\Jupyter_Notebooks\\Plasma_He_calcs\\dimensionless_numbers_energy\\base_terms\\dim1_order1\"\n",
    "#new_folder =r'mb_1dim_v1_pt0001_pt_01_order1_golden_child'\n",
    "new_folder = str(ndimensionless)+r'dim_order'+str(poly_order)+r'_lambda'+str(lambda_gamma)+r\"_seed\"+str(seed)\n",
    "new_path = current_path+'\\\\'+new_folder\n",
    "if os.path.exists(new_path):\n",
    "    print(f\"File '{new_path}' already exists.\")\n",
    "else:\n",
    "    os.mkdir(new_path)       \n",
    "    print(f\"File '{new_path}' did not exist.\")\n",
    "\n",
    "file_path = new_path+'\\\\'+new_folder +'_seed'+str(seed)+ '.xlsx'\n",
    "fig_path_dim1 = new_path+'\\\\'+new_folder+\"dim1\"\n",
    "fig_path_dim2 = new_path+'\\\\'+new_folder+\"dim2\"\n",
    "print(fig_path_dim1)"
   ]
  },
  {
   "cell_type": "code",
   "execution_count": 196,
   "metadata": {},
   "outputs": [
    {
     "name": "stderr",
     "output_type": "stream",
     "text": [
      "loss: 0.01709096296036406 at iteration 29999, val_loss: 0.9994159733214574, best_val_loss: 0.999480719251499: 100%|██████████| 30000/30000 [02:26<00:00, 204.62it/s]  "
     ]
    },
    {
     "name": "stdout",
     "output_type": "stream",
     "text": [
      "0.999480719251499\n",
      "tensor([[ 1.0894],\n",
      "        [ 2.9433],\n",
      "        [ 1.0635],\n",
      "        [ 0.0000],\n",
      "        [ 0.9933],\n",
      "        [ 0.4335],\n",
      "        [ 0.0000],\n",
      "        [ 0.0000],\n",
      "        [ 0.0000],\n",
      "        [ 0.0000],\n",
      "        [-0.3256],\n",
      "        [-0.0000],\n",
      "        [-0.0000],\n",
      "        [ 0.0000],\n",
      "        [ 0.3345]], dtype=torch.float64)\n",
      "[ 1.08938898  2.94332963  1.06348136  0.          0.99328459  0.43353287\n",
      "  0.          0.          0.          0.         -0.325649   -0.\n",
      " -0.          0.          0.33448595]\n",
      "[ 1.08938898  2.94332963  1.06348136  0.          0.99328459  0.43353287\n",
      "  0.          0.          0.          0.         -0.325649   -0.\n",
      " -0.          0.          0.33448595]\n"
     ]
    },
    {
     "name": "stderr",
     "output_type": "stream",
     "text": [
      "\n"
     ]
    }
   ],
   "source": [
    "\n",
    "\n",
    "#find which hyperparameter performed best\n",
    "\n",
    "# idx = np.arange(lg_set.shape[0])\n",
    "# best_hp = idx[array_metric_num[:,0]==np.max(array_metric_num)]\n",
    "\n",
    "# if len(best_hp.shape)>1:\n",
    "#     print('the following are equivalent ',best_hp)\n",
    "#     print(best_hp.shape)\n",
    "#     best_hp = best_hp[0,1]\n",
    "\n",
    "\n",
    "#22 best so far, R2 = 0.998 for lambda = 0.001\n",
    "#14 best so far, R2 = 0.945\n",
    "torch.manual_seed(seed)\n",
    "\n",
    "X_train_val, X_test, y_train_val, y_test = train_test_split(fff.X, fff.y, test_size=0.2, random_state=42)\n",
    "\n",
    "\n",
    "\n",
    "best_hp = lambda_gamma\n",
    "\n",
    "\n",
    "model_train = PiLinearRegressionViaTorch.TrainHolder(X_train_val, y_train_val, poly_mapping.shape[0], fff.y.shape[-1], poly_mapping, fff.basis_col, ndimensionless, lambda_gamma, lambda_beta, lowest_para_threshold=para_threshold)\n",
    "metric_num = model_train.train(training_epochs, True, val_x=X_test, val_y =y_test , metric=metric, norm_on='null_space')\n",
    "\n",
    "model_train.model.load_state_dict(torch.load('best_model.pt'))\n",
    "\n",
    "\n",
    "r2 = model_train.get_validation_metric(X_test,y_test,metric)\n",
    "print(r2)\n",
    "\n",
    "paras = [j for j in model_train.model.parameters()]\n",
    "gamma = paras[0].detach()\n",
    "beta = paras[1].detach()\n",
    "\n",
    "#clamp them\n",
    "t = gamma*(torch.abs(gamma) > para_threshold)\n",
    "beta_prune = beta*(torch.abs(beta) > beta_threshold)\n",
    "\n",
    "\n",
    "#store values from training\n",
    "best_metric_num = np.array(metric_num)\n",
    "best_beta = beta_prune\n",
    "\n",
    "best_dim1_gamma = np.asarray(t.transpose(0,1)[0]) # gamma corresponding to dimensionless number 1\n",
    "best_cardinality_dim1_gamma = np.sum(np.where(best_dim1_gamma==0,0,1)) #non-zero elements corresponding to gamma for dim # 1\n",
    "best_dim1_w = np.matmul(w_array, best_dim1_gamma)  # w corresponding to dimensionless number 1\n",
    "best_cardinality_dim1_w = np.sum(np.where(best_dim1_w==0,0,1)) #non-zero elements in w corresponding to dim #1\n",
    "\n",
    "print(t)\n",
    "print(np.asarray(t.transpose(0,1)[0]))\n",
    "print(best_dim1_gamma)\n",
    "\n",
    "\n",
    "\n",
    "if ndimensionless >=2:\n",
    "    best_dim2_gamma = np.asarray(t.transpose(0,1)[1]) # gamma corresponding to dimensionless number 2\n",
    "    best_cardinality_dim2_gamma = np.sum(np.where(best_dim2_gamma==0,0,1)) #non-zero elements corresponding to gamma for dim # 2\n",
    "    best_dim2_w = np.matmul(w_array, best_dim2_gamma)  # w corresponding to dimensionless number 2\n",
    "    best_cardinality_dim2_w = np.sum(np.where(best_dim2_w==0,0,1)) #non-zero elements in w corresponding to dim #2\n",
    "\n",
    "\n",
    "#r2, lambda, beta vector , cardinality \n",
    "best_data_dim1 = np.hstack((best_metric_num.reshape(1,1),   np.array([best_hp]).reshape(1,1),  best_beta[0].reshape(1,poly_mapping.shape[0]),  best_cardinality_dim1_gamma.reshape(1,1) ,best_dim1_gamma.reshape(1,best_dim1_gamma.shape[0]) ,      best_dim1_w.reshape(1,best_dim1_w.shape[0]),   best_cardinality_dim1_w.reshape(1,1)))\n",
    "data_name =  [ metric] + ['lambda']+ [beta_name[i] for i in range(0,len(beta_name))]+['cardinality_of_gamma_dim1']+[gamma_name[i] for i in range(0,len(gamma_name))]+[variables[i] for i in range(0,len(variables))]+['cardinality_of_w_dim1']\n",
    "\n",
    "df_best_dim1 = pd.DataFrame(data=best_data_dim1, columns = [ metric] + ['lambda']+ [beta_name[i] for i in range(0,len(beta_name))]+['cardinality_of_gamma_dim1']+[gamma_name[i] for i in range(0,len(gamma_name))]+[variables[i] for i in range(0,len(variables))]+['cardinality_of_w_dim1'])\n",
    "\n",
    "##### BELOW MUST BE CORRECTED#####\n",
    "if ndimensionless >=2:\n",
    "    \n",
    "    best_data_dim2 = np.hstack((best_metric_num.reshape(1,1),   best_hp.reshape(1,1),  best_beta[0].reshape(1,poly_mapping.shape[0]),   best_cardinality_dim2_gamma.reshape(1,1),    best_dim2_w.reshape(1,best_dim1_w.shape[0]),   best_cardinality_dim2_gamma.reshape(1,1)))\n",
    "    df_best_dim2 = pd.DataFrame(data=best_data_dim2, columns = [ metric] + ['lambda']+ [beta_name[i] for i in range(0,len(beta_name))]+['cardinality_of_gamma_dim1']+[variables[i] for i in range(0,len(variables))]+['cardinality_of_w_dim1'])\n",
    "\n",
    "#df_best_dim1 = pd.DataFrame(data=D_in,columns=variables) #first sheet, list dimension vector\n",
    "#####"
   ]
  },
  {
   "cell_type": "code",
   "execution_count": 197,
   "metadata": {},
   "outputs": [
    {
     "name": "stdout",
     "output_type": "stream",
     "text": [
      "(1, 1)\n",
      "(1, 1)\n",
      "torch.Size([1, 2])\n",
      "(1, 1)\n",
      "(1, 20)\n",
      "(1, 1)\n"
     ]
    }
   ],
   "source": [
    "#best_data_dim1 = np.hstack((best_metric_num.reshape(1,1),   np.array([best_hp]).reshape(1,1),  best_beta[0].reshape(1,poly_mapping.shape[0]),   best_cardinality_dim1_gamma.reshape(1,1),    best_dim1_w.reshape(1,best_dim1_w.shape[0]),   best_cardinality_dim1_gamma.reshape(1,1)))\n",
    "print(best_metric_num.reshape(1,1).shape)\n",
    "print(np.array([best_hp]).reshape(1,1).shape)\n",
    "print(best_beta[0].reshape(1,poly_mapping.shape[0]).shape)\n",
    "print(best_cardinality_dim1_gamma.reshape(1,1).shape)\n",
    "print(best_dim1_w.reshape(1,best_dim1_w.shape[0]).shape)\n",
    "print(best_cardinality_dim1_gamma.reshape(1,1).shape)"
   ]
  },
  {
   "cell_type": "code",
   "execution_count": 198,
   "metadata": {},
   "outputs": [
    {
     "name": "stdout",
     "output_type": "stream",
     "text": [
      "(1, 1)\n",
      "(1, 20)\n",
      "(1, 1)\n"
     ]
    }
   ],
   "source": [
    "#best_data_dim1 = np.hstack((best_metric_num.reshape(1,1),   np.array([best_hp]).reshape(1,1),  best_beta[0].reshape(1,poly_mapping.shape[0]),  best_cardinality_dim1_gamma.reshape(1,1) ,best_dim1_gamma.reshape(1,best_dim1_gamma.shape[0]) ,    best_cardinality_dim1_gamma.reshape(1,1),    best_dim1_w.reshape(1,best_dim1_w.shape[0]),   best_cardinality_dim1_gamma.reshape(1,1)))\n",
    "#data_name =  [ metric] + ['lambda']+ [beta_name[i] for i in range(0,len(beta_name))]+['cardinality_of_gamma_dim1']+[gamma_name[i] for i in range(0,len(gamma_name))]+[variables[i] for i in range(0,len(variables))]+['cardinality_of_w_dim1']\n",
    "#print(best_metric_num.reshape(1,1).shape)\n",
    "#print(np.array([best_hp]).reshape(1,1).shape)\n",
    "#print(best_beta[0].reshape(1,poly_mapping.shape[0]).shape)\n",
    "#print(best_cardinality_dim1_gamma.reshape(1,1).shape)\n",
    "#print(best_dim1_gamma.reshape(1,best_dim1_gamma.shape[0]).shape)\n",
    "print(best_cardinality_dim1_gamma.reshape(1,1).shape)\n",
    "print(best_dim1_w.reshape(1,best_dim1_w.shape[0]).shape)\n",
    "print(best_cardinality_dim1_gamma.reshape(1,1).shape)"
   ]
  },
  {
   "cell_type": "code",
   "execution_count": 199,
   "metadata": {},
   "outputs": [
    {
     "name": "stdout",
     "output_type": "stream",
     "text": [
      "20\n",
      "1\n"
     ]
    }
   ],
   "source": [
    "#[ metric] + ['lambda']+ [beta_name[i] for i in range(0,len(beta_name))]+['cardinality_of_gamma_dim1']+[gamma_name[i] for i in range(0,len(gamma_name))]+[variables[i] for i in range(0,len(variables))]+['cardinality_of_w_dim1'])print(len([ metric]))\n",
    "#print(len([metric]))\n",
    "#print(len( ['lambda']))\n",
    "#print(len( [beta_name[i] for i in range(0,len(beta_name))]))\n",
    "#print(len(['cardinality_of_gamma_dim1']))\n",
    "#print(len([gamma_name[i] for i in range(0,len(gamma_name))]))\n",
    "print(len([variables[i] for i in range(0,len(variables))]))\n",
    "print(len(['cardinality_of_w_dim1']))"
   ]
  },
  {
   "cell_type": "code",
   "execution_count": 200,
   "metadata": {},
   "outputs": [
    {
     "name": "stdout",
     "output_type": "stream",
     "text": [
      "12\n",
      "[-0.98299289  0.42897477  1.08938898 -0.66897191  2.94332963 -0.42469592\n",
      " -1.29758408  1.06348136  0.          0.99328459  0.43353287  0.\n",
      "  0.          0.          0.         -0.325649    0.          0.\n",
      "  0.          0.33448595]\n"
     ]
    }
   ],
   "source": [
    "print(best_cardinality_dim1_w)\n",
    "print(best_dim1_w)\n",
    "#best_cardinality_dim1_w = np.sum(np.where(best_dim1_w==0,0,1))"
   ]
  },
  {
   "cell_type": "code",
   "execution_count": 201,
   "metadata": {},
   "outputs": [
    {
     "name": "stdout",
     "output_type": "stream",
     "text": [
      "[Parameter containing:\n",
      "tensor([[ 1.0894e+00],\n",
      "        [ 2.9433e+00],\n",
      "        [ 1.0635e+00],\n",
      "        [ 3.1328e-04],\n",
      "        [ 9.9328e-01],\n",
      "        [ 4.3353e-01],\n",
      "        [ 6.4530e-04],\n",
      "        [ 5.7879e-04],\n",
      "        [ 7.2431e-04],\n",
      "        [ 4.0802e-03],\n",
      "        [-3.2565e-01],\n",
      "        [-4.1496e-04],\n",
      "        [-2.6597e-06],\n",
      "        [ 2.7629e-04],\n",
      "        [ 3.3449e-01]], dtype=torch.float64, requires_grad=True), Parameter containing:\n",
      "tensor([[-0.0009,  0.7924]], dtype=torch.float64, requires_grad=True)]\n"
     ]
    }
   ],
   "source": [
    "model_train.model.load_state_dict(torch.load('best_model.pt'))\n",
    "print([i for i in model_train.model.parameters()])"
   ]
  },
  {
   "cell_type": "code",
   "execution_count": 202,
   "metadata": {},
   "outputs": [
    {
     "name": "stdout",
     "output_type": "stream",
     "text": [
      "tensor([[ 1.0894],\n",
      "        [ 2.9433],\n",
      "        [ 1.0635],\n",
      "        [ 0.0000],\n",
      "        [ 0.9933],\n",
      "        [ 0.4335],\n",
      "        [ 0.0000],\n",
      "        [ 0.0000],\n",
      "        [ 0.0000],\n",
      "        [ 0.0000],\n",
      "        [-0.3256],\n",
      "        [-0.0000],\n",
      "        [-0.0000],\n",
      "        [ 0.0000],\n",
      "        [ 0.3345]], dtype=torch.float64)\n",
      "[ 1.08938898  2.94332963  1.06348136  0.          0.99328459  0.43353287\n",
      "  0.          0.          0.          0.         -0.325649   -0.\n",
      " -0.          0.          0.33448595]\n",
      "[ 1.08938898  2.94332963  1.06348136  0.          0.99328459  0.43353287\n",
      "  0.          0.          0.          0.         -0.325649   -0.\n",
      " -0.          0.          0.33448595]\n"
     ]
    }
   ],
   "source": [
    "paras = [j for j in model_train.model.parameters()]\n",
    "gamma = paras[0].detach()\n",
    "beta = paras[1].detach()\n",
    "\n",
    "#clamp them\n",
    "t = gamma*(torch.abs(gamma) > para_threshold)\n",
    "beta_prune = beta*(torch.abs(beta) > beta_threshold)\n",
    "print(t)\n",
    "print(np.asarray(t.transpose(0,1)[0]))\n",
    "print(best_dim1_gamma)"
   ]
  },
  {
   "cell_type": "code",
   "execution_count": 203,
   "metadata": {},
   "outputs": [
    {
     "data": {
      "text/latex": [
       "$\\displaystyle \\frac{A_{tot m3}^{2.94332962675638} \\epsilon_{A2s4 kg m3}^{0.334485954976596} n_{e electrons m3}^{0.428974769693324} n_{g atoms m3}^{1.08938897775836} t_{a seconds}^{0.433532870427399} y_{elastic kgm5 s3 atoms2}^{0.993284590910179} y_{iz a kgm5 s3 atoms2}^{1.06348136318132}}{E_{period kgm2 s2}^{0.424695918749248} Volume_{m3}^{0.982992891353395} e_{c As}^{0.668971909953192} u_{B m s}^{0.325649003298445} y_{exc a kgm5 s3 atoms2}^{1.29758408036565}}$"
      ],
      "text/plain": [
       "A_tot_m3**2.94332962675638*epsilon_A2s4_kg_m3**0.334485954976596*n_e_electrons_m3**0.428974769693324*n_g_atoms_m3**1.08938897775836*t_a_seconds**0.433532870427399*y_elastic_kgm5_s3_atoms2**0.993284590910179*y_iz_a_kgm5_s3_atoms2**1.06348136318132/(E_period_kgm2_s2**0.424695918749248*Volume_m3**0.982992891353395*e_c_As**0.668971909953192*u_B_m_s**0.325649003298445*y_exc_a_kgm5_s3_atoms2**1.29758408036565)"
      ]
     },
     "execution_count": 203,
     "metadata": {},
     "output_type": "execute_result"
    }
   ],
   "source": [
    "# if you need the orignial pis\n",
    "readable_para = torch.cat((t.transpose(0,1).reshape(-1), torch.tensor([-8, poly_order])))\n",
    "ori_pis = fff.get_symbolic_pis(readable_para, variables)\n",
    "ori_pis[0]\n",
    "#ori_pis[1]\n"
   ]
  },
  {
   "cell_type": "code",
   "execution_count": 204,
   "metadata": {},
   "outputs": [
    {
     "name": "stdout",
     "output_type": "stream",
     "text": [
      "[8.8817842e-16 0.0000000e+00 0.0000000e+00 0.0000000e+00 0.0000000e+00\n",
      " 0.0000000e+00]\n"
     ]
    }
   ],
   "source": [
    "print(np.matmul(D_in,best_dim1_w))"
   ]
  },
  {
   "cell_type": "code",
   "execution_count": 205,
   "metadata": {},
   "outputs": [
    {
     "name": "stdout",
     "output_type": "stream",
     "text": [
      "File 'C:\\Users\\vvmil\\Documents\\Python_Vmil\\Jupyter_Notebooks\\Plasma_He_calcs\\dimensionless_numbers_energy\\base_terms\\dim1_order1\\1dim_order1_lambda0.003_seed67\\1dim_order1_lambda0.003_seed67_seed67.xlsx' does not exist.\n",
      "tensor([[ 1.0894],\n",
      "        [ 2.9433],\n",
      "        [ 1.0635],\n",
      "        [ 0.0000],\n",
      "        [ 0.9933],\n",
      "        [ 0.4335],\n",
      "        [ 0.0000],\n",
      "        [ 0.0000],\n",
      "        [ 0.0000],\n",
      "        [ 0.0000],\n",
      "        [-0.3256],\n",
      "        [-0.0000],\n",
      "        [-0.0000],\n",
      "        [ 0.0000],\n",
      "        [ 0.3345]], dtype=torch.float64)\n",
      "[ 1.08938898  2.94332963  1.06348136  0.          0.99328459  0.43353287\n",
      "  0.          0.          0.          0.         -0.325649   -0.\n",
      " -0.          0.          0.33448595]\n",
      "[ 1.08938898  2.94332963  1.06348136  0.          0.99328459  0.43353287\n",
      "  0.          0.          0.          0.         -0.325649   -0.\n",
      " -0.          0.          0.33448595]\n"
     ]
    }
   ],
   "source": [
    "# File path of the Excel file\n",
    "\n",
    "if os.path.exists(file_path):\n",
    "    # Delete the file\n",
    "    os.remove(file_path)\n",
    "    print(f\"File '{file_path}' deleted successfully.\")\n",
    "else:\n",
    "    print(f\"File '{file_path}' does not exist.\")\n",
    "\n",
    "\n",
    "df0 = pd.DataFrame(data=D_in,columns=variables) #first sheet, list dimension vector\n",
    "\n",
    "df1 = pd.DataFrame(data=np.transpose(w_array),columns=variables) #second sheet, list nullspace vectors and associated variables\n",
    "\n",
    "\n",
    "df4 =  pd.DataFrame(data = best_beta, columns =  [beta_name[i] for i in range(0,len(beta_name))] )\n",
    "df5 = pd.DataFrame(data = poly_mapping, columns = [poly_name[i] for i in range(0,ndimensionless)])\n",
    "with pd.ExcelWriter(file_path) as writer:  \n",
    "    df0.to_excel(writer, sheet_name='dimension_matrix')\n",
    "    df1.to_excel(writer, sheet_name='null_space_matrix')\n",
    "    df4.to_excel(writer, sheet_name='beta')\n",
    "    df5.to_excel(writer, sheet_name='polynomial')\n",
    "    df_best_dim1.to_excel(writer, sheet_name='best_dim_1')\n",
    "\n",
    "    \n",
    "    \n",
    "print(t)\n",
    "print(np.asarray(t.transpose(0,1)[0]))\n",
    "print(best_dim1_gamma)"
   ]
  },
  {
   "cell_type": "code",
   "execution_count": 206,
   "metadata": {},
   "outputs": [],
   "source": [
    "import winsound\n",
    "frequency = 2500  # Set Frequency To 2500 Hertz\n",
    "duration = 150  # Set Duration To 1000 ms == 1 second\n",
    "winsound.Beep(frequency, duration)"
   ]
  },
  {
   "cell_type": "code",
   "execution_count": 207,
   "metadata": {},
   "outputs": [
    {
     "data": {
      "text/plain": [
       "2"
      ]
     },
     "execution_count": 207,
     "metadata": {},
     "output_type": "execute_result"
    }
   ],
   "source": [
    "len(beta_name)"
   ]
  },
  {
   "cell_type": "code",
   "execution_count": null,
   "metadata": {},
   "outputs": [],
   "source": []
  }
 ],
 "metadata": {
  "kernelspec": {
   "display_name": "python38",
   "language": "python",
   "name": "python38"
  },
  "language_info": {
   "codemirror_mode": {
    "name": "ipython",
    "version": 3
   },
   "file_extension": ".py",
   "mimetype": "text/x-python",
   "name": "python",
   "nbconvert_exporter": "python",
   "pygments_lexer": "ipython3",
   "version": "3.8.16"
  }
 },
 "nbformat": 4,
 "nbformat_minor": 1
}
