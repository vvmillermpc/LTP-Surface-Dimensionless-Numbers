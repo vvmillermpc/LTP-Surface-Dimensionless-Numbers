{
 "cells": [
  {
   "cell_type": "code",
   "execution_count": 1,
   "metadata": {
    "ExecuteTime": {
     "end_time": "2023-06-12T02:33:54.989778Z",
     "start_time": "2023-06-12T02:33:43.944290Z"
    }
   },
   "outputs": [],
   "source": [
    "from PyDBDdim.utils import DimensionlessLearning\n",
    "import torch\n",
    "torch.manual_seed(0)\n",
    "import numpy as np\n",
    "import pandas as pd\n",
    "import matplotlib.pyplot as plt\n",
    "import os\n",
    "import warnings\n",
    "from sklearn.model_selection import train_test_split\n",
    "warnings.filterwarnings(\"ignore\")\n"
   ]
  },
  {
   "cell_type": "code",
   "execution_count": 2,
   "metadata": {
    "ExecuteTime": {
     "end_time": "2023-06-12T02:33:55.344094Z",
     "start_time": "2023-06-12T02:33:54.993629Z"
    }
   },
   "outputs": [],
   "source": [
    "#df = pd.ExcelFile(r\"mass_balance_params.xlsx\")\n",
    "df_2 = pd.ExcelFile(r\"data_from_EB_looping.xlsx\")"
   ]
  },
  {
   "cell_type": "code",
   "execution_count": 3,
   "metadata": {
    "ExecuteTime": {
     "end_time": "2023-06-12T02:33:55.356755Z",
     "start_time": "2023-06-12T02:33:55.344974Z"
    }
   },
   "outputs": [],
   "source": [
    "# df_train_x['u_B_m_s'] = df_train_x['u_B_m_s'] / 1000 if np.min(df_train_x['u_B_m_s']) > 0 else df_train_x['u_B_m_s'] / 1000 - (np.min(df_train_x['u_B_m_s']) / 1000-1e-5)\n",
    "# df_train_x['A_tot_m2'] = 1.\n",
    "# df_train_x['t_a_s'] = df_train_x['t_a_s'] / 1e-7 if np.min(df_train_x['t_a_s']) > 0 else df_train_x['t_a_s'] / 1e-7 - (np.min(df_train_x['t_a_s']) / 1e-7-1e-5)\n",
    "# df_train_x['t_b_s'] = df_train_x['t_b_s'] / 1e-4 if np.min(df_train_x['t_b_s']) > 0 else df_train_x['t_b_s'] / 1e-4 - (np.min(df_train_x['t_b_s']) / 1e-4-1e-5)\n",
    "# df_train_x['Volume_m3'] = 1.\n",
    "# df_train_x['K_iz_a_m3_s_atom'] = df_train_x['K_iz_a_m3_s_atom'] / 1e-15 if np.min(df_train_x['K_iz_a_m3_s_atom']) > 0 else df_train_x['K_iz_a_m3_s_atom'] / 1e-15 - (np.min(df_train_x['K_iz_a_m3_s_atom']) / 1e-15-1e-5)\n",
    "\n",
    "# df_train_x['K_2_iz_a_m3_s_atom'] = df_train_x['K_2_iz_a_m3_s_atom'] / 1e-15 if np.min(df_train_x['K_2_iz_a_m3_s_atom']) > 0 else df_train_x['K_2_iz_a_m3_s_atom'] / 1e-15 - (np.min(df_train_x['K_2_iz_a_m3_s_atom']) / 1e-15-1e-5)\n",
    "\n",
    "# df_train_x['K_iz_exc_a_m3_s_atom'] = df_train_x['K_iz_exc_a_m3_s_atom'] / 1e-14 if np.min(df_train_x['K_iz_exc_a_m3_s_atom']) > 0 else df_train_x['K_iz_exc_a_m3_s_atom'] / 1e-14 - (np.min(df_train_x['K_iz_exc_a_m3_s_atom']) / 1e-14-1e-5)\n",
    "\n",
    "# df_train_x['n_sa_atoms_m3'] = df_train_x['n_sa_atoms_m3'] / 1e10 if np.min(df_train_x['n_sa_atoms_m3']) > 0 else df_train_x['n_sa_atoms_m3'] / 1e10 - (np.min(df_train_x['n_sa_atoms_m3']) / 1e10-1e-5)\n",
    "\n",
    "# df_train_x['n_sb_atoms_m3'] = df_train_x['n_sb_atoms_m3'] / 1e10 if np.min(df_train_x['n_sb_atoms_m3']) > 0 else df_train_x['n_sb_atoms_m3'] / 1e10 - (np.min(df_train_x['n_sb_atoms_m3']) / 1e10-1e-5)\n",
    "\n",
    "# df_train_x['A_a_m2'] = 1.\n",
    "\n",
    "# df_train_x['A_b_m2'] = 1.\n",
    "\n",
    "# df_train_x['n_He_exc_a_atoms_m3'] = df_train_x['n_He_exc_a_atoms_m3'] / 1e17 if np.min(df_train_x['n_He_exc_a_atoms_m3']) > 0 else df_train_x['n_He_exc_a_atoms_m3'] / 1e17 - (np.min(df_train_x['n_He_exc_a_atoms_m3']) / 1e17-1e-5)\n",
    "\n",
    "def rescale(g):\n",
    "    for i in range(0,g.shape[1]):\n",
    "        if np.min(np.abs(g[:,i])) ==0:\n",
    "            n = 0\n",
    "        else:\n",
    "            n = np.mean((np.log10(np.min(np.abs(g[:,i]))), np.log10(np.max(np.abs(g[:,i])))))\n",
    "        if n<0:\n",
    "            g[:,i] = g[:,i]/10**np.ceil(n) if np.min(g[:,i]) > 0 else g[:,i]/10**np.ceil(n) - (np.min(g[:,i]) / 10**np.ceil(n)-1e-5)\n",
    "        else:\n",
    "            g[:,i] = g[:,i]/10**np.floor(n) if np.min(g[:,i]) > 0 else g[:,i]/10**np.floor(n) - (np.min(g[:,i]) / 10**np.floor(n)-1e-5)\n",
    "    return g\n",
    "\n",
    "def rescale_vec(g):\n",
    "    if np.min(np.abs(g)) ==0:\n",
    "        n = 0\n",
    "    else:\n",
    "        n = np.mean((np.log10(np.min(np.abs(g))), np.log10(np.max(np.abs(g)))))\n",
    "    if n<0:\n",
    "        g= g/10**np.ceil(n) if np.min(g) > 0 else g/10**np.ceil(n) - (np.min(g) / 10**np.ceil(n)-1e-5)\n",
    "    else:\n",
    "        g = g/10**np.floor(n) if np.min(g) > 0 else g/10**np.floor(n) - (np.min(g) / 10**np.floor(n)-1e-5)\n",
    "    return g"
   ]
  },
  {
   "cell_type": "code",
   "execution_count": 4,
   "metadata": {
    "ExecuteTime": {
     "end_time": "2023-06-12T02:33:55.587559Z",
     "start_time": "2023-06-12T02:33:55.376276Z"
    },
    "scrolled": false
   },
   "outputs": [
    {
     "name": "stdout",
     "output_type": "stream",
     "text": [
      "['u_B_m_s', 'A_tot_m3', 't_a_seconds', 't_b_seconds', 'Volume_m3', 'K_iz_a_m3_s_atom', 'K_2_iz_a_m3_s_atom', 'K_iz_exc_a_m3_s_atom', 'n_sa_atoms_m3', 'n_sb_atoms_m3', 'n_He_exc_a_atoms_m3']\n",
      "[[ 1  2  0  0  3  3  3  3 -3 -3 -3]\n",
      " [-1  0  1  1  0 -1 -1 -1  0  0  0]\n",
      " [ 0  0  0  0  0 -1 -1 -1  1  1  1]\n",
      " [ 0  0  0  0  0  0  0  0  0  0  0]\n",
      " [ 0  0  0  0  0  0  0  0  0  0  0]\n",
      " [ 0  0  0  0  0  0  0  0  0  0  0]]\n"
     ]
    }
   ],
   "source": [
    "#                   0             1           2                    3                   4                   5           6                7                    8                     9                        10                  11                  12                      13                          \n",
    "#df1_names = [ 't_a_seconds', 'Q_a_As', 'V_p_ta_kgm2_s3_A','T_e_a_kgm2_s3_A', 'n_He_exc_a_atoms_m3', 'u_B_a_m_s', 'v_e_a_m_s', 'K_2_iz_a_m3_s_atom','K_loss_a_m6_s_atom2', 'K_iz_exc_a_m3_s_atom', 'K_exc_a_m3_s_atom', 'K_iz_a_m3_s_atom', 'K_elastic_a_m3_s_atom', 'E_elastic_a_kgm2_s2' ]\n",
    "\n",
    "\n",
    "df_time_a = rescale(np.array(pd.read_excel(df_2, sheet_name='time_a_data').iloc[:,1:]))\n",
    "df_time_a_units = np.array(pd.read_excel(df_2, sheet_name='time_a_data_units').iloc[:,1:])\n",
    "df_time_a_n = pd.read_excel(df_2, sheet_name='time_a_data_names').iloc[:,1:]\n",
    "time_a_n= [df_time_a_n.iloc[0,i] for i in range(0,df_time_a_n.shape[1])]\n",
    "#print(df_time_a_n)\n",
    "#print(df_time_a_units)\n",
    "\n",
    "\n",
    "#                   0             1                2               3                   4              5          6             7                   8                    9                       10              11                   12                   13                  \n",
    "#df2_names =  [ 't_b_seconds', 'Q_b_As', 'V_p_tb_kgm2_s3_A','T_e_kgm2_s3_A', 'n_He_exc_atoms_m3', 'u_B_m_s', 'v_e_m_s','K_2_iz_m3_s_atom','K_loss_m6_s_atom2', 'K_iz_exc_m3_s_atom', 'K_exc_m3_s_atom', 'K_iz_m3_s_atom', 'K_elastic_m3_s_atom', 'E_elastic_kgm2_s2' ]\n",
    "df_time_b = rescale(np.array(pd.read_excel(df_2, sheet_name='time_b_data').iloc[:,1:]))\n",
    "df_time_b_units = np.array(pd.read_excel(df_2, sheet_name='time_b_data_units').iloc[:,1:])\n",
    "df_time_b_n = pd.read_excel(df_2, sheet_name='time_b_data_names').iloc[:,1:]\n",
    "time_b_n= [df_time_b_n.iloc[0,i] for i in range(0,df_time_b_n.shape[1])]\n",
    "\n",
    "\n",
    "#                    0                   1                 2               3                 4               5               6                 7                  8           9        10        11                12                   13               14                   \n",
    "#df3_names = ['E_period_kgm2_s2', 'n_sa_atoms_m3','n_sb_atoms_m3', 'n_e_electrons_m3', 'n_g_atoms_m3', 'T_g_kelvin', 'E_iz_kgm2_s2', 'E_iz_exc_kgm2_s2', 'E_exc_kgm2_s2', 'e_c_As', 'm_e_kg', 'M_He_kg',  'epsilon_A2s4_kg_m3', 'eps_0_A2s4_kg_m3', 'k_b_kgm2_s2_K']\n",
    "df_other = rescale(np.array(pd.read_excel(df_2, sheet_name='other_data').iloc[:,1:]))\n",
    "df_other_units = np.array(pd.read_excel(df_2, sheet_name='other_data_units').iloc[:,1:])\n",
    "df_other_n = pd.read_excel(df_2, sheet_name='other_data_names').iloc[:,1:]\n",
    "other_n= [df_other_n.iloc[0,i] for i in range(0,df_other_n.shape[1])]\n",
    "\n",
    "#                    0                 1             2        3        4         5            6            7            8               9              10                 11                      12                      \n",
    "#df4_names = ['Volume_rxtor_m2', 'V_all_beads_m2','A_a_m2','A_b_m2', 'h_m', 'Volume_m3', 'A_bead_m2', 'A_tot_m3', 'frequency_Hz', 'Flow_m3_s', 'temp_C_gas_K', 'Set_Voltage_kgm2_s3_A', 'pulse_time_seconds' ]\n",
    "df_exp = rescale(np.array(pd.read_excel(df_2, sheet_name='Experiment_Design_data').iloc[:,1:]))\n",
    "df_exp_units = np.array(pd.read_excel(df_2, sheet_name='Experiment_Data_units').iloc[:,1:])\n",
    "df_exp_n = pd.read_excel(df_2, sheet_name='Experiment_Data_names').iloc[:,1:]\n",
    "exp_n= [df_exp_n.iloc[0,i] for i in range(0,df_exp_n.shape[1])]\n",
    "\n",
    "\n",
    "\n",
    "#base terms + F +K_iz, base terms: 'uB', 'Atot', 'ta', 'tb', 'Volume', 'Ka', 'K2a', 'Kexca', 'nsa', 'nsb',  'nHeexca,\n",
    "#F is exp_n[9], K_iz is time_b_n[11]\n",
    "#a = df_time_b[:,5].shape[0]\n",
    "#inputs = np.hstack((df_time_b[:,5].reshape(a,1),df_exp[:,7].reshape(a,1),df_time_a[:,0].reshape(a,1),df_time_b[:,0].reshape(a,1),df_exp[:,5].reshape(a,1),df_time_a[:,11].reshape(a,1),df_time_a[:,7].reshape(a,1),df_time_a[:,9].reshape(a,1),df_other[:,1].reshape(a,1),df_exp[:,2].reshape(a,1),df_time_a[:,4].reshape(a,1),df_exp[:,9].reshape(a,1),df_time_b[:,11].reshape(a,1)))\n",
    "#D_in = np.hstack((df_time_b_units[:,5].reshape(6,1),df_exp_units[:,7].reshape(6,1),df_time_a_units[:,0].reshape(6,1),df_time_b_units[:,0].reshape(6,1),df_exp_units[:,5].reshape(6,1),df_time_a_units[:,11].reshape(6,1),df_time_a_units[:,7].reshape(6,1),df_time_a_units[:,9].reshape(6,1),df_other_units[:,1].reshape(6,1),df_other_units[:,2].reshape(6,1),df_time_a_units[:,4].reshape(6,1),df_exp_units[:,9].reshape(6,1),df_time_b_units[:,11].reshape(6,1)))\n",
    "#variables = [time_b_n[5],exp_n[7],time_a_n[0],time_b_n[0],exp_n[5],time_a_n[11],time_a_n[7],time_a_n[9],other_n[1],other_n[2],time_a_n[4],exp_n[9], time_b_n[11]]\n",
    "#print(variables)\n",
    "#print(D_in)\n",
    "\n",
    "\n",
    "#base terms + F, base terms: 'uB', 'Atot', 'ta', 'tb', 'Volume', 'Ka', 'K2a', 'Kexca', 'nsa', 'nsb',  'nHeexca,\n",
    "#F is exp_n[9]\n",
    "#a = df_time_b[:,5].shape[0]\n",
    "#inputs = np.hstack((df_time_b[:,5].reshape(a,1),df_exp[:,7].reshape(a,1),df_time_a[:,0].reshape(a,1),df_time_b[:,0].reshape(a,1),df_exp[:,5].reshape(a,1),df_time_a[:,11].reshape(a,1),df_time_a[:,7].reshape(a,1),df_time_a[:,9].reshape(a,1),df_other[:,1].reshape(a,1),df_exp[:,2].reshape(a,1),df_time_a[:,4].reshape(a,1),df_exp[:,9].reshape(a,1)))\n",
    "#D_in = np.hstack((df_time_b_units[:,5].reshape(6,1),df_exp_units[:,7].reshape(6,1),df_time_a_units[:,0].reshape(6,1),df_time_b_units[:,0].reshape(6,1),df_exp_units[:,5].reshape(6,1),df_time_a_units[:,11].reshape(6,1),df_time_a_units[:,7].reshape(6,1),df_time_a_units[:,9].reshape(6,1),df_other_units[:,1].reshape(6,1),df_other_units[:,2].reshape(6,1),df_time_a_units[:,4].reshape(6,1),df_exp_units[:,9].reshape(6,1)))\n",
    "#variables = [time_b_n[5],exp_n[7],time_a_n[0],time_b_n[0],exp_n[5],time_a_n[11],time_a_n[7],time_a_n[9],other_n[1],other_n[2],time_a_n[4],exp_n[9]]\n",
    "#print(variables)\n",
    "#print(D_in)\n",
    "\n",
    "\n",
    "#base terms  'uB', 'Atot', 'ta', 'tb', 'Volume', 'Ka', 'K2a', 'Kexca', 'nsa', 'nsb',  'nHeexca,\n",
    "a = df_time_b[:,5].shape[0]\n",
    "inputs = np.hstack((df_time_b[:,5].reshape(a,1),df_exp[:,7].reshape(a,1),df_time_a[:,0].reshape(a,1),df_time_b[:,0].reshape(a,1),df_exp[:,5].reshape(a,1),df_time_a[:,11].reshape(a,1),df_time_a[:,7].reshape(a,1),df_time_a[:,9].reshape(a,1),df_other[:,1].reshape(a,1),df_exp[:,2].reshape(a,1),df_time_a[:,4].reshape(a,1)))\n",
    "D_in = np.hstack((df_time_b_units[:,5].reshape(6,1),df_exp_units[:,7].reshape(6,1),df_time_a_units[:,0].reshape(6,1),df_time_b_units[:,0].reshape(6,1),df_exp_units[:,5].reshape(6,1),df_time_a_units[:,11].reshape(6,1),df_time_a_units[:,7].reshape(6,1),df_time_a_units[:,9].reshape(6,1),df_other_units[:,1].reshape(6,1),df_other_units[:,2].reshape(6,1),df_time_a_units[:,4].reshape(6,1)))\n",
    "variables = [time_b_n[5],exp_n[7],time_a_n[0],time_b_n[0],exp_n[5],time_a_n[11],time_a_n[7],time_a_n[9],other_n[1],other_n[2],time_a_n[4]]\n",
    "print(variables)\n",
    "print(D_in)\n",
    "\n",
    "#to compare to ketong's original code only\n",
    "#not to construct  'uB', 'Atot', 'ta', 'tb', 'Volume', 'Ka', 'K2a', 'Kexca', 'nsa', 'nsb', 'Aa', 'Ab', 'nHeexca,\n",
    "#a = df_time_b[:,5].shape[0] #this is just the number of data points\n",
    "#inputs = np.hstack((df_time_b[:,5].reshape(a,1),df_exp[:,7].reshape(a,1),df_time_a[:,0].reshape(a,1),df_time_b[:,0].reshape(a,1),df_exp[:,5].reshape(a,1),df_time_a[:,11].reshape(a,1),df_time_a[:,7].reshape(a,1),df_time_a[:,9].reshape(a,1),df_other[:,1].reshape(a,1),df_other[:,2].reshape(a,1),df_exp[:,2].reshape(a,1),df_exp[:,3].reshape(a,1),df_time_a[:,4].reshape(a,1)))\n",
    "#D_in = np.hstack((df_time_b_units[:,5].reshape(6,1),df_exp_units[:,7].reshape(6,1),df_time_a_units[:,0].reshape(6,1),df_time_b_units[:,0].reshape(6,1),df_exp_units[:,5].reshape(6,1),df_time_a_units[:,11].reshape(6,1),df_time_a_units[:,7].reshape(6,1),df_time_a_units[:,9].reshape(6,1),df_other_units[:,1].reshape(6,1),df_other_units[:,2].reshape(6,1),df_exp_units[:,2].reshape(6,1),df_exp_units[:,3].reshape(6,1),df_time_a_units[:,4].reshape(6,1)))\n",
    "#variables = [time_b_n[5],exp_n[7],time_a_n[0],time_b_n[0],exp_n[5],time_a_n[11],time_a_n[7],time_a_n[9],other_n[1],other_n[2],exp_n[2],exp_n[3],time_a_n[4]]\n",
    "#print(variables)\n",
    "#print(D_in)\n"
   ]
  },
  {
   "cell_type": "code",
   "execution_count": 5,
   "metadata": {
    "ExecuteTime": {
     "end_time": "2023-06-12T02:33:55.598344Z",
     "start_time": "2023-06-12T02:33:55.590605Z"
    }
   },
   "outputs": [
    {
     "name": "stdout",
     "output_type": "stream",
     "text": [
      "(166, 11)\n",
      "(6, 11)\n"
     ]
    }
   ],
   "source": [
    "print(inputs.shape)\n",
    "print(D_in.shape)"
   ]
  },
  {
   "cell_type": "code",
   "execution_count": 6,
   "metadata": {
    "ExecuteTime": {
     "end_time": "2023-06-12T02:33:55.706436Z",
     "start_time": "2023-06-12T02:33:55.603410Z"
    }
   },
   "outputs": [
    {
     "name": "stdout",
     "output_type": "stream",
     "text": [
      "[1.58309060e+12 4.09791587e+12 3.70354896e+12 3.09336680e+12\n",
      " 1.91952999e+12 2.21022048e+12 2.23385412e+12 2.13639165e+12\n",
      " 2.35983478e+12 2.49036030e+12 3.03167523e+12 2.84210352e+12\n",
      " 3.18668511e+12 3.44177523e+12 3.54603983e+12 3.67296116e+12\n",
      " 4.31186248e+12 4.33912928e+12 4.73376403e+12 5.00551030e+12\n",
      " 4.98515118e+12 5.72909992e+12 5.89117393e+12 6.26848555e+12\n",
      " 6.45399992e+12 6.20983876e+12 5.67551914e+12 5.45777510e+12\n",
      " 5.72671834e+12 5.61130951e+12 6.00917947e+12 6.64918696e+12\n",
      " 6.84402475e+12 8.57360434e+12 6.40318992e+12 6.75711285e+12\n",
      " 7.31469123e+12 6.75996292e+12 7.03896384e+12 7.29018020e+12\n",
      " 1.03134954e+13 9.16691521e+12 1.08864078e+13 8.43394263e+12\n",
      " 9.14620112e+12 9.22868952e+12 1.08388820e+13 1.36449201e+13\n",
      " 1.13943161e+13 1.32970690e+13 1.25674808e+13 1.53250521e+13\n",
      " 2.04441246e+12 4.12911430e+12 5.94276348e+12 9.54453782e+12\n",
      " 1.54484782e+13 1.35689855e+13 1.51597471e+13 1.11442229e+13\n",
      " 1.61075216e+13 1.58773965e+13 3.97798005e+12 1.06795461e+13\n",
      " 8.02225240e+12 1.21279390e+13 1.36550997e+13 2.15119856e+13\n",
      " 9.54603081e+11 1.09286705e+12 1.06895300e+12 2.27908501e+12\n",
      " 1.82962663e+12 2.80345219e+12 2.72280991e+12 3.36168637e+12\n",
      " 4.77716095e+12 4.95653271e+12 5.72872363e+12 4.47937234e+12\n",
      " 5.44322828e+12 5.74694958e+12 6.46346414e+12 6.02051833e+11\n",
      " 9.26303469e+11 1.03633786e+12 1.05463979e+12 2.03406026e+12\n",
      " 2.79055108e+12 3.26011545e+12 3.53340298e+12 2.53146906e+12\n",
      " 3.56468377e+12 3.61208449e+12 4.90264288e+12 4.82734562e+12\n",
      " 5.43850250e+12 6.09070618e+12 6.76641252e+12 1.00682543e+12\n",
      " 1.63779679e+12 1.64501598e+12 1.87510454e+12 3.19534798e+12\n",
      " 3.68237532e+12 3.95141956e+12 4.56896201e+12 5.19291198e+12\n",
      " 6.50645462e+12 5.91988629e+12 1.01313693e+13 6.70742491e+12\n",
      " 7.76592958e+12 8.16379486e+12 1.22913890e+13 1.58134408e+12\n",
      " 2.21685079e+12 5.01091086e+12 4.08247406e+12 4.88877319e+12\n",
      " 6.38128465e+12 1.10995794e+13 8.66661034e+12 3.07498545e+13\n",
      " 2.23450684e+12 1.22168749e+13 5.48043755e+12 1.48521595e+13\n",
      " 8.45422979e+11 1.17730143e+12 1.28790306e+12 1.43005980e+12\n",
      " 2.05422521e+12 2.85026012e+12 2.63453343e+12 3.21237719e+12\n",
      " 3.33181170e+12 4.50783723e+12 4.58792783e+12 5.53610802e+12\n",
      " 4.59290474e+12 6.06728568e+12 6.90531116e+12 7.77906258e+12\n",
      " 1.27048979e+12 1.55694376e+12 1.75367009e+12 2.63536091e+12\n",
      " 2.91554759e+12 4.05298272e+12 4.64420672e+12 7.40173995e+12\n",
      " 5.30327737e+12 6.41469994e+12 5.96161956e+12 1.47084221e+13\n",
      " 6.57218355e+12 8.87005422e+12 9.13162198e+12 1.61805551e+12\n",
      " 2.70030114e+12 4.61197461e+12 8.55483764e+12 6.15545958e+12\n",
      " 8.66444286e+12 3.06792249e+12]\n",
      "[5.44796880e-14 1.41023627e-13 1.27452081e-13 1.06453578e-13\n",
      " 6.60577446e-14 7.60614218e-14 7.68747382e-14 7.35207133e-14\n",
      " 8.12101736e-14 8.57020134e-14 1.04330555e-13 9.78067286e-14\n",
      " 1.09664987e-13 1.18443531e-13 1.22031641e-13 1.26399448e-13\n",
      " 1.48386278e-13 1.49324624e-13 1.62905387e-13 1.72257127e-13\n",
      " 1.71556499e-13 1.97158378e-13 2.02735912e-13 2.15720526e-13\n",
      " 2.22104724e-13 2.13702284e-13 1.95314476e-13 1.87821142e-13\n",
      " 1.97076420e-13 1.93104798e-13 2.06796896e-13 2.28821794e-13\n",
      " 2.35526844e-13 2.95047731e-13 2.20356175e-13 2.32535901e-13\n",
      " 2.51724124e-13 2.32633982e-13 2.42235380e-13 2.50880614e-13\n",
      " 3.54923471e-13 3.15465634e-13 3.74639391e-13 2.90241482e-13\n",
      " 3.14752790e-13 3.17591504e-13 3.73003862e-13 4.69569453e-13\n",
      " 3.92118295e-13 4.57598682e-13 4.32490996e-13 5.27388675e-13\n",
      " 7.03553875e-14 1.42097274e-13 2.04511289e-13 3.28460949e-13\n",
      " 5.31636202e-13 4.66956279e-13 5.21699952e-13 3.83511710e-13\n",
      " 5.54316190e-13 5.46396780e-13 1.36896215e-13 3.67520556e-13\n",
      " 2.76073780e-13 4.17364824e-13 4.69919770e-13 7.40302711e-13\n",
      " 3.28512329e-14 3.76093800e-14 3.67864136e-14 7.84312915e-14\n",
      " 6.29638554e-14 9.64766010e-14 9.37014179e-14 1.15687393e-13\n",
      " 1.64398827e-13 1.70571637e-13 1.97145429e-13 1.54150879e-13\n",
      " 1.87320535e-13 1.97772648e-13 2.22430421e-13 2.07187106e-14\n",
      " 3.18773441e-14 3.56640126e-14 3.62938462e-14 6.99991323e-14\n",
      " 9.60326288e-14 1.12191982e-13 1.21596762e-13 8.71167097e-14\n",
      " 1.22673244e-13 1.24304468e-13 1.68717099e-13 1.66125857e-13\n",
      " 1.87157904e-13 2.09602515e-13 2.32855935e-13 3.46483865e-14\n",
      " 5.63623195e-14 5.66107570e-14 6.45289096e-14 1.09963107e-13\n",
      " 1.26723422e-13 1.35982176e-13 1.57233973e-13 1.78706275e-13\n",
      " 2.23909874e-13 2.03724005e-13 3.48655874e-13 2.30825965e-13\n",
      " 2.67252815e-13 2.80944752e-13 4.22989713e-13 5.44195842e-14\n",
      " 7.62895941e-14 1.72442979e-13 1.40492220e-13 1.68239795e-13\n",
      " 2.19602337e-13 3.81975373e-13 2.98248393e-13 1.05821011e-12\n",
      " 7.68972005e-14 4.20425421e-13 1.88601036e-13 5.11114786e-13\n",
      " 2.90939634e-14 4.05150625e-14 4.43212515e-14 4.92133624e-14\n",
      " 7.06930786e-14 9.80874259e-14 9.06635153e-14 1.10549142e-13\n",
      " 1.14659301e-13 1.55130455e-13 1.57886653e-13 1.90516852e-13\n",
      " 1.58057926e-13 2.08796534e-13 2.37635924e-13 2.67704768e-13\n",
      " 4.37219999e-14 5.35798838e-14 6.03499251e-14 9.06919920e-14\n",
      " 1.00334196e-13 1.39477320e-13 1.59823407e-13 2.54719775e-13\n",
      " 1.82504334e-13 2.20752275e-13 2.05160193e-13 5.06168278e-13\n",
      " 2.26171837e-13 3.05249608e-13 3.14251070e-13 5.56829529e-14\n",
      " 9.29268124e-14 1.58714187e-13 2.94401903e-13 2.11830906e-13\n",
      " 2.98173802e-13 1.05577950e-13]\n",
      "[0.05447969 0.14102363 0.12745208 0.10645358 0.06605774 0.07606142\n",
      " 0.07687474 0.07352071 0.08121017 0.08570201 0.10433055 0.09780673\n",
      " 0.10966499 0.11844353 0.12203164 0.12639945 0.14838628 0.14932462\n",
      " 0.16290539 0.17225713 0.1715565  0.19715838 0.20273591 0.21572053\n",
      " 0.22210472 0.21370228 0.19531448 0.18782114 0.19707642 0.1931048\n",
      " 0.2067969  0.22882179 0.23552684 0.29504773 0.22035617 0.2325359\n",
      " 0.25172412 0.23263398 0.24223538 0.25088061 0.35492347 0.31546563\n",
      " 0.37463939 0.29024148 0.31475279 0.3175915  0.37300386 0.46956945\n",
      " 0.39211829 0.45759868 0.432491   0.52738867 0.07035539 0.14209727\n",
      " 0.20451129 0.32846095 0.5316362  0.46695628 0.52169995 0.38351171\n",
      " 0.55431619 0.54639678 0.13689622 0.36752056 0.27607378 0.41736482\n",
      " 0.46991977 0.74030271 0.03285123 0.03760938 0.03678641 0.07843129\n",
      " 0.06296386 0.0964766  0.09370142 0.11568739 0.16439883 0.17057164\n",
      " 0.19714543 0.15415088 0.18732053 0.19777265 0.22243042 0.02071871\n",
      " 0.03187734 0.03566401 0.03629385 0.06999913 0.09603263 0.11219198\n",
      " 0.12159676 0.08711671 0.12267324 0.12430447 0.1687171  0.16612586\n",
      " 0.1871579  0.20960252 0.23285594 0.03464839 0.05636232 0.05661076\n",
      " 0.06452891 0.10996311 0.12672342 0.13598218 0.15723397 0.17870627\n",
      " 0.22390987 0.20372401 0.34865587 0.23082597 0.26725282 0.28094475\n",
      " 0.42298971 0.05441958 0.07628959 0.17244298 0.14049222 0.16823979\n",
      " 0.21960234 0.38197537 0.29824839 1.05821011 0.0768972  0.42042542\n",
      " 0.18860104 0.51111479 0.02909396 0.04051506 0.04432125 0.04921336\n",
      " 0.07069308 0.09808743 0.09066352 0.11054914 0.1146593  0.15513046\n",
      " 0.15788665 0.19051685 0.15805793 0.20879653 0.23763592 0.26770477\n",
      " 0.043722   0.05357988 0.06034993 0.09069199 0.1003342  0.13947732\n",
      " 0.15982341 0.25471978 0.18250433 0.22075227 0.20516019 0.50616828\n",
      " 0.22617184 0.30524961 0.31425107 0.05568295 0.09292681 0.15871419\n",
      " 0.2944019  0.21183091 0.2981738  0.10557795]\n"
     ]
    }
   ],
   "source": [
    "#For predicting Te/Tg: keep top block, comment bottom block. For predicting ne/ng, keep bottom block, comment top block.\n",
    "\n",
    "\n",
    "\n",
    "\n",
    "#### TOP BLOCK ####\n",
    "\n",
    "# df_out = pd.read_excel(df_2, sheet_name='time_b_data').iloc[:,1:]\n",
    "# T_e = np.array(df_out.iloc[:,3])\n",
    "# df_out = pd.read_excel(df_2, sheet_name='other_data').iloc[:,1:]\n",
    "# T_g = np.array(df_out.iloc[:,5])*0.026/297\n",
    "# T_e_no_dim = T_e/T_g\n",
    "# print(T_e)\n",
    "# output = rescale_vec(T_e_no_dim)\n",
    "# print(output)\n",
    "# D_out = np.array(\n",
    "#     [\n",
    "#         [0.],\n",
    "#         [0.],\n",
    "#         [0.],\n",
    "#     ]\n",
    "# )\n",
    "\n",
    "\n",
    "\n",
    "\n",
    "#### BOTTOM BLOCK ####\n",
    "\n",
    "df_out = pd.read_excel(df_2, sheet_name='other_data').iloc[:,1:]\n",
    "n_e = np.array(df_out.iloc[:,3])\n",
    "df_out = pd.read_excel(df_2, sheet_name='other_data').iloc[:,1:]\n",
    "n_g = np.array(df_out.iloc[:,4])\n",
    "n_e_no_dim = n_e/n_g\n",
    "print(n_e)\n",
    "print(n_e_no_dim)\n",
    "output = rescale_vec(n_e_no_dim)\n",
    "print(output)\n",
    "D_out = np.array(\n",
    "    [\n",
    "        [0.],\n",
    "        [0.],\n",
    "        [0.],\n",
    "        [0.],\n",
    "        [0,],\n",
    "        [0.]\n",
    "    ],\n",
    "\n",
    ")\n"
   ]
  },
  {
   "cell_type": "code",
   "execution_count": 7,
   "metadata": {
    "ExecuteTime": {
     "end_time": "2023-06-12T02:33:55.768232Z",
     "start_time": "2023-06-12T02:33:55.718782Z"
    }
   },
   "outputs": [
    {
     "data": {
      "text/plain": [
       "tensor([[ 1.0000,  1.0000,  0.0000,  0.0000,  0.0000, -1.0000, -1.0000, -1.0000],\n",
       "        [-0.5000, -0.5000, -1.5000,  0.0000,  0.0000,  0.5000,  0.5000,  0.5000],\n",
       "        [ 1.0000,  0.0000,  0.0000,  0.0000,  0.0000,  0.0000,  0.0000,  0.0000],\n",
       "        [ 0.0000,  1.0000,  0.0000,  0.0000,  0.0000,  0.0000,  0.0000,  0.0000],\n",
       "        [ 0.0000,  0.0000,  1.0000,  0.0000,  0.0000,  0.0000,  0.0000,  0.0000],\n",
       "        [ 0.0000,  0.0000,  0.0000, -1.0000, -1.0000,  1.0000,  1.0000,  1.0000],\n",
       "        [ 0.0000,  0.0000,  0.0000,  1.0000,  0.0000,  0.0000,  0.0000,  0.0000],\n",
       "        [ 0.0000,  0.0000,  0.0000,  0.0000,  1.0000,  0.0000,  0.0000,  0.0000],\n",
       "        [ 0.0000,  0.0000,  0.0000,  0.0000,  0.0000,  1.0000,  0.0000,  0.0000],\n",
       "        [ 0.0000,  0.0000,  0.0000,  0.0000,  0.0000,  0.0000,  1.0000,  0.0000],\n",
       "        [ 0.0000,  0.0000,  0.0000,  0.0000,  0.0000,  0.0000,  0.0000,  1.0000]],\n",
       "       dtype=torch.float64)"
      ]
     },
     "execution_count": 7,
     "metadata": {},
     "output_type": "execute_result"
    }
   ],
   "source": [
    "fff = DimensionlessLearning(D_in, D_out)\n",
    "fff.basis_col"
   ]
  },
  {
   "cell_type": "code",
   "execution_count": 8,
   "metadata": {
    "ExecuteTime": {
     "end_time": "2023-06-12T02:33:55.809871Z",
     "start_time": "2023-06-12T02:33:55.789724Z"
    }
   },
   "outputs": [],
   "source": [
    "fff.read_data(inputs, output)"
   ]
  },
  {
   "cell_type": "code",
   "execution_count": 9,
   "metadata": {
    "ExecuteTime": {
     "end_time": "2023-06-12T02:34:32.308917Z",
     "start_time": "2023-06-12T02:34:32.245346Z"
    }
   },
   "outputs": [
    {
     "data": {
      "text/plain": [
       "tensor([[ 1.0000,  1.0000,  0.0000,  0.0000,  0.0000, -1.0000, -1.0000, -1.0000],\n",
       "        [-0.5000, -0.5000, -1.5000,  0.0000,  0.0000,  0.5000,  0.5000,  0.5000],\n",
       "        [ 1.0000,  0.0000,  0.0000,  0.0000,  0.0000,  0.0000,  0.0000,  0.0000],\n",
       "        [ 0.0000,  1.0000,  0.0000,  0.0000,  0.0000,  0.0000,  0.0000,  0.0000],\n",
       "        [ 0.0000,  0.0000,  1.0000,  0.0000,  0.0000,  0.0000,  0.0000,  0.0000],\n",
       "        [ 0.0000,  0.0000,  0.0000, -1.0000, -1.0000,  1.0000,  1.0000,  1.0000],\n",
       "        [ 0.0000,  0.0000,  0.0000,  1.0000,  0.0000,  0.0000,  0.0000,  0.0000],\n",
       "        [ 0.0000,  0.0000,  0.0000,  0.0000,  1.0000,  0.0000,  0.0000,  0.0000],\n",
       "        [ 0.0000,  0.0000,  0.0000,  0.0000,  0.0000,  1.0000,  0.0000,  0.0000],\n",
       "        [ 0.0000,  0.0000,  0.0000,  0.0000,  0.0000,  0.0000,  1.0000,  0.0000],\n",
       "        [ 0.0000,  0.0000,  0.0000,  0.0000,  0.0000,  0.0000,  0.0000,  1.0000]],\n",
       "       dtype=torch.float64)"
      ]
     },
     "execution_count": 9,
     "metadata": {},
     "output_type": "execute_result"
    }
   ],
   "source": [
    "fff.basis_col"
   ]
  },
  {
   "cell_type": "code",
   "execution_count": 10,
   "metadata": {
    "ExecuteTime": {
     "end_time": "2023-06-09T15:41:50.992599Z",
     "start_time": "2023-06-09T15:41:50.974667Z"
    }
   },
   "outputs": [],
   "source": [
    "from PyDBDdim import PiLinearRegressionViaTorch\n",
    "\n",
    "\n",
    "#the code does five fold to ensure the R2 is worth while.\n",
    "# we then want to rerun the fitting on all data instead of 80% of it. The 5fold find the right number of epochs.\n",
    "# so, we re run to find the right number of epochs, and then we must store the parameters and the R2 from the 5-fold fitting.\n",
    "#"
   ]
  },
  {
   "cell_type": "code",
   "execution_count": 11,
   "metadata": {
    "ExecuteTime": {
     "end_time": "2023-06-12T02:51:57.267382Z",
     "start_time": "2023-06-12T02:51:57.252535Z"
    }
   },
   "outputs": [],
   "source": [
    "X_train_val, X_test, y_train_val, y_test = train_test_split(fff.X, fff.y, test_size=0.2, random_state=42)"
   ]
  },
  {
   "cell_type": "code",
   "execution_count": 12,
   "metadata": {
    "ExecuteTime": {
     "end_time": "2023-06-12T02:41:59.186287Z",
     "start_time": "2023-06-12T02:41:59.122346Z"
    }
   },
   "outputs": [],
   "source": [
    "from PyDBDdim import PiLinearRegressionViaTorch"
   ]
  },
  {
   "cell_type": "code",
   "execution_count": 13,
   "metadata": {
    "ExecuteTime": {
     "end_time": "2023-06-12T02:42:00.284994Z",
     "start_time": "2023-06-12T02:42:00.249721Z"
    }
   },
   "outputs": [],
   "source": [
    "ndimensionless = 1\n",
    "lambda_gamma = 0.0003\n",
    "lambda_beta = 0.01\n",
    "poly_order = 1\n",
    "poly_mapping = np.array([[0],\n",
    "                         [1]])\n",
    "para_threshold = 0.005\n",
    "model_train = PiLinearRegressionViaTorch.TrainHolder(fff.X, fff.y, poly_mapping.shape[0], fff.y.shape[-1],\n",
    "                                                     poly_mapping,\n",
    "                                                     fff.basis_col,\n",
    "                                                     ndimensionless, lambda_gamma, lambda_beta, lowest_para_threshold=para_threshold)"
   ]
  },
  {
   "cell_type": "code",
   "execution_count": 14,
   "metadata": {
    "ExecuteTime": {
     "end_time": "2023-06-12T02:53:18.579503Z",
     "start_time": "2023-06-12T02:53:18.562380Z"
    }
   },
   "outputs": [],
   "source": [
    "model_train.model.pi.para = torch.nn.Parameter(torch.tensor([[0,\t-0.176384694211821,\t-0.421902317793513,\t0,\t0.484483488098862,\t-0.106376230038761,\t-0.864070440598358,\t0.958875872823819]], requires_grad=True).t().double())"
   ]
  },
  {
   "cell_type": "code",
   "execution_count": null,
   "metadata": {},
   "outputs": [],
   "source": []
  },
  {
   "cell_type": "code",
   "execution_count": 15,
   "metadata": {
    "ExecuteTime": {
     "end_time": "2023-06-12T02:52:51.875464Z",
     "start_time": "2023-06-12T02:52:51.645420Z"
    }
   },
   "outputs": [],
   "source": [
    "model_train.model.linear.linear.weight = torch.nn.Parameter(torch.tensor([[0,\t0.0120816496566337]], requires_grad=True).double())"
   ]
  },
  {
   "cell_type": "code",
   "execution_count": 16,
   "metadata": {
    "ExecuteTime": {
     "end_time": "2023-06-12T02:54:16.926169Z",
     "start_time": "2023-06-12T02:54:16.894116Z"
    }
   },
   "outputs": [],
   "source": [
    "model_train.model.eval()\n",
    "with torch.no_grad():\n",
    "    y_pred_train = model_train.model(X_train_val)\n",
    "    y_pred_test = model_train.model(X_test)\n",
    "    all_test = model_train.model(fff.X)"
   ]
  },
  {
   "cell_type": "code",
   "execution_count": 17,
   "metadata": {
    "ExecuteTime": {
     "end_time": "2023-06-12T03:57:13.650272Z",
     "start_time": "2023-06-12T03:57:13.638947Z"
    }
   },
   "outputs": [
    {
     "name": "stdout",
     "output_type": "stream",
     "text": [
      "0.9966087907157745\n"
     ]
    }
   ],
   "source": [
    "from sklearn.metrics import r2_score\n",
    "#R2 on training\n",
    "print(r2_score(y_train_val, y_pred_train[0]))"
   ]
  },
  {
   "cell_type": "code",
   "execution_count": 18,
   "metadata": {},
   "outputs": [
    {
     "name": "stdout",
     "output_type": "stream",
     "text": [
      "0.9981022645956206\n"
     ]
    }
   ],
   "source": [
    "#R2 on test\n",
    "print(r2_score(y_test, y_pred_test[0]))"
   ]
  },
  {
   "cell_type": "code",
   "execution_count": 19,
   "metadata": {},
   "outputs": [
    {
     "name": "stdout",
     "output_type": "stream",
     "text": [
      "0.996968160380368\n"
     ]
    }
   ],
   "source": [
    "#R2 on all\n",
    "print(r2_score(fff.y, all_test[0]))"
   ]
  },
  {
   "cell_type": "code",
   "execution_count": 20,
   "metadata": {
    "ExecuteTime": {
     "end_time": "2023-06-12T02:57:00.632050Z",
     "start_time": "2023-06-12T02:57:00.616942Z"
    }
   },
   "outputs": [],
   "source": [
    "import matplotlib.pyplot as plt"
   ]
  },
  {
   "cell_type": "code",
   "execution_count": 21,
   "metadata": {
    "ExecuteTime": {
     "end_time": "2023-06-12T03:42:56.262288Z",
     "start_time": "2023-06-12T03:42:54.096439Z"
    }
   },
   "outputs": [
    {
     "data": {
      "image/png": "[encoded data removed]",
      "text/plain": [
       "<Figure size 1200x450 with 2 Axes>"
      ]
     },
     "metadata": {},
     "output_type": "display_data"
    }
   ],
   "source": [
    "plt.figure(dpi=150, figsize=(8, 3))\n",
    "plt.rcParams['text.usetex'] = True\n",
    "\n",
    "plt.subplot(121)\n",
    "plt.plot([-0.1e-12,1.3e-12], [-0.1e-12,1.3e-12], 'g-', lw=2, label = 'Predicted = Observed')\n",
    "plt.plot(y_train_val/(10.**12), y_pred_train[0]/(10.**12),'b.', ms=5, label = 'Training Data')\n",
    "plt.xlim([0,1.2e-12])\n",
    "plt.ylim([0,1.2e-12])\n",
    "plt.xlabel(r'Training $\\frac{n_e}{n_g}$')\n",
    "plt.ylabel(r'Observed $\\frac{n_e}{n_g}$')\n",
    "plt.legend()\n",
    "\n",
    "plt.subplot(122)\n",
    "plt.plot([-0.1e-12,1.3e-12], [-0.1e-12,1.3e-12], 'g-', lw=2, label = 'Predicted = Observed')\n",
    "plt.plot(y_test/(10.**12), y_pred_test[0]/(10.**12),'r.', ms=5, label = 'Observed Data')\n",
    "plt.xlim([0,1.2e-12])\n",
    "plt.ylim([0,1.2e-12])\n",
    "plt.xlabel(r'Observed $\\frac{n_e}{n_g}$')\n",
    "plt.ylabel(r'Predicted $\\frac{n_e}{n_g}$')\n",
    "plt.legend()\n",
    "\n",
    "plt.show()"
   ]
  },
  {
   "cell_type": "code",
   "execution_count": 26,
   "metadata": {},
   "outputs": [
    {
     "data": {
      "image/png": "[encoded data removed]",
      "text/plain": [
       "<Figure size 750x450 with 1 Axes>"
      ]
     },
     "metadata": {},
     "output_type": "display_data"
    }
   ],
   "source": [
    "import matplotlib.pyplot as plt\n",
    "import matplotlib\n",
    "import sys\n",
    "sys.path.append(\"Users\\vvmil\\AppData\\Local\\Programs\\MiKTeX\")\n",
    "matplotlib.rcParams['text.usetex'] = True\n",
    "matplotlib.rcParams['text.latex.preamble']=r'\\usepackage{amsmath}'\n",
    "plt.figure(dpi=150, figsize=(5, 3))\n",
    "#plt.rcParams['text.usetex'] = True\n",
    "#plt.rcParams['text.latex.preamble']=r'\\usepackage{amsmath}'\n",
    "\n",
    "font = {'family' : 'Arial',\n",
    "        'weight' : 'bold',\n",
    "        'size'   : 17}\n",
    "\n",
    "\n",
    "plt.rcParams['font.family'] = 'Arial'\n",
    "\n",
    "plt.plot([-0.1e-12,1.3e-12], [-0.1e-12,1.3e-12], 'g-', lw=2, label = r'\\textbf{Predicted = Observed}')\n",
    "plt.plot(y_test/(10.**12), y_pred_test[0]/(10.**12),'r.', ms=5, label = r'\\textbf{Observed Data}')\n",
    "plt.xlim([0,1.0e-12])\n",
    "plt.ylim([0,1.0e-12])\n",
    "plt.xlabel(r'\\textbf{Observed }$\\boldsymbol{\\frac{n_e}{n_g}}$')\n",
    "plt.ylabel(r'\\textbf{Predicted }$\\boldsymbol{\\frac{n_e}{n_g}}$')\n",
    "plt.legend()\n",
    "\n",
    "\n",
    "\n",
    "\n",
    "\n",
    "current_path = r\"C:\\Users\\vvmil\\Documents\\Python_Vmil\\Jupyter_Notebooks\\Plasma_He_calcs\\dimensionless_numbers_mb\\limited_terms\"\n",
    "\n",
    "test_parity_mb = current_path +r'\\test_parity_mb.pdf'\n",
    "\n",
    "\n",
    "\n",
    "plt.savefig(test_parity_mb, bbox_inches=\"tight\")\n",
    "\n",
    "\n",
    "plt.show()\n"
   ]
  },
  {
   "cell_type": "code",
   "execution_count": null,
   "metadata": {},
   "outputs": [],
   "source": []
  }
 ],
 "metadata": {
  "kernelspec": {
   "display_name": "python38",
   "language": "python",
   "name": "python38"
  },
  "language_info": {
   "codemirror_mode": {
    "name": "ipython",
    "version": 3
   },
   "file_extension": ".py",
   "mimetype": "text/x-python",
   "name": "python",
   "nbconvert_exporter": "python",
   "pygments_lexer": "ipython3",
   "version": "3.8.16"
  }
 },
 "nbformat": 4,
 "nbformat_minor": 1
}
