{
 "cells": [
  {
   "cell_type": "code",
   "execution_count": 1,
   "metadata": {
    "ExecuteTime": {
     "end_time": "2023-06-12T03:47:13.004679Z",
     "start_time": "2023-06-12T03:47:12.980257Z"
    }
   },
   "outputs": [],
   "source": [
    "#from PyDBDdim.utils import DimensionlessLearning\n",
    "import torch\n",
    "torch.manual_seed(0)\n",
    "import numpy as np\n",
    "import pandas as pd\n",
    "import matplotlib.pyplot as plt\n",
    "from sklearn.model_selection import train_test_split\n",
    "import os\n",
    "import warnings\n",
    "warnings.filterwarnings(\"ignore\")\n",
    "\n",
    "import torch\n",
    "import torch.nn as nn\n",
    "import numpy as np\n",
    "import sys\n",
    "import matplotlib\n",
    "sys.path.append(r'C:\\Users\\vvmil\\Documents\\Python_Vmil\\Jupyter_Notebooks\\Plasma_He_calcs\\He_code_new')\n",
    "import vics_fcns as vf\n"
   ]
  },
  {
   "cell_type": "code",
   "execution_count": 2,
   "metadata": {
    "ExecuteTime": {
     "end_time": "2023-06-12T03:47:01.301037Z",
     "start_time": "2023-06-12T03:47:00.935225Z"
    }
   },
   "outputs": [],
   "source": [
    "#df = pd.ExcelFile(r\"mass_balance_params.xlsx\")\n",
    "#df_y = pd.ExcelFile(r\"energy_balance_params.xlsx\")\n",
    "df_2 = pd.ExcelFile(r'C:\\Users\\vvmil\\Documents\\Python_Vmil\\Jupyter_Notebooks\\Plasma_He_calcs\\data\\data_no_packing_all\\data_from_EB_looping_new_excel_new_code_no_packing_v3.xlsx')"
   ]
  },
  {
   "cell_type": "code",
   "execution_count": 3,
   "metadata": {
    "ExecuteTime": {
     "end_time": "2023-06-12T03:47:01.328308Z",
     "start_time": "2023-06-12T03:47:01.302539Z"
    }
   },
   "outputs": [],
   "source": [
    "# df_train_x['u_B_m_s'] = df_train_x['u_B_m_s'] / 1000 if np.min(df_train_x['u_B_m_s']) > 0 else df_train_x['u_B_m_s'] / 1000 - (np.min(df_train_x['u_B_m_s']) / 1000-1e-5)\n",
    "# df_train_x['A_tot_m2'] = 1.\n",
    "# df_train_x['t_a_s'] = df_train_x['t_a_s'] / 1e-7 if np.min(df_train_x['t_a_s']) > 0 else df_train_x['t_a_s'] / 1e-7 - (np.min(df_train_x['t_a_s']) / 1e-7-1e-5)\n",
    "# df_train_x['t_b_s'] = df_train_x['t_b_s'] / 1e-4 if np.min(df_train_x['t_b_s']) > 0 else df_train_x['t_b_s'] / 1e-4 - (np.min(df_train_x['t_b_s']) / 1e-4-1e-5)\n",
    "# df_train_x['Volume_m3'] = 1.\n",
    "# df_train_x['K_iz_a_m3_s_atom'] = df_train_x['K_iz_a_m3_s_atom'] / 1e-15 if np.min(df_train_x['K_iz_a_m3_s_atom']) > 0 else df_train_x['K_iz_a_m3_s_atom'] / 1e-15 - (np.min(df_train_x['K_iz_a_m3_s_atom']) / 1e-15-1e-5)\n",
    "\n",
    "# df_train_x['K_2_iz_a_m3_s_atom'] = df_train_x['K_2_iz_a_m3_s_atom'] / 1e-15 if np.min(df_train_x['K_2_iz_a_m3_s_atom']) > 0 else df_train_x['K_2_iz_a_m3_s_atom'] / 1e-15 - (np.min(df_train_x['K_2_iz_a_m3_s_atom']) / 1e-15-1e-5)\n",
    "\n",
    "# df_train_x['K_iz_exc_a_m3_s_atom'] = df_train_x['K_iz_exc_a_m3_s_atom'] / 1e-14 if np.min(df_train_x['K_iz_exc_a_m3_s_atom']) > 0 else df_train_x['K_iz_exc_a_m3_s_atom'] / 1e-14 - (np.min(df_train_x['K_iz_exc_a_m3_s_atom']) / 1e-14-1e-5)\n",
    "\n",
    "# df_train_x['n_sa_atoms_m3'] = df_train_x['n_sa_atoms_m3'] / 1e10 if np.min(df_train_x['n_sa_atoms_m3']) > 0 else df_train_x['n_sa_atoms_m3'] / 1e10 - (np.min(df_train_x['n_sa_atoms_m3']) / 1e10-1e-5)\n",
    "\n",
    "# df_train_x['n_sb_atoms_m3'] = df_train_x['n_sb_atoms_m3'] / 1e10 if np.min(df_train_x['n_sb_atoms_m3']) > 0 else df_train_x['n_sb_atoms_m3'] / 1e10 - (np.min(df_train_x['n_sb_atoms_m3']) / 1e10-1e-5)\n",
    "\n",
    "# df_train_x['A_a_m2'] = 1.\n",
    "\n",
    "# df_train_x['A_b_m2'] = 1.\n",
    "\n",
    "# df_train_x['n_He_exc_a_atoms_m3'] = df_train_x['n_He_exc_a_atoms_m3'] / 1e17 if np.min(df_train_x['n_He_exc_a_atoms_m3']) > 0 else df_train_x['n_He_exc_a_atoms_m3'] / 1e17 - (np.min(df_train_x['n_He_exc_a_atoms_m3']) / 1e17-1e-5)\n",
    "\n",
    "def rescale(g):\n",
    "    for i in range(0,g.shape[1]):\n",
    "        if np.min(np.abs(g[:,i])) ==0:\n",
    "            n = 0\n",
    "        else:\n",
    "            n = np.mean((np.log10(np.min(np.abs(g[:,i]))), np.log10(np.max(np.abs(g[:,i])))))\n",
    "        if n<0:\n",
    "                g[:,i] = g[:,i]/10**np.ceil(n) if np.min(g[:,i]) > 0 else g[:,i]/10**np.ceil(n) - (np.min(g[:,i]) / 10**np.ceil(n)-1e-5)\n",
    "        else:\n",
    "            g[:,i] = g[:,i]/10**np.floor(n) if np.min(g[:,i]) > 0 else g[:,i]/10**np.floor(n) - (np.min(g[:,i]) / 10**np.floor(n)-1e-5)\n",
    "    return g\n",
    "\n",
    "def rescale_vec(g):\n",
    "    if np.min(np.abs(g)) ==0:\n",
    "        n = 0\n",
    "    else:\n",
    "        n = np.mean((np.log10(np.min(np.abs(g))), np.log10(np.max(np.abs(g)))))\n",
    "    if n<0:\n",
    "            g= g/10**np.ceil(n) if np.min(g) > 0 else g/10**np.ceil(n) - (np.min(g) / 10**np.ceil(n)-1e-5)\n",
    "    else:\n",
    "        g = g/10**np.floor(n) if np.min(g) > 0 else g/10**np.floor(n) - (np.min(g) / 10**np.floor(n)-1e-5)\n",
    "    return g"
   ]
  },
  {
   "cell_type": "code",
   "execution_count": 4,
   "metadata": {
    "ExecuteTime": {
     "end_time": "2023-06-12T03:47:01.718866Z",
     "start_time": "2023-06-12T03:47:01.323367Z"
    },
    "scrolled": false
   },
   "outputs": [
    {
     "name": "stdout",
     "output_type": "stream",
     "text": [
      "48\n"
     ]
    }
   ],
   "source": [
    "#                   0             1           2                    3                   4                   5           6                7                    8                     9                        10                  11                  12                      13                          \n",
    "#df1_names = [ 't_a_seconds', 'Q_a_As', 'V_p_ta_kgm2_s3_A','T_e_a_kgm2_s3_A', 'n_He_exc_a_atoms_m3', 'u_B_a_m_s', 'v_e_a_m_s', 'K_2_iz_a_m3_s_atom','K_loss_a_m6_s_atom2', 'K_iz_exc_a_m3_s_atom', 'K_exc_a_m3_s_atom', 'K_iz_a_m3_s_atom', 'K_elastic_a_m3_s_atom', 'E_elastic_a_kgm2_s2' ]\n",
    "\n",
    "\n",
    "df_time_a = rescale(np.array(pd.read_excel(df_2, sheet_name='time_a_data').iloc[:,1:]))\n",
    "df_time_a_units = np.array(pd.read_excel(df_2, sheet_name='time_a_data_units').iloc[:,1:])\n",
    "df_time_a_n = pd.read_excel(df_2, sheet_name='time_a_data_names').iloc[:,1:]\n",
    "time_a_n= [df_time_a_n.iloc[0,i] for i in range(0,df_time_a_n.shape[1])]\n",
    "#print(df_time_a_n)\n",
    "#print(df_time_a_units)\n",
    "\n",
    "\n",
    "#                   0             1                2               3                   4              5          6             7                   8                    9                       10              11                   12                   13                  \n",
    "#df2_names =  [ 't_b_seconds', 'Q_b_As', 'V_p_tb_kgm2_s3_A','T_e_kgm2_s3_A', 'n_He_exc_atoms_m3', 'u_B_m_s', 'v_e_m_s','K_2_iz_m3_s_atom','K_loss_m6_s_atom2', 'K_iz_exc_m3_s_atom', 'K_exc_m3_s_atom', 'K_iz_m3_s_atom', 'K_elastic_m3_s_atom', 'E_elastic_kgm2_s2' ]\n",
    "df_time_b = rescale(np.array(pd.read_excel(df_2, sheet_name='time_b_data').iloc[:,1:]))\n",
    "df_time_b_units = np.array(pd.read_excel(df_2, sheet_name='time_b_data_units').iloc[:,1:])\n",
    "df_time_b_n = pd.read_excel(df_2, sheet_name='time_b_data_names').iloc[:,1:]\n",
    "time_b_n= [df_time_b_n.iloc[0,i] for i in range(0,df_time_b_n.shape[1])]\n",
    "\n",
    "\n",
    "#                    0                   1                 2               3                 4               5               6                 7                  8           9        10        11                12                   13               14                   \n",
    "#df3_names = ['E_period_kgm2_s2', 'n_sa_atoms_m3','n_sb_atoms_m3', 'n_e_electrons_m3', 'n_g_atoms_m3', 'T_g_kelvin', 'E_iz_kgm2_s2', 'E_iz_exc_kgm2_s2', 'E_exc_kgm2_s2', 'e_c_As', 'm_e_kg', 'M_He_kg',  'epsilon_A2s4_kg_m3', 'eps_0_A2s4_kg_m3', 'k_b_kgm2_s2_K']\n",
    "df_other = rescale(np.array(pd.read_excel(df_2, sheet_name='other_data').iloc[:,1:]))\n",
    "df_other_units = np.array(pd.read_excel(df_2, sheet_name='other_data_units').iloc[:,1:])\n",
    "df_other_n = pd.read_excel(df_2, sheet_name='other_data_names').iloc[:,1:]\n",
    "other_n= [df_other_n.iloc[0,i] for i in range(0,df_other_n.shape[1])]\n",
    "\n",
    "#                    0                 1             2        3        4         5            6            7            8               9              10                 11                      12                      \n",
    "#df4_names = ['Volume_rxtor_m2', 'V_all_beads_m2','A_a_m2','A_b_m2', 'h_m', 'Volume_m3', 'A_bead_m2', 'A_tot_m3', 'frequency_Hz', 'Flow_m3_s', 'temp_C_gas_K', 'Set_Voltage_kgm2_s3_A', 'pulse_time_seconds' ]\n",
    "df_exp = rescale(np.array(pd.read_excel(df_2, sheet_name='Experiment_Design_data').iloc[:,1:]))\n",
    "df_exp_units = np.array(pd.read_excel(df_2, sheet_name='Experiment_Data_units').iloc[:,1:])\n",
    "df_exp_n = pd.read_excel(df_2, sheet_name='Experiment_Data_names').iloc[:,1:]\n",
    "exp_n= [df_exp_n.iloc[0,i] for i in range(0,df_exp_n.shape[1])]\n",
    "\n",
    "\n",
    "\n",
    "#energy balance expanded terms\n",
    "#terms to add: epsilon, other[12]\n",
    "a = df_time_b[:,5].shape[0] #this is just the number of data points\n",
    "\n",
    "\n",
    "\n",
    "# get gamma's!\n",
    "time_a= np.array(pd.read_excel(df_2, sheet_name='time_a_data').iloc[:,1:])\n",
    "time_b = np.array(pd.read_excel(df_2, sheet_name='time_b_data').iloc[:,1:])\n",
    "other_data = np.array(pd.read_excel(df_2, sheet_name='other_data').iloc[:,1:])\n",
    "\n",
    "K_iz_exc_a = time_a[:,9]\n",
    "K_exc_a = time_a[:,10]\n",
    "K_iz_a = time_a[:,11]\n",
    "K_ela_a = time_a[:,12]\n",
    "E_ela_a = time_a[:,13]\n",
    "\n",
    "K_iz_exc = time_b[:,9]\n",
    "K_exc = time_b[:,10]\n",
    "K_iz = time_b[:,11]\n",
    "K_ela = time_b[:,12]\n",
    "E_ela = time_b[:,13]\n",
    "\n",
    "E_iz_exc = other_data[:,6] \n",
    "E_exc = other_data[:,7]\n",
    "E_iz = other_data[:,8]\n",
    "\n",
    "\n",
    "# time a gammas\n",
    "y_iz_exc_a = np.multiply(K_iz_exc_a, E_iz_exc).reshape(a,1)\n",
    "y_iz_exc_a_units = df_time_a_units[:,9].reshape(6,1)+df_other_units[:,6].reshape(6,1)\n",
    "#print(y_iz_exc_a_units)\n",
    "\n",
    "y_exc_a = np.multiply(K_exc_a, E_exc).reshape(a,1)\n",
    "y_exc_a_units = df_time_a_units[:,10].reshape(6,1)+df_other_units[:,7].reshape(6,1)\n",
    "#print(y_exc_a_units)\n",
    "\n",
    "y_iz_a = np.multiply(K_iz_a, E_iz).reshape(a,1)\n",
    "y_iz_a_units = df_time_a_units[:,11].reshape(6,1)+df_other_units[:,8].reshape(6,1)\n",
    "#print(y_iz_a_units)\n",
    "\n",
    "y_ela_a = np.multiply(K_ela_a, E_ela_a).reshape(a,1)\n",
    "y_ela_a_units = df_time_a_units[:,12].reshape(6,1)+ df_time_a_units[:,13].reshape(6,1)\n",
    "#print(y_iz_a_units)\n",
    "\n",
    "y_iz_exc = np.multiply(K_iz_exc, E_iz_exc).reshape(a,1)\n",
    "y_iz_exc_units = df_time_b_units[:,9].reshape(6,1)+df_other_units[:,6].reshape(6,1)\n",
    "#print(y_iz_exc_units)\n",
    "\n",
    "y_exc = np.multiply(K_exc, E_exc).reshape(a,1)\n",
    "y_exc_units = df_time_b_units[:,10].reshape(6,1)+df_other_units[:,7].reshape(6,1)\n",
    "#print(y_exc_units)\n",
    "\n",
    "\n",
    "y_iz = np.multiply(K_iz, E_iz).reshape(a,1)\n",
    "y_iz_units = df_time_b_units[:,10].reshape(6,1)+df_other_units[:,7].reshape(6,1)\n",
    "#print(y_iz_units)\n",
    "\n",
    "y_ela = np.multiply(K_ela, E_ela).reshape(a,1)\n",
    "y_ela_units = df_time_b_units[:,12].reshape(6,1)+ df_time_b_units[:,13].reshape(6,1)\n",
    "#print(y_ela_units)\n",
    "\n",
    "df_gamma = rescale(np.hstack((y_iz_exc_a, y_exc_a, y_iz_a, y_ela_a, y_iz_exc, y_exc, y_iz, y_ela)))\n",
    "gamma_units = np.hstack((y_iz_exc_a_units, y_exc_a_units, y_iz_a_units, y_ela_a_units, y_iz_exc_units, y_exc_units, y_iz_units, y_ela_units))\n",
    "gamma_n = ['y_iz_exc_a', 'y_exc_a', 'y_iz_a', 'y_ela_a', 'y_iz_exc', 'y_exc', 'y_iz', 'y_ela' ]\n",
    "\n",
    "# y_exc_a = gammas[:,8] #K_exc_a * E_exc_a\n",
    "# y_exc_a_units = np.array([5,-3,-2,1,0,0])  #WRONG SHOULD BE [5,-3,-2,1,0,0]\n",
    "\n",
    "# y_iz_a = gammas[:,9]#K_iz_a*E_iz\n",
    "# y_iz_a_units = np.array([5,-3,-2,1,0,0])\n",
    "\n",
    "# y_iz_exc_a = gammas[:,10]#K_iz_exc_a*E_iz_exc\n",
    "# y_iz_exc_a_units = np.array([5,-3,-2,1,0,0])\n",
    "\n",
    "# y_elastic = gammas[:,11]#K_elastic*E_elastic\n",
    "# y_elastic_units = np.array([5,-3,-2,1,0,0])\n",
    "\n",
    "# inputs = np.hstack((df_exp[:,5].reshape(a,1),df_other[:,3].reshape(a,1),df_other[:,4].reshape(a,1),df_other[:,9].reshape(a,1),df_exp[:,7].reshape(a,1),df_other[:,0].reshape(a,1),y_exc_a.reshape(a,1),y_iz_a.reshape(a,1),y_iz_exc_a.reshape(a,1),y_elastic.reshape(a,1),df_time_a[:,0].reshape(a,1), df_other[:,1].reshape(a,1), df_other[:,2].reshape(a,1),df_time_a[:,2].reshape(a,1),df_time_b[:,0].reshape(a,1), df_time_b[:,5].reshape(a,1),df_time_b[:,2].reshape(a,1),df_time_b[:,6].reshape(a,1),df_time_a[:,4].reshape(a,1), df_other[:,12].reshape(a,1)))\n",
    "# D_in = np.hstack((df_exp_units[:,5].reshape(6,1),df_other_units[:,3].reshape(6,1),df_other_units[:,4].reshape(6,1),df_other_units[:,9].reshape(6,1),df_exp_units[:,7].reshape(6,1),df_other_units[:,0].reshape(6,1),y_exc_a_units.reshape(6,1),y_iz_a_units.reshape(6,1),y_iz_exc_a_units.reshape(6,1),y_elastic_units.reshape(6,1),df_time_a_units[:,0].reshape(6,1),df_other_units[:,1].reshape(6,1),df_other_units[:,2].reshape(6,1),df_time_a_units[:,2].reshape(6,1),df_time_b_units[:,0].reshape(6,1),df_time_b_units[:,5].reshape(6,1),df_time_b_units[:,2].reshape(6,1),df_time_b_units[:,6].reshape(6,1),df_time_a_units[:,4].reshape(6,1), df_other_units[:,12].reshape(6,1)))\n",
    "# variables = [exp_n[5],other_n[3],other_n[4],other_n[9],exp_n[7],other_n[0],'y_exc_a_kgm5_s3_atoms2','y_iz_a_kgm5_s3_atoms2','y_iz_exc_a_kgm5_s3_atoms2','y_elastic_kgm5_s3_atoms2',time_a_n[0],other_n[1],other_n[2],time_a_n[2],time_b_n[0],time_b_n[5],time_b_n[2],time_b_n[6],time_a_n[4],other_n[12]]\n",
    "# print(variables)\n",
    "# print(D_in)\n",
    "\n",
    "\n",
    "\n",
    "\n",
    "#energy balance terms\n",
    "# #now to construct  'Volume_m3', 'n_e_atoms_m3', 'n_g_atoms_m3', 'e_c_As', 'A_tot', 'E_kgm2_s2_atom', 'y_exc_a_kgm5_s3_atoms2', 'y_iz_a_kgm5_s3_atoms2', 'y_iz_exc_a_kgm5_s3_atoms2', 'y_elastic_kgm5_s3_atoms2', 't_a_s', 'n_sa_atoms_m3', 'n_sb_atoms_m3', 'V_p_ta_volts', 't_b_s', 'u_B_m_s', 'V_p_tb_volts', 'v_e_m_s', 'n_He_exc_a_atoms_m3'  \n",
    "# a = df_time_b[:,5].shape[0] #this is just the number of data points\n",
    "\n",
    "# # get gamma's!\n",
    "# gammas= rescale(np.array(pd.read_excel(df_y, sheet_name='inputs').iloc[:,1:]))\n",
    "\n",
    "# y_exc_a = gammas[:,8] #K_exc_a * E_exc_a\n",
    "# y_exc_a_units = np.array([5,-3,-2,1,0,0])\n",
    "\n",
    "# y_iz_a = gammas[:,9]#K_iz_a*E_iz\n",
    "# y_iz_a_units = np.array([5,-3,-2,1,0,0])\n",
    "\n",
    "# y_iz_exc_a = gammas[:,10]#K_iz_exc_a*E_iz_exc\n",
    "# y_iz_exc_a_units = np.array([5,-3,-2,1,0,0])\n",
    "\n",
    "# y_elastic = gammas[:,11]#K_elastic*E_elastic\n",
    "# y_elastic_units = np.array([5,-3,-2,1,0,0])\n",
    "\n",
    "print(a)"
   ]
  },
  {
   "cell_type": "code",
   "execution_count": 5,
   "metadata": {},
   "outputs": [
    {
     "name": "stdout",
     "output_type": "stream",
     "text": [
      "['E_period_kgm2_s2', 'n_g_atoms_m3', 'Volume_m3', 'y_ela', 't_b_seconds', 'n_e_electrons_m3', 'y_exc_a', 't_a_seconds', 'y_iz_a', 'y_ela_a', 'n_sa_atoms_m3', 'u_B_m_s', 'A_a_m2', 'e_c_As', 'V_p_tb_kgm2_s3_A']\n",
      "[[ 2 -3  3  5  0 -3  5  0  5  5 -3  1  2  0  2]\n",
      " [-2  0  0 -3  1  0 -3  1 -3 -3  0 -1  0  1 -3]\n",
      " [ 0  1  0 -1  0  1 -1  0 -1 -1  1  0  0  0  0]\n",
      " [ 1  0  0  1  0  0  1  0  1  1  0  0  0  0  1]\n",
      " [ 0  0  0  0  0  0  0  0  0  0  0  0  0  1 -1]\n",
      " [ 0  0  0  0  0  0  0  0  0  0  0  0  0  0  0]]\n"
     ]
    }
   ],
   "source": [
    "# # six major rates  for UNpacked \n",
    "# # include E in, elastic tb , ta_excitation, ta_ionization, ta_elastic, tb_ion_energy_loss_electrode_a\n",
    "\n",
    "a = df_time_b[:,5].shape[0]\n",
    "\n",
    "\n",
    "# E in\n",
    "E_in_inputs = df_other[:,0].reshape(a,1)\n",
    "E_in_D_in = df_other_units[:,0].reshape(6,1)\n",
    "E_in_n = [other_n[0]]\n",
    "\n",
    "\n",
    "\n",
    "# # vol time a elastic:  n_g df_other[4], V df_exp[5] , K_ela + E_ela  df_gamma[7] , t_b df_time_b[0], n_e df_other[3]\n",
    "elastic_tb_inputs = np.hstack(( df_other[:,4].reshape(a,1) , df_exp[:,5].reshape(a,1) , df_gamma[:,7].reshape(a,1) , df_time_b[:,0].reshape(a,1) ,  df_other[:,3].reshape(a,1) ))\n",
    "elastic_tb_D_in = np.hstack(( df_other_units[:,4].reshape(6,1), df_exp_units[:,5].reshape(6,1) , gamma_units[:,7].reshape(6,1) , df_time_b_units[:,0].reshape(6,1) , df_other_units[:,3].reshape(6,1) ))\n",
    "elastic_tb_n = [other_n[4] , exp_n[5], gamma_n[7] , time_b_n[0], other_n[3] ]\n",
    "\n",
    "\n",
    "# # vol ta excitation: n_e [na], n_g [na], V[na], K_exc_a * E_exc df_gamma[1] , t_a df_time_a[0] \n",
    "exc_ta_inputs = np.hstack(( df_gamma[:,1].reshape(a,1), df_time_a[:,0].reshape(a,1)  )) \n",
    "exc_ta_D_in = np.hstack(( gamma_units[:,1].reshape(6,1) , df_time_a_units[:,0].reshape(6,1)  ))\n",
    "exc_ta_n = [ gamma_n[1] , time_a_n[0] ]\n",
    "\n",
    "# # # vol time a ionization:  n_g df_other[na], V df_exp[na] , K_iz_a + E_iz  df_gamma[2] , t_a df_time_a[na], n_e df_other[na]\n",
    "ion_ta_inputs =  df_gamma[:,2].reshape(a,1) \n",
    "ion_ta_D_in = gamma_units[:,2].reshape(6,1) \n",
    "ion_ta_n = [ gamma_n[2] ]\n",
    "\n",
    "# # # ta elastic: ne [na], ng [na], V [na], K_ela_a * E_ela_a dfz-gamma[3], t_a[na]\n",
    "ela_a_ta_inputs = df_gamma[:,3].reshape(a,1)\n",
    "ela_a_D_in = gamma_units[:,3].reshape(6,1)\n",
    "ela_a_ta_n = [gamma_n[3]]\n",
    "\n",
    "\n",
    "# # tb ion energy loss electrode a: n_sa df_other[1] , u_B df_time_b [5] , A_a df_exp[2] , t_b [na] , e_c df_other[9], V_p_tb df_time_b[2]\n",
    "ion_electrode_a_tb_inputs = np.hstack(( df_other[:,1].reshape(a,1) , df_time_b[:,5].reshape(a,1) , df_exp[:,2].reshape(a,1) , df_other[:,9].reshape(a,1) , df_time_b[:,2].reshape(a,1) )) \n",
    "ion_electrode_a_tb_D_in = np.hstack(( df_other_units[:,1].reshape(6,1) , df_time_b_units[:,5].reshape(6,1) , df_exp_units[:,2].reshape(6,1) , df_other_units[:,9].reshape(6,1) , df_time_b_units[:,2].reshape(6,1) )) \n",
    "ion_electrode_a_tb_n = [ other_n[1] , time_b_n[5], exp_n[2] , other_n[9] , time_b_n[2] ]\n",
    "\n",
    "\n",
    "inputs = np.hstack((E_in_inputs, elastic_tb_inputs, exc_ta_inputs, ion_ta_inputs , ela_a_ta_inputs , ion_electrode_a_tb_inputs ))\n",
    "D_in = np.hstack(( E_in_D_in, elastic_tb_D_in , exc_ta_D_in , ion_ta_D_in , ela_a_D_in , ion_electrode_a_tb_D_in))\n",
    "variables = E_in_n + elastic_tb_n + exc_ta_n + ion_ta_n + ela_a_ta_n + ion_electrode_a_tb_n\n",
    "print(variables)\n",
    "print(D_in)"
   ]
  },
  {
   "cell_type": "code",
   "execution_count": 6,
   "metadata": {
    "ExecuteTime": {
     "end_time": "2023-06-12T03:47:01.746040Z",
     "start_time": "2023-06-12T03:47:01.715008Z"
    }
   },
   "outputs": [
    {
     "name": "stdout",
     "output_type": "stream",
     "text": [
      "(48, 15)\n",
      "(6, 15)\n"
     ]
    }
   ],
   "source": [
    "print(inputs.shape)\n",
    "print(D_in.shape)"
   ]
  },
  {
   "cell_type": "code",
   "execution_count": 7,
   "metadata": {
    "ExecuteTime": {
     "end_time": "2023-06-12T03:47:01.859697Z",
     "start_time": "2023-06-12T03:47:01.727307Z"
    }
   },
   "outputs": [
    {
     "name": "stdout",
     "output_type": "stream",
     "text": [
      "[0.12465993 0.12317172 0.15293603 0.16317845 0.16738047 0.12719865\n",
      " 0.1216835  0.15442424 0.1659798  0.19600673 0.13236364 0.14777104\n",
      " 0.11599327 0.17525926 0.1516229  0.11643098 0.14619529 0.11958249\n",
      " 0.1316633  0.15346128 0.14085522 0.11940741 0.11949495 0.12360943\n",
      " 0.12317172 0.12457239 0.15424916 0.16939394 0.16589226 0.19294276\n",
      " 0.18112458 0.13376431 0.15556229 0.15451178 0.14637037 0.165367\n",
      " 0.19215488 0.19355556 0.16291582 0.19294276 0.15092256 0.14505724\n",
      " 0.17814815 0.28915152 0.23785185 0.15083502 0.22323232 0.26358923]\n",
      "[ 4.74666667  4.69        5.82333333  6.21333333  6.37333333  4.84333333\n",
      "  4.63333333  5.88        6.32        7.46333333  5.04        5.62666667\n",
      "  4.41666667  6.67333333  5.77333333  4.43333333  5.56666667  4.55333333\n",
      "  5.01333333  5.84333333  5.36333333  4.54666667  4.55        4.70666667\n",
      "  4.69        4.74333333  5.87333333  6.45        6.31666667  7.34666667\n",
      "  6.89666667  5.09333333  5.92333333  5.88333333  5.57333333  6.29666667\n",
      "  7.31666667  7.37        6.20333333  7.34666667  5.74666667  5.52333333\n",
      "  6.78333333 11.01        9.05666667  5.74333333  8.5        10.03666667]\n"
     ]
    }
   ],
   "source": [
    "#For predicting Te/Tg: keep top block, comment bottom block. For predicting ne/ng, keep bottom block, comment top block.\n",
    "\n",
    "\n",
    "\n",
    "\n",
    "#### TOP BLOCK ####\n",
    "\n",
    "df_out = pd.read_excel(df_2, sheet_name='time_b_data').iloc[:,1:]\n",
    "T_e = np.array(df_out.iloc[:,3])\n",
    "df_out = pd.read_excel(df_2, sheet_name='other_data').iloc[:,1:]\n",
    "T_g = np.array(df_out.iloc[:,5])*0.026/297\n",
    "T_e_no_dim = T_e/T_g\n",
    "print(T_e)\n",
    "output = rescale_vec(T_e_no_dim)\n",
    "print(output)\n",
    "D_out = np.array(\n",
    "    [\n",
    "        [0.],\n",
    "        [0.],\n",
    "        [0.],\n",
    "        [0.],\n",
    "        [0,],\n",
    "        [0.]\n",
    "    ],\n",
    "\n",
    ")\n",
    "\n",
    "\n",
    "\n",
    "#### BOTTOM BLOCK ####\n",
    "\n",
    "# df_out = pd.read_excel(df_2, sheet_name='other_data').iloc[:,1:]\n",
    "# n_e = np.array(df_out.iloc[:,3])\n",
    "# df_out = pd.read_excel(df_2, sheet_name='other_data').iloc[:,1:]\n",
    "# n_g = np.array(df_out.iloc[:,4])\n",
    "# n_e_no_dim = n_e/n_g\n",
    "# print(n_e)\n",
    "# print(n_e_no_dim)\n",
    "# output = rescale_vec(n_e_no_dim)\n",
    "# print(output)\n",
    "# D_out = np.array(\n",
    "#     [\n",
    "#         [0.],\n",
    "#         [0.],\n",
    "#         [0.],\n",
    "#         [0.],\n",
    "#         [0,],\n",
    "#         [0.]\n",
    "#     ],\n",
    "\n",
    "# )\n"
   ]
  },
  {
   "cell_type": "code",
   "execution_count": 8,
   "metadata": {
    "is_executing": true
   },
   "outputs": [],
   "source": [
    "from PyDBDdim import PiLinearRegressionViaTorch\n",
    "\n",
    "\n",
    "#the code does five fold to ensure the R2 is worth while.\n",
    "# we then want to rerun the fitting on all data instead of 80% of it. The 5fold find the right number of epochs.\n",
    "# so, we re run to find the right number of epochs, and then we must store the parameters and the R2 from the 5-fold fitting.\n",
    "#"
   ]
  },
  {
   "cell_type": "code",
   "execution_count": 9,
   "metadata": {
    "ExecuteTime": {
     "end_time": "2023-06-12T03:47:33.979886Z",
     "start_time": "2023-06-12T03:47:33.941455Z"
    }
   },
   "outputs": [],
   "source": [
    "from PyDBDdim import PiLinearRegressionViaTorch"
   ]
  },
  {
   "cell_type": "code",
   "execution_count": 10,
   "metadata": {
    "ExecuteTime": {
     "end_time": "2023-06-12T03:48:11.003285Z",
     "start_time": "2023-06-12T03:48:10.989357Z"
    }
   },
   "outputs": [],
   "source": [
    "# ndimensionless = 1\n",
    "# lambda_gamma = 0.01\n",
    "# lambda_beta = 0.01\n",
    "# poly_order = 1\n",
    "# poly_mapping = np.array([[0],\n",
    "#                          [1]])\n",
    "# para_threshold = 0.005\n",
    "# model_train = PiLinearRegressionViaTorch.TrainHolder(fff.X, fff.y, poly_mapping.shape[0], fff.y.shape[-1],\n",
    "#                                                      poly_mapping,\n",
    "#                                                      fff.basis_col,\n",
    "#                                                      ndimensionless, lambda_gamma, lambda_beta, lowest_para_threshold=para_threshold)"
   ]
  },
  {
   "cell_type": "code",
   "execution_count": 11,
   "metadata": {
    "ExecuteTime": {
     "end_time": "2023-06-12T03:48:49.221271Z",
     "start_time": "2023-06-12T03:48:49.186719Z"
    }
   },
   "outputs": [],
   "source": [
    "#model_train.model.pi.para = torch.nn.Parameter(torch.tensor([[0.61421621,\t3.089901834,\t1.490923021,\t0.015626248,\t0.895745453,\t0.655244742,\t0,\t0,\t0.021770321,\t0.011003651,\t0,\t0,\t0.029786742,\t0]], requires_grad=True).t().double())"
   ]
  },
  {
   "cell_type": "code",
   "execution_count": 12,
   "metadata": {
    "ExecuteTime": {
     "end_time": "2023-06-12T03:49:10.353233Z",
     "start_time": "2023-06-12T03:49:10.314384Z"
    }
   },
   "outputs": [],
   "source": [
    "#model_train.model.linear.linear.weight = torch.nn.Parameter(torch.tensor([[0,\t0.762072241]], requires_grad=True).double())"
   ]
  },
  {
   "cell_type": "code",
   "execution_count": 13,
   "metadata": {
    "ExecuteTime": {
     "end_time": "2023-06-12T03:49:18.919043Z",
     "start_time": "2023-06-12T03:49:18.885279Z"
    }
   },
   "outputs": [],
   "source": [
    "# model_train.model.eval()\n",
    "# with torch.no_grad():\n",
    "#     y_pred_train = model_train.model(X_train_val)\n",
    "#     y_pred_test = model_train.model(X_test)"
   ]
  },
  {
   "cell_type": "code",
   "execution_count": 14,
   "metadata": {
    "ExecuteTime": {
     "end_time": "2023-06-12T03:56:42.679599Z",
     "start_time": "2023-06-12T03:56:42.562238Z"
    }
   },
   "outputs": [],
   "source": [
    "# from sklearn.metrics import r2_score\n",
    "# print(r2_score(y_train_val, y_pred_train[0]))"
   ]
  },
  {
   "cell_type": "code",
   "execution_count": 15,
   "metadata": {
    "ExecuteTime": {
     "end_time": "2023-06-12T03:52:21.095773Z",
     "start_time": "2023-06-12T03:52:21.043715Z"
    }
   },
   "outputs": [],
   "source": [
    "import matplotlib.pyplot as plt"
   ]
  },
  {
   "cell_type": "code",
   "execution_count": 16,
   "metadata": {},
   "outputs": [
    {
     "name": "stdout",
     "output_type": "stream",
     "text": [
      "flag 1\n",
      "Y.shape  = (48, 1)\n",
      "X.shape  = (48, 1)\n",
      "test_size =  2\n",
      "sorted indices =  [43 47]\n",
      "flag 2\n",
      "Y_test.shape  =  (2, 1)\n",
      "X_test.shape  = (2, 15)\n",
      "flag 3\n",
      "Y_train.shape  = (46, 1)\n",
      "X_train.shape  = (46, 15)\n",
      "flag 4\n",
      "Y_test.shape  = (2, 1)\n",
      "X_test.shape  = (2, 15)\n",
      "Y_train.shape  = (46, 1)\n",
      "X_train.shape  = (46, 15)\n"
     ]
    }
   ],
   "source": [
    "import torch\n",
    "import torch.nn as nn\n",
    "import numpy as np\n",
    "import sys\n",
    "import matplotlib\n",
    "sys.path.append(r'C:\\Users\\vvmil\\Documents\\Python_Vmil\\Jupyter_Notebooks\\Plasma_He_calcs\\He_code_new')\n",
    "import vics_fcns as vf\n",
    "\n",
    "output = np.reshape(output, (len(output),1))\n",
    "\n",
    "X_test, Y_test, X_train_val, y_train_val = vf.top_split_y(inputs,output,5)\n",
    "\n",
    "\n",
    "x_test = torch.tensor(X_test)\n",
    "y_test = torch.tensor(Y_test)\n",
    "x_train = torch.tensor(X_train_val)\n",
    "y_train = torch.tensor(y_train_val)\n",
    "\n",
    "# Define the modified Power Law model\n",
    "class ModifiedPowerLawModel(nn.Module):\n",
    "    def __init__(self, coefficients, exponents):\n",
    "        super(ModifiedPowerLawModel, self).__init__()\n",
    "        # Assuming the model is already fitted, we'll use the provided coefficients and exponents\n",
    "        self.coefficients = torch.nn.Parameter(torch.tensor(coefficients), requires_grad=False)\n",
    "        self.exponents = torch.nn.Parameter(torch.tensor(exponents), requires_grad=False)\n",
    "\n",
    "    def forward(self, x):\n",
    "        # Compute x_i raised to exponent_i and multiply them together\n",
    "        product = torch.prod(torch.pow(x, self.exponents), dim=1)\n",
    "        # Multiply the result by coefficient[1]\n",
    "        return self.coefficients[1] * product + self.coefficients[0]\n",
    "\n"
   ]
  },
  {
   "cell_type": "code",
   "execution_count": 17,
   "metadata": {},
   "outputs": [
    {
     "name": "stdout",
     "output_type": "stream",
     "text": [
      "0.9931924860264016\n"
     ]
    }
   ],
   "source": [
    "# Assuming you have your fitted model's coefficients and exponents\n",
    "#exponents = torch.tensor([0, 0, 1.133479, 0, 0, 0.951609, 0, 0, -2.08509, 0, 0, 0, 0 ])\n",
    "exponents = torch.tensor([0, 0, 0, 0.86, 0, 0, 0, 0, 0.11, -0.97, 0, 0, 0, 0, 0 ])\n",
    "coefficients = torch.tensor([0.4989, 4.1783])  \n",
    "\n",
    "# Instantiate the model with the fitted parameters\n",
    "model = ModifiedPowerLawModel(coefficients, exponents)\n",
    "\n",
    "\n",
    "# Put the model in evaluation mode\n",
    "model.eval()\n",
    "\n",
    "# Compute predictions without tracking gradients\n",
    "with torch.no_grad():\n",
    "    y_pred_test = model.forward(x_test)\n",
    "    y_pred_train = model.forward(x_train)\n",
    "# Compute R^2 score\n",
    "from sklearn.metrics import r2_score\n",
    "\n",
    "print(r2_score(y_test, y_pred_test))"
   ]
  },
  {
   "cell_type": "code",
   "execution_count": 19,
   "metadata": {},
   "outputs": [
    {
     "data": {
      "image/png": "[encoded data removed]",
      "text/plain": [
       "<Figure size 2400x900 with 2 Axes>"
      ]
     },
     "metadata": {},
     "output_type": "display_data"
    }
   ],
   "source": [
    "plt.figure(dpi=300, figsize=(8, 3))\n",
    "plt.rcParams['text.usetex'] = True\n",
    "\n",
    "\n",
    "top_val = 12\n",
    "min_val = 4\n",
    "\n",
    "plt.subplot(121)\n",
    "plt.plot([min_val,top_val], [min_val,top_val], 'g-', lw=2, label = 'Predicted = Observed')\n",
    "plt.plot(y_train, y_pred_train,'b.', ms=5, label = 'Training Data')\n",
    "plt.xlim([min_val,top_val])\n",
    "plt.ylim([min_val,top_val])\n",
    "plt.xlabel(r'Training $\\frac{T_e}{T_g}$')\n",
    "plt.ylabel(r'Observed $\\frac{T_e}{T_g}$')\n",
    "plt.legend()\n",
    "\n",
    "plt.subplot(122)\n",
    "plt.plot([min_val,top_val], [min_val,top_val], 'g-', lw=2, label = 'Predicted = Observed')\n",
    "plt.plot(y_test, y_pred_test,'r.', ms=5, label = 'Observed Data')\n",
    "plt.xlim([min_val,top_val])\n",
    "plt.ylim([min_val,top_val])\n",
    "plt.xlabel(r'Observed $\\frac{T_e}{T_g}$')\n",
    "plt.ylabel(r'Predicted $\\frac{T_e}{T_g}$')\n",
    "plt.legend()\n",
    "\n",
    "plt.show()"
   ]
  },
  {
   "cell_type": "code",
   "execution_count": null,
   "metadata": {},
   "outputs": [],
   "source": []
  }
 ],
 "metadata": {
  "kernelspec": {
   "display_name": "research",
   "language": "python",
   "name": "research"
  },
  "language_info": {
   "codemirror_mode": {
    "name": "ipython",
    "version": 3
   },
   "file_extension": ".py",
   "mimetype": "text/x-python",
   "name": "python",
   "nbconvert_exporter": "python",
   "pygments_lexer": "ipython3",
   "version": "3.9.18"
  }
 },
 "nbformat": 4,
 "nbformat_minor": 1
}
