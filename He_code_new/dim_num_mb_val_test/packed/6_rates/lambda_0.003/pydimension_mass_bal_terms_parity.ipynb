{
 "cells": [
  {
   "cell_type": "code",
   "execution_count": 3,
   "metadata": {
    "ExecuteTime": {
     "end_time": "2023-06-12T02:33:54.989778Z",
     "start_time": "2023-06-12T02:33:43.944290Z"
    }
   },
   "outputs": [],
   "source": [
    "from PyDBDdim.utils import DimensionlessLearning\n",
    "import torch\n",
    "torch.manual_seed(0)\n",
    "import numpy as np\n",
    "import pandas as pd\n",
    "import matplotlib.pyplot as plt\n",
    "import os\n",
    "import warnings\n",
    "from sklearn.model_selection import train_test_split\n",
    "from vics_fcns import top_split_y#, top_split_x\n",
    "\n",
    "warnings.filterwarnings(\"ignore\")\n"
   ]
  },
  {
   "cell_type": "code",
   "execution_count": 4,
   "metadata": {
    "ExecuteTime": {
     "end_time": "2023-06-12T02:33:55.344094Z",
     "start_time": "2023-06-12T02:33:54.993629Z"
    }
   },
   "outputs": [],
   "source": [
    "#df = pd.ExcelFile(r\"mass_balance_params.xlsx\")\n",
    "df_2 = pd.ExcelFile(r'C:\\Users\\vvmil\\Documents\\Python_Vmil\\Jupyter_Notebooks\\Plasma_He_calcs\\He_code_new\\collected_output_files_packing\\data_from_EB_looping_all_sizes_remove_extraneous_dims.xlsx')\n",
    "#df_2 = pd.ExcelFile(r'C:\\Users\\vvmil\\Documents\\Python_Vmil\\Jupyter_Notebooks\\Plasma_He_calcs\\data\\data_no_packing_all\\data_from_EB_looping_new_excel_new_code_no_packing_v3.xlsx')"
   ]
  },
  {
   "cell_type": "code",
   "execution_count": 5,
   "metadata": {
    "ExecuteTime": {
     "end_time": "2023-06-12T02:33:55.356755Z",
     "start_time": "2023-06-12T02:33:55.344974Z"
    }
   },
   "outputs": [],
   "source": [
    "# df_train_x['u_B_m_s'] = df_train_x['u_B_m_s'] / 1000 if np.min(df_train_x['u_B_m_s']) > 0 else df_train_x['u_B_m_s'] / 1000 - (np.min(df_train_x['u_B_m_s']) / 1000-1e-5)\n",
    "# df_train_x['A_tot_m2'] = 1.\n",
    "# df_train_x['t_a_s'] = df_train_x['t_a_s'] / 1e-7 if np.min(df_train_x['t_a_s']) > 0 else df_train_x['t_a_s'] / 1e-7 - (np.min(df_train_x['t_a_s']) / 1e-7-1e-5)\n",
    "# df_train_x['t_b_s'] = df_train_x['t_b_s'] / 1e-4 if np.min(df_train_x['t_b_s']) > 0 else df_train_x['t_b_s'] / 1e-4 - (np.min(df_train_x['t_b_s']) / 1e-4-1e-5)\n",
    "# df_train_x['Volume_m3'] = 1.\n",
    "# df_train_x['K_iz_a_m3_s_atom'] = df_train_x['K_iz_a_m3_s_atom'] / 1e-15 if np.min(df_train_x['K_iz_a_m3_s_atom']) > 0 else df_train_x['K_iz_a_m3_s_atom'] / 1e-15 - (np.min(df_train_x['K_iz_a_m3_s_atom']) / 1e-15-1e-5)\n",
    "\n",
    "# df_train_x['K_2_iz_a_m3_s_atom'] = df_train_x['K_2_iz_a_m3_s_atom'] / 1e-15 if np.min(df_train_x['K_2_iz_a_m3_s_atom']) > 0 else df_train_x['K_2_iz_a_m3_s_atom'] / 1e-15 - (np.min(df_train_x['K_2_iz_a_m3_s_atom']) / 1e-15-1e-5)\n",
    "\n",
    "# df_train_x['K_iz_exc_a_m3_s_atom'] = df_train_x['K_iz_exc_a_m3_s_atom'] / 1e-14 if np.min(df_train_x['K_iz_exc_a_m3_s_atom']) > 0 else df_train_x['K_iz_exc_a_m3_s_atom'] / 1e-14 - (np.min(df_train_x['K_iz_exc_a_m3_s_atom']) / 1e-14-1e-5)\n",
    "\n",
    "# df_train_x['n_sa_atoms_m3'] = df_train_x['n_sa_atoms_m3'] / 1e10 if np.min(df_train_x['n_sa_atoms_m3']) > 0 else df_train_x['n_sa_atoms_m3'] / 1e10 - (np.min(df_train_x['n_sa_atoms_m3']) / 1e10-1e-5)\n",
    "\n",
    "# df_train_x['n_sb_atoms_m3'] = df_train_x['n_sb_atoms_m3'] / 1e10 if np.min(df_train_x['n_sb_atoms_m3']) > 0 else df_train_x['n_sb_atoms_m3'] / 1e10 - (np.min(df_train_x['n_sb_atoms_m3']) / 1e10-1e-5)\n",
    "\n",
    "# df_train_x['A_a_m2'] = 1.\n",
    "\n",
    "# df_train_x['A_b_m2'] = 1.\n",
    "\n",
    "# df_train_x['n_He_exc_a_atoms_m3'] = df_train_x['n_He_exc_a_atoms_m3'] / 1e17 if np.min(df_train_x['n_He_exc_a_atoms_m3']) > 0 else df_train_x['n_He_exc_a_atoms_m3'] / 1e17 - (np.min(df_train_x['n_He_exc_a_atoms_m3']) / 1e17-1e-5)\n",
    "\n",
    "def rescale(g):\n",
    "    for i in range(0,g.shape[1]):\n",
    "        if np.min(np.abs(g[:,i])) ==0:\n",
    "            n = 0\n",
    "        else:\n",
    "            n = np.mean((np.log10(np.min(np.abs(g[:,i]))), np.log10(np.max(np.abs(g[:,i])))))\n",
    "        if n<0:\n",
    "                g[:,i] = g[:,i]/10**np.ceil(n) if np.min(g[:,i]) > 0 else g[:,i]/10**np.ceil(n) - (np.min(g[:,i]) / 10**np.ceil(n)-1e-5)\n",
    "        else:\n",
    "            g[:,i] = g[:,i]/10**np.floor(n) if np.min(g[:,i]) > 0 else g[:,i]/10**np.floor(n) - (np.min(g[:,i]) / 10**np.floor(n)-1e-5)\n",
    "    return g\n",
    "\n",
    "def rescale_vec(g):\n",
    "    if np.min(np.abs(g)) ==0:\n",
    "        n = 0\n",
    "    else:\n",
    "        n = np.mean((np.log10(np.min(np.abs(g))), np.log10(np.max(np.abs(g)))))\n",
    "    if n<0:\n",
    "            g= g/10**np.ceil(n) if np.min(g) > 0 else g/10**np.ceil(n) - (np.min(g) / 10**np.ceil(n)-1e-5)\n",
    "    else:\n",
    "        g = g/10**np.floor(n) if np.min(g) > 0 else g/10**np.floor(n) - (np.min(g) / 10**np.floor(n)-1e-5)\n",
    "    return g"
   ]
  },
  {
   "cell_type": "code",
   "execution_count": 6,
   "metadata": {
    "ExecuteTime": {
     "end_time": "2023-06-12T02:33:55.587559Z",
     "start_time": "2023-06-12T02:33:55.376276Z"
    },
    "scrolled": false
   },
   "outputs": [],
   "source": [
    "#                   0             1           2                    3                   4                   5           6                7                    8                     9                        10                  11                  12                      13                          \n",
    "#df1_names = [ 't_a_seconds', 'Q_a_As', 'V_p_ta_kgm2_s3_A','T_e_a_kgm2_s3_A', 'n_He_exc_a_atoms_m3', 'u_B_a_m_s', 'v_e_a_m_s', 'K_2_iz_a_m3_s_atom','K_loss_a_m6_s_atom2', 'K_iz_exc_a_m3_s_atom', 'K_exc_a_m3_s_atom', 'K_iz_a_m3_s_atom', 'K_elastic_a_m3_s_atom', 'E_elastic_a_kgm2_s2' ]\n",
    "\n",
    "\n",
    "df_time_a = rescale(np.array(pd.read_excel(df_2, sheet_name='time_a_data').iloc[:,1:]))\n",
    "df_time_a_units = np.array(pd.read_excel(df_2, sheet_name='time_a_data_units').iloc[:,1:])\n",
    "df_time_a_n = pd.read_excel(df_2, sheet_name='time_a_data_names').iloc[:,1:]\n",
    "time_a_n= [df_time_a_n.iloc[0,i] for i in range(0,df_time_a_n.shape[1])]\n",
    "#print(df_time_a_n)\n",
    "#print(df_time_a_units)\n",
    "\n",
    "\n",
    "#                   0             1                2               3                   4              5          6             7                   8                    9                       10              11                   12                   13                  \n",
    "#df2_names =  [ 't_b_seconds', 'Q_b_As', 'V_p_tb_kgm2_s3_A','T_e_kgm2_s3_A', 'n_He_exc_atoms_m3', 'u_B_m_s', 'v_e_m_s','K_2_iz_m3_s_atom','K_loss_m6_s_atom2', 'K_iz_exc_m3_s_atom', 'K_exc_m3_s_atom', 'K_iz_m3_s_atom', 'K_elastic_m3_s_atom', 'E_elastic_kgm2_s2' ]\n",
    "df_time_b = rescale(np.array(pd.read_excel(df_2, sheet_name='time_b_data').iloc[:,1:]))\n",
    "df_time_b_units = np.array(pd.read_excel(df_2, sheet_name='time_b_data_units').iloc[:,1:])\n",
    "df_time_b_n = pd.read_excel(df_2, sheet_name='time_b_data_names').iloc[:,1:]\n",
    "time_b_n= [df_time_b_n.iloc[0,i] for i in range(0,df_time_b_n.shape[1])]\n",
    "\n",
    "\n",
    "#                    0                   1                 2               3                 4               5               6                 7                  8           9        10        11                12                   13               14                   \n",
    "#df3_names = ['E_period_kgm2_s2', 'n_sa_atoms_m3','n_sb_atoms_m3', 'n_e_electrons_m3', 'n_g_atoms_m3', 'T_g_kelvin', 'E_iz_kgm2_s2', 'E_iz_exc_kgm2_s2', 'E_exc_kgm2_s2', 'e_c_As', 'm_e_kg', 'M_He_kg',  'epsilon_A2s4_kg_m3', 'eps_0_A2s4_kg_m3', 'k_b_kgm2_s2_K']\n",
    "df_other = rescale(np.array(pd.read_excel(df_2, sheet_name='other_data').iloc[:,1:]))\n",
    "df_other_units = np.array(pd.read_excel(df_2, sheet_name='other_data_units').iloc[:,1:])\n",
    "df_other_n = pd.read_excel(df_2, sheet_name='other_data_names').iloc[:,1:]\n",
    "other_n= [df_other_n.iloc[0,i] for i in range(0,df_other_n.shape[1])]\n",
    "\n",
    "#                    0                 1             2        3        4         5            6            7            8               9              10                 11                      12                      \n",
    "#df4_names = ['Volume_rxtor_m2', 'V_all_beads_m2','A_a_m2','A_b_m2', 'h_m', 'Volume_m3', 'A_bead_m2', 'A_tot_m3', 'frequency_Hz', 'Flow_m3_s', 'temp_C_gas_K', 'Set_Voltage_kgm2_s3_A', 'pulse_time_seconds' ]\n",
    "df_exp = rescale(np.array(pd.read_excel(df_2, sheet_name='Experiment_Design_data').iloc[:,1:]))\n",
    "df_exp_units = np.array(pd.read_excel(df_2, sheet_name='Experiment_Data_units').iloc[:,1:])\n",
    "df_exp_n = pd.read_excel(df_2, sheet_name='Experiment_Data_names').iloc[:,1:]\n",
    "exp_n= [df_exp_n.iloc[0,i] for i in range(0,df_exp_n.shape[1])]\n",
    "\n",
    "\n"
   ]
  },
  {
   "cell_type": "code",
   "execution_count": 7,
   "metadata": {
    "ExecuteTime": {
     "end_time": "2023-06-12T02:33:55.598344Z",
     "start_time": "2023-06-12T02:33:55.590605Z"
    }
   },
   "outputs": [],
   "source": [
    "# # all terms\n",
    "# a = df_time_b[:,5].shape[0]\n",
    "# inputs = np.hstack([df_time_a,df_time_b, df_other, df_exp])\n",
    "# D_in = np.hstack([df_time_a_units, df_time_b_units, df_other_units, df_exp_units])\n",
    "# variables = time_a_n + time_b_n + other_n + exp_n\n",
    "# print(D_in.shape)\n",
    "# print(len(variables))\n",
    "# print(variables[31]) #delete #31 for the MB.\n",
    "# inputs = np.delete(inputs, 31, axis = 1)\n",
    "# D_in = np.delete(D_in, 31, axis = 1)\n",
    "# variables.pop(31)\n",
    "# print(variables[31]) #good check!"
   ]
  },
  {
   "cell_type": "code",
   "execution_count": 8,
   "metadata": {},
   "outputs": [],
   "source": [
    "# # all MB terms\n",
    "# # time a:\n",
    "# a = df_time_b[:,5].shape[0]\n",
    "# # u_B_a [5], K_iz_a [11], K_iz_exc_a [9], n_He_exc_a [4], K_2_iz_a [7], t_a [0]\n",
    "# ta_inputs = np.hstack((df_time_a[:,5].reshape(a,1), df_time_a[:,11].reshape(a,1), df_time_a[:,9].reshape(a,1), df_time_a[:,4].reshape(a,1), df_time_a[:,7].reshape(a,1), df_time_a[:,0].reshape(a,1)))\n",
    "# ta_D_in = np.hstack((df_time_a_units[:,5].reshape(6,1), df_time_a_units[:,11].reshape(6,1), df_time_a_units[:,9].reshape(6,1), df_time_a_units[:,4].reshape(6,1), df_time_a_units[:,7].reshape(6,1), df_time_a_units[:,0].reshape(6,1)))\n",
    "# ta_n = [time_a_n[5], time_a_n[11], time_a_n[9], time_a_n[4], time_a_n[7], time_a_n[0] ]\n",
    "\n",
    "\n",
    "# # time b\n",
    "# # u_B [5], K_iz [11], n_He_exc [4], K_iz_exc [9], t_b [0], K_2_iz [7]       \n",
    "# tb_inputs = np.hstack((df_time_b[:,5].reshape(a,1), df_time_b[:,11].reshape(a,1), df_time_b[:,4].reshape(a,1), df_time_b[:,9].reshape(a,1), df_time_b[:,0].reshape(a,1), df_time_b[:,7].reshape(a,1)))\n",
    "# tb_D_in = np.hstack((df_time_b_units[:,5].reshape(6,1), df_time_b_units[:,11].reshape(6,1), df_time_b_units[:,4].reshape(6,1), df_time_b_units[:,9].reshape(6,1), df_time_b_units[:,0].reshape(6,1), df_time_b_units[:,7].reshape(6,1)))\n",
    "# tb_n = [time_b_n[5], time_b_n[11], time_b_n[4], time_b_n[9], time_b_n[0], time_b_n[7] ]\n",
    "\n",
    "\n",
    "# # df other\n",
    "# # ng [4] , n_sa [1], n_sb [2], \n",
    "# other_inputs = np.hstack(( df_other[:,4].reshape(a,1), df_other[:,1].reshape(a,1), df_other[:,2].reshape(a,1) ))\n",
    "# other_D_in = np.hstack(( df_other_units[:,4].reshape(6,1), df_other_units[:,1].reshape(6,1), df_other_units[:,2].reshape(6,1)  ))\n",
    "# other_n_in = [ other_n[4], other_n[1], other_n[2] ]\n",
    "# print(other_n_in)\n",
    "# # print(len(other_n_in))\n",
    "# print(other_D_in.shape)\n",
    "# print(other_inputs.shape)\n",
    "\n",
    "# #df experimental\n",
    "# # A_tot [7], Volume [5], A_a [2]\n",
    "# exp_inputs = np.hstack(( df_exp[:,7].reshape(a,1), df_exp[:,5].reshape(a,1), df_exp[:,2].reshape(a,1)  ))\n",
    "# exp_D_in = np.hstack(( df_exp_units[:,7].reshape(6,1), df_exp_units[:,5].reshape(6,1), df_exp_units[:,2].reshape(6,1) ))\n",
    "# exp_n_in = [ exp_n[7], exp_n[5], exp_n[2] ]\n",
    "\n",
    "# #all together\n",
    "# inputs = np.hstack(( ta_inputs, tb_inputs, other_inputs, exp_inputs))\n",
    "# D_in = np.hstack(( ta_D_in, tb_D_in, other_D_in, exp_D_in ))\n",
    "# variables = ta_n+tb_n+other_n_in+exp_n_in\n",
    "# print(variables)\n",
    "# print(len(variables))\n",
    "# # A_tot, Volume, A_a\n",
    "\n",
    "\n",
    "# #try again without n_He_exc"
   ]
  },
  {
   "cell_type": "code",
   "execution_count": 9,
   "metadata": {},
   "outputs": [],
   "source": [
    "# # two major rates  same for packed / unpacked\n",
    "# # include iomization ta, wall loss tb\n",
    "\n",
    "# # vol time a ionization: t_a ta[0],, K_iz_a   ta[11], n_e [na], n_g other[4], V exp[5]\n",
    "# a = df_time_b[:,5].shape[0]\n",
    "# ion_inputs = np.hstack((df_time_a[:,0].reshape(a,1), df_time_a[:,11].reshape(a,1), df_other[:,4].reshape(a,1), df_exp[:,5].reshape(a,1) ))\n",
    "# ion_D_in = np.hstack(( df_time_a_units[:,0].reshape(6,1), df_time_a_units[:,11].reshape(6,1), df_other_units[:,4].reshape(6,1), df_exp_units[:,5].reshape(6,1) ))\n",
    "# ion_n = [time_a_n[0], time_a_n[11], other_n[4], exp_n[5] ]\n",
    "\n",
    "# # vol time b packing wall loss: n_e [na], u_B tb[5], t_b  tb[0], A_tot exp[7]\n",
    "# wall_inputs = np.hstack((df_time_b[:,5].reshape(a,1), df_time_b[:,0].reshape(a,1), df_exp[:,7].reshape(a,1) ))\n",
    "# wall_D_in = np.hstack(( df_time_b_units[:,5].reshape(6,1), df_time_b_units[:,0].reshape(6,1), df_exp_units[:,7].reshape(6,1) ))\n",
    "# wall_n = [time_b_n[5], time_b_n[0], exp_n[7] ]\n",
    "\n",
    "\n",
    "\n",
    "# inputs = np.hstack((ion_inputs, wall_inputs))\n",
    "# D_in = np.hstack(( ion_D_in, wall_D_in ))\n",
    "# variables = ion_n+wall_n\n",
    "# print(variables)\n",
    "# print(D_in)\n",
    "\n",
    "# #A,V 'uB',  'ta', 'tb', 'Volume', 'Ka', 'K2a', 'Kexca', 'nsa', 'nsb',  'nHeexca,"
   ]
  },
  {
   "cell_type": "code",
   "execution_count": 13,
   "metadata": {},
   "outputs": [
    {
     "name": "stdout",
     "output_type": "stream",
     "text": [
      "['t_a_seconds', 'K_iz_a_m3_s_atom', 'n_g_atoms_m3', 'Volume_m3', 'u_B_m_s', 't_b_seconds', 'A_tot_m3', 'n_sa_atoms_m3', 'A_a_m2', 'n_sb_atoms_m3', 'u_B_a_m_s', 'n_He_exc_a_atoms_m3', 'K_2_iz_a_m3_s_atom']\n",
      "[[ 0  3 -3  3  1  0  2 -3  2 -3  1 -3  3]\n",
      " [ 1 -1  0  0 -1  1  0  0  0  0 -1  0 -1]\n",
      " [ 0 -1  1  0  0  0  0  1  0  1  0  1 -1]\n",
      " [ 0  0  0  0  0  0  0  0  0  0  0  0  0]\n",
      " [ 0  0  0  0  0  0  0  0  0  0  0  0  0]\n",
      " [ 0  0  0  0  0  0  0  0  0  0  0  0  0]]\n"
     ]
    }
   ],
   "source": [
    "# # six major rates--packed case\n",
    "# # include iomization ta, wall loss tb, tb loss to electrode a, tb loss electrode b\n",
    "#  # ta packing loss, ta Vol double He exc ionization\n",
    "\n",
    "# vol time a ionization: t_a ta[0],, K_iz_a   ta[11], n_e [na], n_g other[4], V exp[5]\n",
    "a = df_time_b[:,5].shape[0]\n",
    "ion_inputs = np.hstack((df_time_a[:,0].reshape(a,1), df_time_a[:,11].reshape(a,1), df_other[:,4].reshape(a,1), df_exp[:,5].reshape(a,1) ))\n",
    "ion_D_in = np.hstack(( df_time_a_units[:,0].reshape(6,1), df_time_a_units[:,11].reshape(6,1), df_other_units[:,4].reshape(6,1), df_exp_units[:,5].reshape(6,1) ))\n",
    "ion_n = [time_a_n[0], time_a_n[11], other_n[4], exp_n[5] ]\n",
    "\n",
    "# vol time b packing wall loss: n_e [na], u_B tb[5], t_b  tb[0], A_tot exp[7]\n",
    "wall_inputs = np.hstack((df_time_b[:,5].reshape(a,1), df_time_b[:,0].reshape(a,1), df_exp[:,7].reshape(a,1) ))\n",
    "wall_D_in = np.hstack(( df_time_b_units[:,5].reshape(6,1), df_time_b_units[:,0].reshape(6,1), df_exp_units[:,7].reshape(6,1) ))\n",
    "wall_n = [time_b_n[5], time_b_n[0], exp_n[7] ]\n",
    "\n",
    "# tb loss to electrode a : n_sa df_other[1] ,    A_a df_exp[2]  ,   u_B   df_time_b[na], t_b [na]\n",
    "elec_a_tb_inputs = np.hstack(( df_other[:,1].reshape(a,1) , df_exp[:,2].reshape(a,1) ))\n",
    "elec_a_tb_D_in = np.hstack(( df_other_units[:,1].reshape(6,1) , df_exp_units[:,2].reshape(6,1) ))\n",
    "elec_a_tb_n = [ other_n[1], exp_n[2]]\n",
    "\n",
    "#tb loss to electrode b: n_sb df_other[2], A_a, [na], u_B [na], t_b [na]\n",
    "elec_b_tb_inputs =  df_other[:,2].reshape(a,1)\n",
    "elec_b_tb_D_in = df_other_units[:,2].reshape(6,1) \n",
    "elec_b_tb_n = [other_n[2]]\n",
    "\n",
    "# ta packing loss: n_e [na], u_B_a df_time_a[:,5], A_tot [na], ta [na]\n",
    "packing_ta_inputs =  df_time_a[:,5].reshape(a,1)\n",
    "packing_ta_D_in = df_time_a_units[:,5].reshape(6,1) \n",
    "packing_ta_n = [time_a_n[5]]\n",
    "\n",
    "# ta vol double He exc ionization: V exp[na], n_He_exc_a df_time_a[:,4]  ,  K_2_iz_a  df_time_a[:,7], ta [na]\n",
    "double_He_exc_ion_ta_inputs =  np.hstack(( df_time_a[:,4].reshape(a,1) , df_time_a[:,7].reshape(a,1) ))\n",
    "double_He_exc_ion_ta_D_in = np.hstack(( df_time_a_units[:,4].reshape(6,1), df_time_a_units[:,7].reshape(6,1) ))\n",
    "double_He_exc_ion_ta_n = [time_a_n[4], time_a_n[7]]\n",
    "\n",
    "\n",
    "inputs = np.hstack((ion_inputs, wall_inputs, elec_a_tb_inputs, elec_b_tb_inputs, packing_ta_inputs, double_He_exc_ion_ta_inputs))\n",
    "D_in = np.hstack(( ion_D_in, wall_D_in, elec_a_tb_D_in , elec_b_tb_D_in, packing_ta_D_in, double_He_exc_ion_ta_D_in))\n",
    "variables = ion_n+wall_n + elec_a_tb_n + elec_b_tb_n+packing_ta_n + double_He_exc_ion_ta_n\n",
    "print(variables)\n",
    "print(D_in)\n",
    "\n",
    "# #A,V 'uB',  'ta', 'tb', 'Volume', 'Ka', 'K2a', 'Kexca', 'nsa', 'nsb',  'nHeexca,"
   ]
  },
  {
   "cell_type": "code",
   "execution_count": 14,
   "metadata": {
    "ExecuteTime": {
     "end_time": "2023-06-12T02:33:55.706436Z",
     "start_time": "2023-06-12T02:33:55.603410Z"
    }
   },
   "outputs": [
    {
     "name": "stdout",
     "output_type": "stream",
     "text": [
      "[1.51943551e+12 3.56158345e+12 2.97162120e+12 1.84458103e+12\n",
      " 2.12489975e+12 2.14464374e+12 1.30196278e+11 2.26762174e+12\n",
      " 2.38919966e+12 2.91474460e+12 2.72643688e+12 3.06167083e+12\n",
      " 3.30360641e+12 3.40169380e+12 3.52347974e+12 4.13614561e+12\n",
      " 3.70259953e+12 4.15545809e+12 4.53375060e+12 4.79507193e+12\n",
      " 4.77606346e+12 5.49205960e+12 5.64787710e+12 6.00907749e+12\n",
      " 6.18808818e+12 5.95379963e+12 5.43290755e+12 5.22390848e+12\n",
      " 5.48725682e+12 5.37510813e+12 5.75448094e+12 6.36396974e+12\n",
      " 6.55629012e+12 8.23842378e+12 6.12069725e+12 6.49801372e+12\n",
      " 7.03946594e+12 6.49837947e+12 6.77210997e+12 6.97867152e+12\n",
      " 9.90481641e+12 8.79427363e+12 1.04523066e+13 8.07011423e+12\n",
      " 8.74244337e+12 8.82365196e+12 1.03730443e+13 1.30630586e+13\n",
      " 1.08544228e+13 1.26822673e+13 2.20932942e+12 1.95906509e+12\n",
      " 4.47077675e+12 5.69270370e+12 9.15441961e+12 1.48275640e+13\n",
      " 1.07098332e+13 1.29769077e+13 1.05798410e+13 1.53147809e+13\n",
      " 1.51329505e+13 1.37703511e+13 7.70741667e+12 1.30296257e+13\n",
      " 9.14850804e+11 1.04810966e+12 1.02715085e+12 2.18005913e+12\n",
      " 1.75213965e+12 2.69959168e+12 2.62167832e+12 3.19631557e+12\n",
      " 4.56930111e+12 4.74192901e+12 5.48149592e+12 4.23674581e+12\n",
      " 5.17267386e+12 5.57984457e+12 6.26058028e+12 5.76553381e+11\n",
      " 8.88426721e+11 9.94577143e+11 1.01217705e+12 1.94521839e+12\n",
      " 2.67116703e+12 3.12125832e+12 3.38279465e+12 2.44293369e+12\n",
      " 3.45317073e+12 3.50628212e+12 4.73871750e+12 4.57189464e+12\n",
      " 5.15879892e+12 5.79336138e+12 6.45957445e+12 9.66300234e+11\n",
      " 1.57471770e+12 1.39912937e+11 1.79999272e+12 3.07331908e+12\n",
      " 3.54412026e+12 3.80105708e+12 4.39928494e+12 4.95250272e+12\n",
      " 6.21261730e+12 5.64842343e+12 9.70302641e+12 6.38919602e+12\n",
      " 7.40369841e+12 7.78904817e+12 1.17484807e+13 1.51725321e+12\n",
      " 2.12717367e+12 4.81244824e+12 3.92950920e+12 4.70103986e+12\n",
      " 6.08237388e+12 1.06295715e+13 8.24738043e+12 1.30428256e+13\n",
      " 2.14072322e+12 5.25979413e+12 1.23787571e+13 1.41491452e+13\n",
      " 8.10405464e+11 1.12919270e+12 1.23643754e+12 1.37293008e+12\n",
      " 1.97686001e+12 2.72691751e+12 2.53754953e+12 3.09140983e+12\n",
      " 3.16742747e+12 4.29636114e+12 4.38787257e+12 5.35318047e+12\n",
      " 4.34792800e+12 5.77192503e+12 6.59604060e+12 7.40743999e+12\n",
      " 1.21965906e+12 1.49463987e+12 1.68275890e+12 2.53012713e+12\n",
      " 2.80343381e+12 3.89697353e+12 4.46071214e+12 7.11045372e+12\n",
      " 5.05946295e+12 6.12258878e+12 5.74445821e+12 1.41212206e+13\n",
      " 6.23105385e+12 8.54751509e+12 8.71475347e+12 1.55355842e+12\n",
      " 2.59347955e+12 4.41397485e+12 8.20085117e+12 5.92840409e+12\n",
      " 8.22116604e+12 2.94884111e+12 9.19373487e+12 6.97640034e+12\n",
      " 1.09829725e+12 1.91783070e+12 4.00661917e+12 9.68882208e+11\n",
      " 2.16339817e+12 3.43983646e+12 1.55524339e+12 3.27875913e+12\n",
      " 5.64757830e+12 9.76494353e+11 1.62905254e+12 2.78213184e+12\n",
      " 4.79108450e+12 2.11336102e+12 3.54210839e+12 1.48131428e+12\n",
      " 8.15561522e+11 3.70754442e+12 5.35814393e+12 8.76562753e+11\n",
      " 1.90356579e+12 3.22809399e+12 8.68877703e+11 2.50561372e+12\n",
      " 6.04931615e+12 1.21679370e+12 3.55851366e+12 5.36533280e+12\n",
      " 6.88979366e+12 6.75732917e+12 1.22784927e+12 6.81890781e+12\n",
      " 5.51922890e+12 1.60821673e+12 5.14494044e+12 5.72694274e+12\n",
      " 3.93321464e+12 1.30303315e+12 3.66744845e+12 7.76311225e+12\n",
      " 6.24459986e+12 1.82694661e+12 5.72502848e+12 1.04852806e+13\n",
      " 9.32500318e+11 2.16478840e+12 3.19557759e+12 2.09409365e+12\n",
      " 1.95196864e+12 9.12445594e+11 1.53091961e+12 8.65070804e+11\n",
      " 1.96236453e+12 1.72584488e+12 7.05156074e+11 1.50460030e+12\n",
      " 1.31475034e+12 1.77389788e+12 2.16316308e+12 2.13327264e+12\n",
      " 1.01912615e+12 1.51950304e+12 7.84878748e+11 4.14208329e+11\n",
      " 1.13311248e+12 1.86028434e+12 3.02923400e+12 3.48460750e+12\n",
      " 3.82698903e+11 1.19743191e+12 2.33575196e+12]\n",
      "[5.22890936e-14 1.22566551e-13 1.02263885e-13 6.34784888e-14\n",
      " 7.31252369e-14 7.38046969e-14 4.48050958e-15 7.80367999e-14\n",
      " 8.22207218e-14 1.00306562e-13 9.38262348e-14 1.05362808e-13\n",
      " 1.13688658e-13 1.17064189e-13 1.21255269e-13 1.42339246e-13\n",
      " 1.27419408e-13 1.43003856e-13 1.56022225e-13 1.65015206e-13\n",
      " 1.64361059e-13 1.89000991e-13 1.94363217e-13 2.06793386e-13\n",
      " 2.12953771e-13 2.04891082e-13 1.86965363e-13 1.79772973e-13\n",
      " 1.88835711e-13 1.84976282e-13 1.98031828e-13 2.19006471e-13\n",
      " 2.25624888e-13 2.83512994e-13 2.10634613e-13 2.23619393e-13\n",
      " 2.42252659e-13 2.23631980e-13 2.33052005e-13 2.40160510e-13\n",
      " 3.40859397e-13 3.02641733e-13 3.59700451e-13 2.77720874e-13\n",
      " 3.00858072e-13 3.03652744e-13 3.56972757e-13 4.49545562e-13\n",
      " 3.73538677e-13 4.36441203e-13 7.60307575e-14 6.74182859e-14\n",
      " 1.53855074e-13 1.95905857e-13 3.15035617e-13 5.10268370e-13\n",
      " 3.68562843e-13 4.46580809e-13 3.64089354e-13 5.27035208e-13\n",
      " 5.20777789e-13 4.73885974e-13 2.65239181e-13 4.48395020e-13\n",
      " 3.14832179e-14 3.60691214e-14 3.53478556e-14 7.50234641e-14\n",
      " 6.02972574e-14 9.29023974e-14 9.02211261e-14 1.09996405e-13\n",
      " 1.57245642e-13 1.63186373e-13 1.88637458e-13 1.45801251e-13\n",
      " 1.78009810e-13 1.92021979e-13 2.15448478e-13 1.98412196e-14\n",
      " 3.05738727e-14 3.42268802e-14 3.48325545e-14 6.69417725e-14\n",
      " 9.19242057e-14 1.07413422e-13 1.16413803e-13 8.40698978e-14\n",
      " 1.18835690e-13 1.20663439e-13 1.63075853e-13 1.57334895e-13\n",
      " 1.77532325e-13 1.99369840e-13 2.22296563e-13 3.32537728e-14\n",
      " 5.41915471e-14 4.81489382e-15 6.19440488e-14 1.05763665e-13\n",
      " 1.21965581e-13 1.30807677e-13 1.51394791e-13 1.70432951e-13\n",
      " 2.13797904e-13 1.94382018e-13 3.33915097e-13 2.19874595e-13\n",
      " 2.54787173e-13 2.68048407e-13 4.04306338e-13 5.22139929e-14\n",
      " 7.32034904e-14 1.65613186e-13 1.35228164e-13 1.61779234e-13\n",
      " 2.09315772e-13 3.65800754e-13 2.83821224e-13 4.48849275e-13\n",
      " 7.36697778e-14 1.81007924e-13 4.25996354e-13 4.86921606e-13\n",
      " 2.78888882e-14 3.88594725e-14 4.25501430e-14 4.72473288e-14\n",
      " 6.80306714e-14 9.38427750e-14 8.73259602e-14 1.06386231e-13\n",
      " 1.09002264e-13 1.47852823e-13 1.51002051e-13 1.84221674e-13\n",
      " 1.49627419e-13 1.98632140e-13 2.26992841e-13 2.54915934e-13\n",
      " 4.19727368e-14 5.14357888e-14 5.79096229e-14 8.70705293e-14\n",
      " 9.64759685e-14 1.34108497e-13 1.53508716e-13 2.44695597e-13\n",
      " 1.74113827e-13 2.10699707e-13 1.97686911e-13 4.85960620e-13\n",
      " 2.14432370e-13 2.94149908e-13 2.99905166e-13 5.34633822e-14\n",
      " 8.92507077e-14 1.51900322e-13 2.82219989e-13 2.04017132e-13\n",
      " 2.82919095e-13 1.01479943e-13 3.16388592e-13 2.40082351e-13\n",
      " 3.77962522e-14 6.59992662e-14 1.37881788e-13 3.33426276e-14\n",
      " 7.44501023e-14 1.18376811e-13 5.35213679e-14 1.12833576e-13\n",
      " 1.94352934e-13 3.36045881e-14 5.60613993e-14 9.57428934e-14\n",
      " 1.64877985e-13 7.27281489e-14 1.21896346e-13 5.09772086e-14\n",
      " 2.80663262e-14 1.27589579e-13 1.84392485e-13 3.01655921e-14\n",
      " 6.55083607e-14 1.11090012e-13 2.99011226e-14 8.62269369e-14\n",
      " 2.08178140e-13 4.18741297e-14 1.22460909e-13 1.84639879e-13\n",
      " 2.37101912e-13 2.32543345e-13 4.22545905e-14 2.34662482e-13\n",
      " 1.89935982e-13 5.53443659e-14 1.77055406e-13 1.97084142e-13\n",
      " 1.35355681e-13 4.48419309e-14 1.26209736e-13 2.67155861e-13\n",
      " 2.14898536e-13 6.28716266e-14 1.97018266e-13 3.60835201e-13\n",
      " 3.20905994e-14 7.44979449e-14 1.09971009e-13 7.20650913e-14\n",
      " 6.71740724e-14 3.14004462e-14 5.26843016e-14 2.97701139e-14\n",
      " 6.75318312e-14 5.93923622e-14 2.42668883e-14 5.17785621e-14\n",
      " 4.52451606e-14 6.10460343e-14 7.44420119e-14 7.34133774e-14\n",
      " 3.50716975e-14 5.22914174e-14 2.70104246e-14 1.42543582e-14\n",
      " 3.89943660e-14 6.40188947e-14 1.04246543e-13 1.19917539e-13\n",
      " 1.31700086e-14 4.12078227e-14 8.03813993e-14]\n",
      "[0.52289094 1.22566551 1.02263885 0.63478489 0.73125237 0.73804697\n",
      " 0.0448051  0.780368   0.82220722 1.00306562 0.93826235 1.05362808\n",
      " 1.13688658 1.17064189 1.21255269 1.42339246 1.27419408 1.43003856\n",
      " 1.56022225 1.65015206 1.64361059 1.89000991 1.94363217 2.06793386\n",
      " 2.12953771 2.04891082 1.86965363 1.79772973 1.88835711 1.84976282\n",
      " 1.98031828 2.19006471 2.25624888 2.83512994 2.10634613 2.23619393\n",
      " 2.42252659 2.2363198  2.33052005 2.4016051  3.40859397 3.02641733\n",
      " 3.59700451 2.77720874 3.00858072 3.03652744 3.56972757 4.49545562\n",
      " 3.73538677 4.36441203 0.76030758 0.67418286 1.53855074 1.95905857\n",
      " 3.15035617 5.1026837  3.68562843 4.46580809 3.64089354 5.27035208\n",
      " 5.20777789 4.73885974 2.65239181 4.4839502  0.31483218 0.36069121\n",
      " 0.35347856 0.75023464 0.60297257 0.92902397 0.90221126 1.09996405\n",
      " 1.57245642 1.63186373 1.88637458 1.45801251 1.7800981  1.92021979\n",
      " 2.15448478 0.1984122  0.30573873 0.3422688  0.34832554 0.66941772\n",
      " 0.91924206 1.07413422 1.16413803 0.84069898 1.1883569  1.20663439\n",
      " 1.63075853 1.57334895 1.77532325 1.9936984  2.22296563 0.33253773\n",
      " 0.54191547 0.04814894 0.61944049 1.05763665 1.21965581 1.30807677\n",
      " 1.51394791 1.70432951 2.13797904 1.94382018 3.33915097 2.19874595\n",
      " 2.54787173 2.68048407 4.04306338 0.52213993 0.7320349  1.65613186\n",
      " 1.35228164 1.61779234 2.09315772 3.65800754 2.83821224 4.48849275\n",
      " 0.73669778 1.81007924 4.25996354 4.86921606 0.27888888 0.38859472\n",
      " 0.42550143 0.47247329 0.68030671 0.93842775 0.8732596  1.06386231\n",
      " 1.09002264 1.47852823 1.51002051 1.84221674 1.49627419 1.9863214\n",
      " 2.26992841 2.54915934 0.41972737 0.51435789 0.57909623 0.87070529\n",
      " 0.96475968 1.34108497 1.53508716 2.44695597 1.74113827 2.10699707\n",
      " 1.97686911 4.8596062  2.1443237  2.94149908 2.99905166 0.53463382\n",
      " 0.89250708 1.51900322 2.82219989 2.04017132 2.82919095 1.01479943\n",
      " 3.16388592 2.40082351 0.37796252 0.65999266 1.37881788 0.33342628\n",
      " 0.74450102 1.18376811 0.53521368 1.12833576 1.94352934 0.33604588\n",
      " 0.56061399 0.95742893 1.64877985 0.72728149 1.21896346 0.50977209\n",
      " 0.28066326 1.27589579 1.84392485 0.30165592 0.65508361 1.11090012\n",
      " 0.29901123 0.86226937 2.0817814  0.4187413  1.22460909 1.84639879\n",
      " 2.37101912 2.32543345 0.42254591 2.34662482 1.89935982 0.55344366\n",
      " 1.77055406 1.97084142 1.35355681 0.44841931 1.26209736 2.67155861\n",
      " 2.14898536 0.62871627 1.97018266 3.60835201 0.32090599 0.74497945\n",
      " 1.09971009 0.72065091 0.67174072 0.31400446 0.52684302 0.29770114\n",
      " 0.67531831 0.59392362 0.24266888 0.51778562 0.45245161 0.61046034\n",
      " 0.74442012 0.73413377 0.35071698 0.52291417 0.27010425 0.14254358\n",
      " 0.38994366 0.64018895 1.04246543 1.19917539 0.13170009 0.41207823\n",
      " 0.80381399]\n"
     ]
    }
   ],
   "source": [
    "#For predicting Te/Tg: keep top block, comment bottom block. For predicting ne/ng, keep bottom block, comment top block.\n",
    "\n",
    "\n",
    "\n",
    "\n",
    "#### TOP BLOCK ####\n",
    "\n",
    "# df_out = pd.read_excel(df_2, sheet_name='time_b_data').iloc[:,1:]\n",
    "# T_e = np.array(df_out.iloc[:,3])\n",
    "# df_out = pd.read_excel(df_2, sheet_name='other_data').iloc[:,1:]\n",
    "# T_g = np.array(df_out.iloc[:,5])*0.026/297\n",
    "# T_e_no_dim = T_e/T_g\n",
    "# print(T_e)\n",
    "# output = rescale_vec(T_e_no_dim)\n",
    "# print(output)\n",
    "# D_out = np.array(\n",
    "#     [\n",
    "#         [0.],\n",
    "#         [0.],\n",
    "#         [0.],\n",
    "#     ]\n",
    "# )\n",
    "\n",
    "\n",
    "\n",
    "\n",
    "#### BOTTOM BLOCK ####\n",
    "\n",
    "df_out = pd.read_excel(df_2, sheet_name='other_data').iloc[:,1:]\n",
    "n_e = np.array(df_out.iloc[:,3])\n",
    "df_out = pd.read_excel(df_2, sheet_name='other_data').iloc[:,1:]\n",
    "n_g = np.array(df_out.iloc[:,4])\n",
    "n_e_no_dim = n_e/n_g\n",
    "print(n_e)\n",
    "print(n_e_no_dim)\n",
    "output = rescale_vec(n_e_no_dim)\n",
    "print(output)\n",
    "D_out = np.array(\n",
    "    [\n",
    "        [0.],\n",
    "        [0.],\n",
    "        [0.],\n",
    "        [0.],\n",
    "        [0,],\n",
    "        [0.]\n",
    "    ],\n",
    "\n",
    ")\n"
   ]
  },
  {
   "cell_type": "code",
   "execution_count": 15,
   "metadata": {
    "ExecuteTime": {
     "end_time": "2023-06-12T02:33:55.768232Z",
     "start_time": "2023-06-12T02:33:55.718782Z"
    }
   },
   "outputs": [
    {
     "data": {
      "text/plain": [
       "tensor([[ 1.0000,  1.0000, -1.0000,  0.0000,  1.0000,  0.0000,  1.0000,  1.0000,\n",
       "          1.0000,  0.0000],\n",
       "        [ 1.0000,  0.0000,  0.0000,  0.0000,  1.0000,  0.0000,  1.0000,  0.0000,\n",
       "          1.0000, -1.0000],\n",
       "        [ 1.0000,  0.0000,  0.0000,  0.0000,  0.0000,  0.0000,  0.0000,  0.0000,\n",
       "          0.0000,  0.0000],\n",
       "        [ 0.0000, -0.3333,  0.0000, -0.6667,  0.0000, -0.6667,  0.0000, -0.3333,\n",
       "          0.0000,  0.0000],\n",
       "        [ 0.0000,  1.0000,  0.0000,  0.0000,  0.0000,  0.0000,  0.0000,  0.0000,\n",
       "          0.0000,  0.0000],\n",
       "        [ 0.0000,  0.0000,  1.0000,  0.0000,  0.0000,  0.0000,  0.0000,  0.0000,\n",
       "          0.0000,  0.0000],\n",
       "        [ 0.0000,  0.0000,  0.0000,  1.0000,  0.0000,  0.0000,  0.0000,  0.0000,\n",
       "          0.0000,  0.0000],\n",
       "        [ 0.0000,  0.0000,  0.0000,  0.0000,  1.0000,  0.0000,  0.0000,  0.0000,\n",
       "          0.0000,  0.0000],\n",
       "        [ 0.0000,  0.0000,  0.0000,  0.0000,  0.0000,  1.0000,  0.0000,  0.0000,\n",
       "          0.0000,  0.0000],\n",
       "        [ 0.0000,  0.0000,  0.0000,  0.0000,  0.0000,  0.0000,  1.0000,  0.0000,\n",
       "          0.0000,  0.0000],\n",
       "        [ 0.0000,  0.0000,  0.0000,  0.0000,  0.0000,  0.0000,  0.0000,  1.0000,\n",
       "          0.0000,  0.0000],\n",
       "        [ 0.0000,  0.0000,  0.0000,  0.0000,  0.0000,  0.0000,  0.0000,  0.0000,\n",
       "          1.0000,  0.0000],\n",
       "        [ 0.0000,  0.0000,  0.0000,  0.0000,  0.0000,  0.0000,  0.0000,  0.0000,\n",
       "          0.0000,  1.0000]], dtype=torch.float64)"
      ]
     },
     "execution_count": 15,
     "metadata": {},
     "output_type": "execute_result"
    }
   ],
   "source": [
    "fff = DimensionlessLearning(D_in, D_out)\n",
    "fff.basis_col"
   ]
  },
  {
   "cell_type": "code",
   "execution_count": 16,
   "metadata": {
    "ExecuteTime": {
     "end_time": "2023-06-12T02:33:55.809871Z",
     "start_time": "2023-06-12T02:33:55.789724Z"
    }
   },
   "outputs": [],
   "source": [
    "fff.read_data(inputs, output)"
   ]
  },
  {
   "cell_type": "code",
   "execution_count": 17,
   "metadata": {
    "ExecuteTime": {
     "end_time": "2023-06-12T02:34:32.308917Z",
     "start_time": "2023-06-12T02:34:32.245346Z"
    }
   },
   "outputs": [
    {
     "data": {
      "text/plain": [
       "tensor([[ 1.0000,  1.0000, -1.0000,  0.0000,  1.0000,  0.0000,  1.0000,  1.0000,\n",
       "          1.0000,  0.0000],\n",
       "        [ 1.0000,  0.0000,  0.0000,  0.0000,  1.0000,  0.0000,  1.0000,  0.0000,\n",
       "          1.0000, -1.0000],\n",
       "        [ 1.0000,  0.0000,  0.0000,  0.0000,  0.0000,  0.0000,  0.0000,  0.0000,\n",
       "          0.0000,  0.0000],\n",
       "        [ 0.0000, -0.3333,  0.0000, -0.6667,  0.0000, -0.6667,  0.0000, -0.3333,\n",
       "          0.0000,  0.0000],\n",
       "        [ 0.0000,  1.0000,  0.0000,  0.0000,  0.0000,  0.0000,  0.0000,  0.0000,\n",
       "          0.0000,  0.0000],\n",
       "        [ 0.0000,  0.0000,  1.0000,  0.0000,  0.0000,  0.0000,  0.0000,  0.0000,\n",
       "          0.0000,  0.0000],\n",
       "        [ 0.0000,  0.0000,  0.0000,  1.0000,  0.0000,  0.0000,  0.0000,  0.0000,\n",
       "          0.0000,  0.0000],\n",
       "        [ 0.0000,  0.0000,  0.0000,  0.0000,  1.0000,  0.0000,  0.0000,  0.0000,\n",
       "          0.0000,  0.0000],\n",
       "        [ 0.0000,  0.0000,  0.0000,  0.0000,  0.0000,  1.0000,  0.0000,  0.0000,\n",
       "          0.0000,  0.0000],\n",
       "        [ 0.0000,  0.0000,  0.0000,  0.0000,  0.0000,  0.0000,  1.0000,  0.0000,\n",
       "          0.0000,  0.0000],\n",
       "        [ 0.0000,  0.0000,  0.0000,  0.0000,  0.0000,  0.0000,  0.0000,  1.0000,\n",
       "          0.0000,  0.0000],\n",
       "        [ 0.0000,  0.0000,  0.0000,  0.0000,  0.0000,  0.0000,  0.0000,  0.0000,\n",
       "          1.0000,  0.0000],\n",
       "        [ 0.0000,  0.0000,  0.0000,  0.0000,  0.0000,  0.0000,  0.0000,  0.0000,\n",
       "          0.0000,  1.0000]], dtype=torch.float64)"
      ]
     },
     "execution_count": 17,
     "metadata": {},
     "output_type": "execute_result"
    }
   ],
   "source": [
    "fff.basis_col"
   ]
  },
  {
   "cell_type": "code",
   "execution_count": 18,
   "metadata": {
    "ExecuteTime": {
     "end_time": "2023-06-09T15:41:50.992599Z",
     "start_time": "2023-06-09T15:41:50.974667Z"
    }
   },
   "outputs": [],
   "source": [
    "from PyDBDdim import PiLinearRegressionViaTorch\n",
    "\n",
    "\n",
    "#the code does five fold to ensure the R2 is worth while.\n",
    "# we then want to rerun the fitting on all data instead of 80% of it. The 5fold find the right number of epochs.\n",
    "# so, we re run to find the right number of epochs, and then we must store the parameters and the R2 from the 5-fold fitting.\n",
    "#"
   ]
  },
  {
   "cell_type": "code",
   "execution_count": 27,
   "metadata": {
    "ExecuteTime": {
     "end_time": "2023-06-12T02:51:57.267382Z",
     "start_time": "2023-06-12T02:51:57.252535Z"
    }
   },
   "outputs": [
    {
     "name": "stdout",
     "output_type": "stream",
     "text": [
      "flag 1\n",
      "Y.shape  = (235, 1)\n",
      "X.shape  = (235, 1)\n",
      "test_size =  11\n",
      "sorted indices =  [ 59  60  55 123 151  61  47 119  63  57  49]\n",
      "flag 2\n",
      "Y_test.shape  =  (11, 1)\n",
      "X_test.shape  = (11, 13)\n",
      "flag 3\n",
      "Y_train.shape  = (224, 1)\n",
      "X_train.shape  = (224, 13)\n",
      "flag 4\n",
      "Y_test.shape  = torch.Size([11, 1])\n",
      "X_test.shape  = torch.Size([11, 13])\n",
      "Y_train.shape  = torch.Size([224, 1])\n",
      "X_train.shape  = torch.Size([224, 13])\n"
     ]
    }
   ],
   "source": [
    "#X_train_val, X_test, y_train_val, y_test = train_test_split(fff.X, fff.y, test_size=0.2, random_state=42)\n",
    "\n",
    "# for extrapolation\n",
    "X_test, Y_test, X_train_val, y_train_val = top_split_y(fff.X,fff.y,5)\n",
    "y_test = Y_test"
   ]
  },
  {
   "cell_type": "code",
   "execution_count": 28,
   "metadata": {
    "ExecuteTime": {
     "end_time": "2023-06-12T02:41:59.186287Z",
     "start_time": "2023-06-12T02:41:59.122346Z"
    }
   },
   "outputs": [],
   "source": [
    "from PyDBDdim import PiLinearRegressionViaTorch"
   ]
  },
  {
   "cell_type": "code",
   "execution_count": 29,
   "metadata": {
    "ExecuteTime": {
     "end_time": "2023-06-12T02:42:00.284994Z",
     "start_time": "2023-06-12T02:42:00.249721Z"
    }
   },
   "outputs": [],
   "source": [
    "ndimensionless = 1\n",
    "lambda_gamma = 0.003\n",
    "lambda_beta = 0.01\n",
    "poly_order = 1\n",
    "poly_mapping = np.array([[0],\n",
    "                         [1]])\n",
    "para_threshold = 0.01\n",
    "model_train = PiLinearRegressionViaTorch.TrainHolder(fff.X, fff.y, poly_mapping.shape[0], fff.y.shape[-1],\n",
    "                                                     poly_mapping,\n",
    "                                                     fff.basis_col,\n",
    "                                                     ndimensionless, lambda_gamma, lambda_beta, lowest_para_threshold=para_threshold)"
   ]
  },
  {
   "cell_type": "code",
   "execution_count": 30,
   "metadata": {
    "ExecuteTime": {
     "end_time": "2023-06-12T02:53:18.579503Z",
     "start_time": "2023-06-12T02:53:18.562380Z"
    }
   },
   "outputs": [],
   "source": [
    "model_train.model.pi.para = torch.nn.Parameter(torch.tensor([[-1.01082,\t0,\t0,\t0,\t0,\t0,\t0,\t0,\t1.002132, 0.538343 ]], requires_grad=True).t().double())"
   ]
  },
  {
   "cell_type": "code",
   "execution_count": null,
   "metadata": {},
   "outputs": [],
   "source": []
  },
  {
   "cell_type": "code",
   "execution_count": 31,
   "metadata": {
    "ExecuteTime": {
     "end_time": "2023-06-12T02:52:51.875464Z",
     "start_time": "2023-06-12T02:52:51.645420Z"
    }
   },
   "outputs": [],
   "source": [
    "model_train.model.linear.linear.weight = torch.nn.Parameter(torch.tensor([[0,\t0.273815]], requires_grad=True).double())"
   ]
  },
  {
   "cell_type": "code",
   "execution_count": 32,
   "metadata": {
    "ExecuteTime": {
     "end_time": "2023-06-12T02:54:16.926169Z",
     "start_time": "2023-06-12T02:54:16.894116Z"
    }
   },
   "outputs": [],
   "source": [
    "model_train.model.eval()\n",
    "with torch.no_grad():\n",
    "    y_pred_train = model_train.model(X_train_val)\n",
    "    y_pred_test = model_train.model(X_test)\n",
    "    all_test = model_train.model(fff.X)"
   ]
  },
  {
   "cell_type": "code",
   "execution_count": 33,
   "metadata": {
    "ExecuteTime": {
     "end_time": "2023-06-12T03:57:13.650272Z",
     "start_time": "2023-06-12T03:57:13.638947Z"
    }
   },
   "outputs": [
    {
     "name": "stdout",
     "output_type": "stream",
     "text": [
      "0.9999671296259915\n"
     ]
    }
   ],
   "source": [
    "from sklearn.metrics import r2_score\n",
    "#R2 on training\n",
    "print(r2_score(y_train_val, y_pred_train[0]))"
   ]
  },
  {
   "cell_type": "code",
   "execution_count": 34,
   "metadata": {},
   "outputs": [
    {
     "name": "stdout",
     "output_type": "stream",
     "text": [
      "0.996172431299603\n"
     ]
    }
   ],
   "source": [
    "#R2 on test\n",
    "print(r2_score(y_test, y_pred_test[0]))"
   ]
  },
  {
   "cell_type": "code",
   "execution_count": 35,
   "metadata": {},
   "outputs": [
    {
     "name": "stdout",
     "output_type": "stream",
     "text": [
      "0.9999664716453149\n"
     ]
    }
   ],
   "source": [
    "#R2 on all\n",
    "print(r2_score(fff.y, all_test[0]))"
   ]
  },
  {
   "cell_type": "code",
   "execution_count": 36,
   "metadata": {
    "ExecuteTime": {
     "end_time": "2023-06-12T02:57:00.632050Z",
     "start_time": "2023-06-12T02:57:00.616942Z"
    }
   },
   "outputs": [],
   "source": [
    "import matplotlib.pyplot as plt"
   ]
  },
  {
   "cell_type": "code",
   "execution_count": 46,
   "metadata": {
    "ExecuteTime": {
     "end_time": "2023-06-12T03:42:56.262288Z",
     "start_time": "2023-06-12T03:42:54.096439Z"
    }
   },
   "outputs": [
    {
     "data": {
      "image/png": "[encoded data removed]",
      "text/plain": [
       "<Figure size 1200x450 with 2 Axes>"
      ]
     },
     "metadata": {},
     "output_type": "display_data"
    },
    {
     "data": {
      "text/plain": [
       "<Figure size 640x480 with 0 Axes>"
      ]
     },
     "metadata": {},
     "output_type": "display_data"
    }
   ],
   "source": [
    "plt.figure(dpi=150, figsize=(8, 3))\n",
    "plt.rcParams['text.usetex'] = True\n",
    "\n",
    "plt.subplot(121)\n",
    "plt.plot([-0.1e-12,6e-12], [-0.1e-12,6e-12], 'g-', lw=2, label = 'Predicted = Observed')\n",
    "plt.plot(y_train_val/(10.**12), y_pred_train[0]/(10.**12),'b.', ms=5, label = 'Training Data')\n",
    "plt.xlim([0,6e-12])\n",
    "plt.ylim([0,6e-12])\n",
    "plt.xlabel(r'Training $\\frac{n_e}{n_g}$')\n",
    "plt.ylabel(r'Observed $\\frac{n_e}{n_g}$')\n",
    "plt.legend()\n",
    "\n",
    "plt.subplot(122)\n",
    "plt.plot([-0.1e-12,6e-12], [-0.1e-12,6e-12], 'g-', lw=2, label = 'Predicted = Observed')\n",
    "plt.plot(y_test/(10.**12), y_pred_test[0]/(10.**12),'r.', ms=5, label = 'Observed Data')\n",
    "plt.xlim([0,6e-12])\n",
    "plt.ylim([0,6e-12])\n",
    "plt.xlabel(r'Observed $\\frac{n_e}{n_g}$')\n",
    "plt.ylabel(r'Predicted $\\frac{n_e}{n_g}$')\n",
    "plt.legend()\n",
    "\n",
    "plt.show()\n",
    "location = r'C:\\Users\\vvmil\\Documents\\Python_Vmil\\Jupyter_Notebooks\\Plasma_He_calcs\\He_code_new\\dim_num_mb_val_test\\packed\\6_rates\\lambda_0.003'\n",
    "name = r'\\mb_packed_parity.pdf'\n",
    "path = location +name\n",
    "plt.savefig(path)"
   ]
  },
  {
   "cell_type": "code",
   "execution_count": 26,
   "metadata": {},
   "outputs": [
    {
     "data": {
      "image/png": "[encoded data removed]",
      "text/plain": [
       "<Figure size 750x450 with 1 Axes>"
      ]
     },
     "metadata": {},
     "output_type": "display_data"
    }
   ],
   "source": [
    "import matplotlib.pyplot as plt\n",
    "import matplotlib\n",
    "import sys\n",
    "sys.path.append(\"Users\\vvmil\\AppData\\Local\\Programs\\MiKTeX\")\n",
    "matplotlib.rcParams['text.usetex'] = True\n",
    "matplotlib.rcParams['text.latex.preamble']=r'\\usepackage{amsmath}'\n",
    "plt.figure(dpi=150, figsize=(5, 3))\n",
    "#plt.rcParams['text.usetex'] = True\n",
    "#plt.rcParams['text.latex.preamble']=r'\\usepackage{amsmath}'\n",
    "\n",
    "font = {'family' : 'Arial',\n",
    "        'weight' : 'bold',\n",
    "        'size'   : 17}\n",
    "\n",
    "\n",
    "plt.rcParams['font.family'] = 'Arial'\n",
    "\n",
    "plt.plot([-0.1e-12,1.3e-12], [-0.1e-12,1.3e-12], 'g-', lw=2, label = r'\\textbf{Predicted = Observed}')\n",
    "plt.plot(y_test/(10.**12), y_pred_test[0]/(10.**12),'r.', ms=5, label = r'\\textbf{Observed Data}')\n",
    "plt.xlim([0,1.0e-12])\n",
    "plt.ylim([0,1.0e-12])\n",
    "plt.xlabel(r'\\textbf{Observed }$\\boldsymbol{\\frac{n_e}{n_g}}$')\n",
    "plt.ylabel(r'\\textbf{Predicted }$\\boldsymbol{\\frac{n_e}{n_g}}$')\n",
    "plt.legend()\n",
    "\n",
    "\n",
    "\n",
    "\n",
    "\n",
    "current_path = r\"C:\\Users\\vvmil\\Documents\\Python_Vmil\\Jupyter_Notebooks\\Plasma_He_calcs\\dimensionless_numbers_mb\\limited_terms\"\n",
    "\n",
    "test_parity_mb = current_path +r'\\test_parity_mb.pdf'\n",
    "\n",
    "\n",
    "\n",
    "plt.savefig(test_parity_mb, bbox_inches=\"tight\")\n",
    "\n",
    "\n",
    "plt.show()\n"
   ]
  },
  {
   "cell_type": "code",
   "execution_count": null,
   "metadata": {},
   "outputs": [],
   "source": []
  }
 ],
 "metadata": {
  "kernelspec": {
   "display_name": "homework",
   "language": "python",
   "name": "homework"
  },
  "language_info": {
   "codemirror_mode": {
    "name": "ipython",
    "version": 3
   },
   "file_extension": ".py",
   "mimetype": "text/x-python",
   "name": "python",
   "nbconvert_exporter": "python",
   "pygments_lexer": "ipython3",
   "version": "3.9.18"
  }
 },
 "nbformat": 4,
 "nbformat_minor": 1
}
