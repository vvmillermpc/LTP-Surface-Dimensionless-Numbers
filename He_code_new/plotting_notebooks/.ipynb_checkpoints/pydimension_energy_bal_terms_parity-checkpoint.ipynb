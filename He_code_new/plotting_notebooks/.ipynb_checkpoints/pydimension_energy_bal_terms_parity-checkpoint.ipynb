{
 "cells": [
  {
   "cell_type": "code",
   "execution_count": 4,
   "metadata": {
    "ExecuteTime": {
     "end_time": "2023-06-12T03:47:13.004679Z",
     "start_time": "2023-06-12T03:47:12.980257Z"
    }
   },
   "outputs": [],
   "source": [
    "from PyDBDdim.utils import DimensionlessLearning\n",
    "import torch\n",
    "torch.manual_seed(0)\n",
    "import numpy as np\n",
    "import pandas as pd\n",
    "import matplotlib.pyplot as plt\n",
    "from sklearn.model_selection import train_test_split\n",
    "import os\n",
    "import warnings\n",
    "warnings.filterwarnings(\"ignore\")\n",
    "\n",
    "import torch\n",
    "import torch.nn as nn\n",
    "import numpy as np\n",
    "import sys\n",
    "import matplotlib\n",
    "sys.path.append(r'C:\\Users\\vvmil\\Documents\\Python_Vmil\\Jupyter_Notebooks\\Plasma_He_calcs\\He_code_new')\n",
    "import vics_fcns as vf\n"
   ]
  },
  {
   "cell_type": "code",
   "execution_count": 5,
   "metadata": {
    "ExecuteTime": {
     "end_time": "2023-06-12T03:47:01.301037Z",
     "start_time": "2023-06-12T03:47:00.935225Z"
    }
   },
   "outputs": [],
   "source": [
    "#df = pd.ExcelFile(r\"mass_balance_params.xlsx\")\n",
    "df_2 = pd.ExcelFile(r'C:\\Users\\vvmil\\Documents\\Python_Vmil\\Jupyter_Notebooks\\Plasma_He_calcs\\data\\data_packing\\collected_output_files_packing\\data_from_EB_looping_all_sizes_remove_extraneous_dims.xlsx')\n",
    "#df_y = pd.ExcelFile(r\"energy_balance_params.xlsx\")\n"
   ]
  },
  {
   "cell_type": "code",
   "execution_count": 6,
   "metadata": {
    "ExecuteTime": {
     "end_time": "2023-06-12T03:47:01.328308Z",
     "start_time": "2023-06-12T03:47:01.302539Z"
    }
   },
   "outputs": [],
   "source": [
    "# df_train_x['u_B_m_s'] = df_train_x['u_B_m_s'] / 1000 if np.min(df_train_x['u_B_m_s']) > 0 else df_train_x['u_B_m_s'] / 1000 - (np.min(df_train_x['u_B_m_s']) / 1000-1e-5)\n",
    "# df_train_x['A_tot_m2'] = 1.\n",
    "# df_train_x['t_a_s'] = df_train_x['t_a_s'] / 1e-7 if np.min(df_train_x['t_a_s']) > 0 else df_train_x['t_a_s'] / 1e-7 - (np.min(df_train_x['t_a_s']) / 1e-7-1e-5)\n",
    "# df_train_x['t_b_s'] = df_train_x['t_b_s'] / 1e-4 if np.min(df_train_x['t_b_s']) > 0 else df_train_x['t_b_s'] / 1e-4 - (np.min(df_train_x['t_b_s']) / 1e-4-1e-5)\n",
    "# df_train_x['Volume_m3'] = 1.\n",
    "# df_train_x['K_iz_a_m3_s_atom'] = df_train_x['K_iz_a_m3_s_atom'] / 1e-15 if np.min(df_train_x['K_iz_a_m3_s_atom']) > 0 else df_train_x['K_iz_a_m3_s_atom'] / 1e-15 - (np.min(df_train_x['K_iz_a_m3_s_atom']) / 1e-15-1e-5)\n",
    "\n",
    "# df_train_x['K_2_iz_a_m3_s_atom'] = df_train_x['K_2_iz_a_m3_s_atom'] / 1e-15 if np.min(df_train_x['K_2_iz_a_m3_s_atom']) > 0 else df_train_x['K_2_iz_a_m3_s_atom'] / 1e-15 - (np.min(df_train_x['K_2_iz_a_m3_s_atom']) / 1e-15-1e-5)\n",
    "\n",
    "# df_train_x['K_iz_exc_a_m3_s_atom'] = df_train_x['K_iz_exc_a_m3_s_atom'] / 1e-14 if np.min(df_train_x['K_iz_exc_a_m3_s_atom']) > 0 else df_train_x['K_iz_exc_a_m3_s_atom'] / 1e-14 - (np.min(df_train_x['K_iz_exc_a_m3_s_atom']) / 1e-14-1e-5)\n",
    "\n",
    "# df_train_x['n_sa_atoms_m3'] = df_train_x['n_sa_atoms_m3'] / 1e10 if np.min(df_train_x['n_sa_atoms_m3']) > 0 else df_train_x['n_sa_atoms_m3'] / 1e10 - (np.min(df_train_x['n_sa_atoms_m3']) / 1e10-1e-5)\n",
    "\n",
    "# df_train_x['n_sb_atoms_m3'] = df_train_x['n_sb_atoms_m3'] / 1e10 if np.min(df_train_x['n_sb_atoms_m3']) > 0 else df_train_x['n_sb_atoms_m3'] / 1e10 - (np.min(df_train_x['n_sb_atoms_m3']) / 1e10-1e-5)\n",
    "\n",
    "# df_train_x['A_a_m2'] = 1.\n",
    "\n",
    "# df_train_x['A_b_m2'] = 1.\n",
    "\n",
    "# df_train_x['n_He_exc_a_atoms_m3'] = df_train_x['n_He_exc_a_atoms_m3'] / 1e17 if np.min(df_train_x['n_He_exc_a_atoms_m3']) > 0 else df_train_x['n_He_exc_a_atoms_m3'] / 1e17 - (np.min(df_train_x['n_He_exc_a_atoms_m3']) / 1e17-1e-5)\n",
    "\n",
    "def rescale(g):\n",
    "    for i in range(0,g.shape[1]):\n",
    "        if np.min(np.abs(g[:,i])) ==0:\n",
    "            n = 0\n",
    "        else:\n",
    "            n = np.mean((np.log10(np.min(np.abs(g[:,i]))), np.log10(np.max(np.abs(g[:,i])))))\n",
    "        if n<0:\n",
    "                g[:,i] = g[:,i]/10**np.ceil(n) if np.min(g[:,i]) > 0 else g[:,i]/10**np.ceil(n) - (np.min(g[:,i]) / 10**np.ceil(n)-1e-5)\n",
    "        else:\n",
    "            g[:,i] = g[:,i]/10**np.floor(n) if np.min(g[:,i]) > 0 else g[:,i]/10**np.floor(n) - (np.min(g[:,i]) / 10**np.floor(n)-1e-5)\n",
    "    return g\n",
    "\n",
    "def rescale_vec(g):\n",
    "    if np.min(np.abs(g)) ==0:\n",
    "        n = 0\n",
    "    else:\n",
    "        n = np.mean((np.log10(np.min(np.abs(g))), np.log10(np.max(np.abs(g)))))\n",
    "    if n<0:\n",
    "            g= g/10**np.ceil(n) if np.min(g) > 0 else g/10**np.ceil(n) - (np.min(g) / 10**np.ceil(n)-1e-5)\n",
    "    else:\n",
    "        g = g/10**np.floor(n) if np.min(g) > 0 else g/10**np.floor(n) - (np.min(g) / 10**np.floor(n)-1e-5)\n",
    "    return g"
   ]
  },
  {
   "cell_type": "code",
   "execution_count": 7,
   "metadata": {
    "ExecuteTime": {
     "end_time": "2023-06-12T03:47:01.718866Z",
     "start_time": "2023-06-12T03:47:01.323367Z"
    },
    "scrolled": false
   },
   "outputs": [
    {
     "name": "stdout",
     "output_type": "stream",
     "text": [
      "235\n"
     ]
    }
   ],
   "source": [
    "#                   0             1           2                    3                   4                   5           6                7                    8                     9                        10                  11                  12                      13                          \n",
    "#df1_names = [ 't_a_seconds', 'Q_a_As', 'V_p_ta_kgm2_s3_A','T_e_a_kgm2_s3_A', 'n_He_exc_a_atoms_m3', 'u_B_a_m_s', 'v_e_a_m_s', 'K_2_iz_a_m3_s_atom','K_loss_a_m6_s_atom2', 'K_iz_exc_a_m3_s_atom', 'K_exc_a_m3_s_atom', 'K_iz_a_m3_s_atom', 'K_elastic_a_m3_s_atom', 'E_elastic_a_kgm2_s2' ]\n",
    "\n",
    "\n",
    "df_time_a = rescale(np.array(pd.read_excel(df_2, sheet_name='time_a_data').iloc[:,1:]))\n",
    "df_time_a_units = np.array(pd.read_excel(df_2, sheet_name='time_a_data_units').iloc[:,1:])\n",
    "df_time_a_n = pd.read_excel(df_2, sheet_name='time_a_data_names').iloc[:,1:]\n",
    "time_a_n= [df_time_a_n.iloc[0,i] for i in range(0,df_time_a_n.shape[1])]\n",
    "#print(df_time_a_n)\n",
    "#print(df_time_a_units)\n",
    "\n",
    "\n",
    "#                   0             1                2               3                   4              5          6             7                   8                    9                       10              11                   12                   13                  \n",
    "#df2_names =  [ 't_b_seconds', 'Q_b_As', 'V_p_tb_kgm2_s3_A','T_e_kgm2_s3_A', 'n_He_exc_atoms_m3', 'u_B_m_s', 'v_e_m_s','K_2_iz_m3_s_atom','K_loss_m6_s_atom2', 'K_iz_exc_m3_s_atom', 'K_exc_m3_s_atom', 'K_iz_m3_s_atom', 'K_elastic_m3_s_atom', 'E_elastic_kgm2_s2' ]\n",
    "df_time_b = rescale(np.array(pd.read_excel(df_2, sheet_name='time_b_data').iloc[:,1:]))\n",
    "df_time_b_units = np.array(pd.read_excel(df_2, sheet_name='time_b_data_units').iloc[:,1:])\n",
    "df_time_b_n = pd.read_excel(df_2, sheet_name='time_b_data_names').iloc[:,1:]\n",
    "time_b_n= [df_time_b_n.iloc[0,i] for i in range(0,df_time_b_n.shape[1])]\n",
    "\n",
    "\n",
    "#                    0                   1                 2               3                 4               5               6                 7                  8           9        10        11                12                   13               14                   \n",
    "#df3_names = ['E_period_kgm2_s2', 'n_sa_atoms_m3','n_sb_atoms_m3', 'n_e_electrons_m3', 'n_g_atoms_m3', 'T_g_kelvin', 'E_iz_kgm2_s2', 'E_iz_exc_kgm2_s2', 'E_exc_kgm2_s2', 'e_c_As', 'm_e_kg', 'M_He_kg',  'epsilon_A2s4_kg_m3', 'eps_0_A2s4_kg_m3', 'k_b_kgm2_s2_K']\n",
    "df_other = rescale(np.array(pd.read_excel(df_2, sheet_name='other_data').iloc[:,1:]))\n",
    "df_other_units = np.array(pd.read_excel(df_2, sheet_name='other_data_units').iloc[:,1:])\n",
    "df_other_n = pd.read_excel(df_2, sheet_name='other_data_names').iloc[:,1:]\n",
    "other_n= [df_other_n.iloc[0,i] for i in range(0,df_other_n.shape[1])]\n",
    "\n",
    "#                    0                 1             2        3        4         5            6            7            8               9              10                 11                      12                      \n",
    "#df4_names = ['Volume_rxtor_m2', 'V_all_beads_m2','A_a_m2','A_b_m2', 'h_m', 'Volume_m3', 'A_bead_m2', 'A_tot_m3', 'frequency_Hz', 'Flow_m3_s', 'temp_C_gas_K', 'Set_Voltage_kgm2_s3_A', 'pulse_time_seconds' ]\n",
    "df_exp = rescale(np.array(pd.read_excel(df_2, sheet_name='Experiment_Design_data').iloc[:,1:]))\n",
    "df_exp_units = np.array(pd.read_excel(df_2, sheet_name='Experiment_Data_units').iloc[:,1:])\n",
    "df_exp_n = pd.read_excel(df_2, sheet_name='Experiment_Data_names').iloc[:,1:]\n",
    "exp_n= [df_exp_n.iloc[0,i] for i in range(0,df_exp_n.shape[1])]\n",
    "\n",
    "\n",
    "\n",
    "#energy balance expanded terms\n",
    "#terms to add: epsilon, other[12]\n",
    "a = df_time_b[:,5].shape[0] #this is just the number of data points\n",
    "\n",
    "\n",
    "\n",
    "# get gamma's!\n",
    "time_a= np.array(pd.read_excel(df_2, sheet_name='time_a_data').iloc[:,1:])\n",
    "time_b = np.array(pd.read_excel(df_2, sheet_name='time_b_data').iloc[:,1:])\n",
    "other_data = np.array(pd.read_excel(df_2, sheet_name='other_data').iloc[:,1:])\n",
    "\n",
    "K_iz_exc_a = time_a[:,9]\n",
    "K_exc_a = time_a[:,10]\n",
    "K_iz_a = time_a[:,11]\n",
    "K_ela_a = time_a[:,12]\n",
    "E_ela_a = time_a[:,13]\n",
    "\n",
    "K_iz_exc = time_b[:,9]\n",
    "K_exc = time_b[:,10]\n",
    "K_iz = time_b[:,11]\n",
    "K_ela = time_b[:,12]\n",
    "E_ela = time_b[:,13]\n",
    "\n",
    "E_iz_exc = other_data[:,6] \n",
    "E_exc = other_data[:,7]\n",
    "E_iz = other_data[:,8]\n",
    "\n",
    "\n",
    "# time a gammas\n",
    "y_iz_exc_a = np.multiply(K_iz_exc_a, E_iz_exc).reshape(a,1)\n",
    "y_iz_exc_a_units = df_time_a_units[:,9].reshape(6,1)+df_other_units[:,6].reshape(6,1)\n",
    "#print(y_iz_exc_a_units)\n",
    "\n",
    "y_exc_a = np.multiply(K_exc_a, E_exc).reshape(a,1)\n",
    "y_exc_a_units = df_time_a_units[:,10].reshape(6,1)+df_other_units[:,7].reshape(6,1)\n",
    "#print(y_exc_a_units)\n",
    "\n",
    "y_iz_a = np.multiply(K_iz_a, E_iz).reshape(a,1)\n",
    "y_iz_a_units = df_time_a_units[:,11].reshape(6,1)+df_other_units[:,8].reshape(6,1)\n",
    "#print(y_iz_a_units)\n",
    "\n",
    "y_ela_a = np.multiply(K_ela_a, E_ela_a).reshape(a,1)\n",
    "y_ela_a_units = df_time_a_units[:,12].reshape(6,1)+ df_time_a_units[:,13].reshape(6,1)\n",
    "#print(y_iz_a_units)\n",
    "\n",
    "y_iz_exc = np.multiply(K_iz_exc, E_iz_exc).reshape(a,1)\n",
    "y_iz_exc_units = df_time_b_units[:,9].reshape(6,1)+df_other_units[:,6].reshape(6,1)\n",
    "#print(y_iz_exc_units)\n",
    "\n",
    "y_exc = np.multiply(K_exc, E_exc).reshape(a,1)\n",
    "y_exc_units = df_time_b_units[:,10].reshape(6,1)+df_other_units[:,7].reshape(6,1)\n",
    "#print(y_exc_units)\n",
    "\n",
    "\n",
    "y_iz = np.multiply(K_iz, E_iz).reshape(a,1)\n",
    "y_iz_units = df_time_b_units[:,10].reshape(6,1)+df_other_units[:,7].reshape(6,1)\n",
    "#print(y_iz_units)\n",
    "\n",
    "y_ela = np.multiply(K_ela, E_ela).reshape(a,1)\n",
    "y_ela_units = df_time_b_units[:,12].reshape(6,1)+ df_time_b_units[:,13].reshape(6,1)\n",
    "#print(y_ela_units)\n",
    "\n",
    "df_gamma = rescale(np.hstack((y_iz_exc_a, y_exc_a, y_iz_a, y_ela_a, y_iz_exc, y_exc, y_iz, y_ela)))\n",
    "gamma_units = np.hstack((y_iz_exc_a_units, y_exc_a_units, y_iz_a_units, y_ela_a_units, y_iz_exc_units, y_exc_units, y_iz_units, y_ela_units))\n",
    "gamma_n = ['y_iz_exc_a', 'y_exc_a', 'y_iz_a', 'y_ela_a', 'y_iz_exc', 'y_exc', 'y_iz', 'y_ela' ]\n",
    "\n",
    "# y_exc_a = gammas[:,8] #K_exc_a * E_exc_a\n",
    "# y_exc_a_units = np.array([5,-3,-2,1,0,0])  #WRONG SHOULD BE [5,-3,-2,1,0,0]\n",
    "\n",
    "# y_iz_a = gammas[:,9]#K_iz_a*E_iz\n",
    "# y_iz_a_units = np.array([5,-3,-2,1,0,0])\n",
    "\n",
    "# y_iz_exc_a = gammas[:,10]#K_iz_exc_a*E_iz_exc\n",
    "# y_iz_exc_a_units = np.array([5,-3,-2,1,0,0])\n",
    "\n",
    "# y_elastic = gammas[:,11]#K_elastic*E_elastic\n",
    "# y_elastic_units = np.array([5,-3,-2,1,0,0])\n",
    "\n",
    "# inputs = np.hstack((df_exp[:,5].reshape(a,1),df_other[:,3].reshape(a,1),df_other[:,4].reshape(a,1),df_other[:,9].reshape(a,1),df_exp[:,7].reshape(a,1),df_other[:,0].reshape(a,1),y_exc_a.reshape(a,1),y_iz_a.reshape(a,1),y_iz_exc_a.reshape(a,1),y_elastic.reshape(a,1),df_time_a[:,0].reshape(a,1), df_other[:,1].reshape(a,1), df_other[:,2].reshape(a,1),df_time_a[:,2].reshape(a,1),df_time_b[:,0].reshape(a,1), df_time_b[:,5].reshape(a,1),df_time_b[:,2].reshape(a,1),df_time_b[:,6].reshape(a,1),df_time_a[:,4].reshape(a,1), df_other[:,12].reshape(a,1)))\n",
    "# D_in = np.hstack((df_exp_units[:,5].reshape(6,1),df_other_units[:,3].reshape(6,1),df_other_units[:,4].reshape(6,1),df_other_units[:,9].reshape(6,1),df_exp_units[:,7].reshape(6,1),df_other_units[:,0].reshape(6,1),y_exc_a_units.reshape(6,1),y_iz_a_units.reshape(6,1),y_iz_exc_a_units.reshape(6,1),y_elastic_units.reshape(6,1),df_time_a_units[:,0].reshape(6,1),df_other_units[:,1].reshape(6,1),df_other_units[:,2].reshape(6,1),df_time_a_units[:,2].reshape(6,1),df_time_b_units[:,0].reshape(6,1),df_time_b_units[:,5].reshape(6,1),df_time_b_units[:,2].reshape(6,1),df_time_b_units[:,6].reshape(6,1),df_time_a_units[:,4].reshape(6,1), df_other_units[:,12].reshape(6,1)))\n",
    "# variables = [exp_n[5],other_n[3],other_n[4],other_n[9],exp_n[7],other_n[0],'y_exc_a_kgm5_s3_atoms2','y_iz_a_kgm5_s3_atoms2','y_iz_exc_a_kgm5_s3_atoms2','y_elastic_kgm5_s3_atoms2',time_a_n[0],other_n[1],other_n[2],time_a_n[2],time_b_n[0],time_b_n[5],time_b_n[2],time_b_n[6],time_a_n[4],other_n[12]]\n",
    "# print(variables)\n",
    "# print(D_in)\n",
    "\n",
    "\n",
    "\n",
    "\n",
    "#energy balance terms\n",
    "# #now to construct  'Volume_m3', 'n_e_atoms_m3', 'n_g_atoms_m3', 'e_c_As', 'A_tot', 'E_kgm2_s2_atom', 'y_exc_a_kgm5_s3_atoms2', 'y_iz_a_kgm5_s3_atoms2', 'y_iz_exc_a_kgm5_s3_atoms2', 'y_elastic_kgm5_s3_atoms2', 't_a_s', 'n_sa_atoms_m3', 'n_sb_atoms_m3', 'V_p_ta_volts', 't_b_s', 'u_B_m_s', 'V_p_tb_volts', 'v_e_m_s', 'n_He_exc_a_atoms_m3'  \n",
    "# a = df_time_b[:,5].shape[0] #this is just the number of data points\n",
    "\n",
    "# # get gamma's!\n",
    "# gammas= rescale(np.array(pd.read_excel(df_y, sheet_name='inputs').iloc[:,1:]))\n",
    "\n",
    "# y_exc_a = gammas[:,8] #K_exc_a * E_exc_a\n",
    "# y_exc_a_units = np.array([5,-3,-2,1,0,0])\n",
    "\n",
    "# y_iz_a = gammas[:,9]#K_iz_a*E_iz\n",
    "# y_iz_a_units = np.array([5,-3,-2,1,0,0])\n",
    "\n",
    "# y_iz_exc_a = gammas[:,10]#K_iz_exc_a*E_iz_exc\n",
    "# y_iz_exc_a_units = np.array([5,-3,-2,1,0,0])\n",
    "\n",
    "# y_elastic = gammas[:,11]#K_elastic*E_elastic\n",
    "# y_elastic_units = np.array([5,-3,-2,1,0,0])\n",
    "\n",
    "print(a)"
   ]
  },
  {
   "cell_type": "code",
   "execution_count": 8,
   "metadata": {},
   "outputs": [
    {
     "name": "stdout",
     "output_type": "stream",
     "text": [
      "['n_g_atoms_m3', 'Volume_m3', 'y_iz_a', 't_a_seconds', 'n_e_electrons_m3', 'y_ela', 't_b_seconds', 'E_period_kgm2_s2', 'y_exc_a', 'y_ela_a', 'u_B_m_s', 'e_c_As', 'A_tot_m3']\n",
      "[[-3  3  5  0 -3  5  0  2  5  5  1  0  2]\n",
      " [ 0  0 -3  1  0 -3  1 -2 -3 -3 -1  1  0]\n",
      " [ 1  0 -1  0  1 -1  0  0 -1 -1  0  0  0]\n",
      " [ 0  0  1  0  0  1  0  1  1  1  0  0  0]\n",
      " [ 0  0  0  0  0  0  0  0  0  0  0  1  0]\n",
      " [ 0  0  0  0  0  0  0  0  0  0  0  0  0]]\n"
     ]
    }
   ],
   "source": [
    "# # six major rates  for packed; need to add last rate\n",
    "# # include E in, iomization ta, tb elastic, ta exc, ta elastic, tb floating energy loss\n",
    "\n",
    "a = df_time_b[:,5].shape[0]\n",
    "\n",
    "\n",
    "# E in\n",
    "E_in_inputs = df_other[:,0].reshape(a,1)\n",
    "E_in_D_in = df_other_units[:,0].reshape(6,1)\n",
    "E_in_n = [other_n[0]]\n",
    "\n",
    "# # vol time a ionization:  n_g df_other[4], V df_exp[5] , K_iz_a + E_iz  df_gamma[2] , t_a df_time_a[0], n_e df_other[3]\n",
    "ion_ta_inputs = np.hstack(( df_other[:,4].reshape(a,1) , df_exp[:,5].reshape(a,1) , df_gamma[:,2].reshape(a,1) , df_time_a[:,0].reshape(a,1) ,  df_other[:,3].reshape(a,1) ))\n",
    "ion_ta_D_in = np.hstack(( df_other_units[:,4].reshape(6,1), df_exp_units[:,5].reshape(6,1) , gamma_units[:,2].reshape(6,1) , df_time_a_units[:,0].reshape(6,1) , df_other_units[:,3].reshape(6,1) ))\n",
    "ion_ta_n = [other_n[4] , exp_n[5], gamma_n[2] , time_a_n[0], other_n[3] ]\n",
    "\n",
    "\n",
    "# # vol elastic energy time b  loss: n_e [na], n_g[na], V [na], K_ela E_ela  df_gamma[7], t_b df_time_b[0]\n",
    "ela_time_b_inputs = np.hstack((df_gamma[:,7].reshape(a,1), df_time_b[:,0].reshape(a,1) ))\n",
    "ela_time_b_D_in = np.hstack(( gamma_units[:,7].reshape(6,1), df_time_b_units[:,0].reshape(6,1)  ))\n",
    "ela_time_b_n = [gamma_n[7], time_b_n[0] ]\n",
    "\n",
    "\n",
    "# # ta excitation energy: ng [na], ne [na], V[na], K_exca_a * E_exc df_gamma[1] , ta [na]\n",
    "exc_ta_inputs = df_gamma[:,1].reshape(a,1)\n",
    "exc_ta_D_in =gamma_units[:,1].reshape(6,1)\n",
    "exc_ta_n = [gamma_n[1]]\n",
    "\n",
    "\n",
    "# # ta elastic: ne [na], ng [na], V [na], K_ela_a * E_ela_a dfz-gamma[3], t_a[na]\n",
    "ela_a_ta_inputs = df_gamma[:,3].reshape(a,1)\n",
    "ela_a_D_in = gamma_units[:,3].reshape(6,1)\n",
    "ela_a_ta_n = [gamma_n[3]]\n",
    "\n",
    "\n",
    "# # tb floating loss, energy: ne [na], u_B, e_c, T_e [na], A_tot, t_b [na]\n",
    "floating_loss_tb_inputs = np.hstack(( df_time_b[:,5].reshape(a,1), df_other[:,9].reshape(a,1) , df_exp[:,7].reshape(a,1) ))\n",
    "floating_loss_tb_D_in = np.hstack(( df_time_b_units[:,5].reshape(6,1), df_other_units[:,9].reshape(6,1) , df_exp_units[:,7].reshape(6,1) ))\n",
    "floating_loss_tb_n = [ time_b_n[5], other_n[9] , exp_n[7]]\n",
    "                               \n",
    "                               \n",
    "inputs = np.hstack(( ion_ta_inputs, ela_time_b_inputs, E_in_inputs, exc_ta_inputs, ela_a_ta_inputs, floating_loss_tb_inputs))\n",
    "D_in = np.hstack(( ion_ta_D_in, ela_time_b_D_in, E_in_D_in, exc_ta_D_in, ela_a_D_in , floating_loss_tb_D_in ))\n",
    "variables = ion_ta_n + ela_time_b_n + E_in_n + exc_ta_n + ela_a_ta_n + floating_loss_tb_n\n",
    "print(variables)\n",
    "print(D_in)\n"
   ]
  },
  {
   "cell_type": "code",
   "execution_count": 9,
   "metadata": {
    "ExecuteTime": {
     "end_time": "2023-06-12T03:47:01.746040Z",
     "start_time": "2023-06-12T03:47:01.715008Z"
    }
   },
   "outputs": [
    {
     "name": "stdout",
     "output_type": "stream",
     "text": [
      "(235, 13)\n",
      "(6, 13)\n"
     ]
    }
   ],
   "source": [
    "print(inputs.shape)\n",
    "print(D_in.shape)"
   ]
  },
  {
   "cell_type": "code",
   "execution_count": 10,
   "metadata": {
    "ExecuteTime": {
     "end_time": "2023-06-12T03:47:01.859697Z",
     "start_time": "2023-06-12T03:47:01.727307Z"
    }
   },
   "outputs": [
    {
     "name": "stdout",
     "output_type": "stream",
     "text": [
      "[0.12719865 0.11651852 0.12623569 0.12430976 0.12133333 0.12457239\n",
      " 0.12465993 0.11993266 0.12054545 0.1200202  0.12107071 0.12702357\n",
      " 0.11511785 0.12142088 0.12150842 0.12352189 0.12142088 0.12045791\n",
      " 0.12045791 0.12107071 0.11958249 0.12185859 0.12098316 0.12159596\n",
      " 0.11967003 0.12212121 0.11914478 0.11870707 0.11800673 0.11809428\n",
      " 0.12054545 0.11958249 0.12054545 0.12054545 0.12150842 0.12308418\n",
      " 0.12220875 0.1222963  0.12098316 0.12054545 0.12185859 0.12290909\n",
      " 0.12194613 0.12212121 0.1256229  0.12430976 0.12693603 0.12781145\n",
      " 0.14925926 0.156      0.15389899 0.14645791 0.12973737 0.12124579\n",
      " 0.12194613 0.11975758 0.139367   0.13367677 0.21456566 0.22822222\n",
      " 0.21701684 0.17184512 0.12404714 0.2649899  0.1399798  0.13534007\n",
      " 0.13358923 0.12159596 0.12142088 0.12107071 0.12255892 0.11931987\n",
      " 0.12019529 0.11861953 0.12072054 0.11931987 0.11940741 0.120633\n",
      " 0.12010774 0.13954209 0.12824916 0.12737374 0.12518519 0.11660606\n",
      " 0.11686869 0.11721886 0.12430976 0.11993266 0.1166936  0.11625589\n",
      " 0.12448485 0.11555556 0.1239596  0.12317172 0.12247138 0.12807407\n",
      " 0.11012795 0.11818182 0.12623569 0.12142088 0.12159596 0.12107071\n",
      " 0.12107071 0.11993266 0.12045791 0.12238384 0.12238384 0.13148822\n",
      " 0.13428956 0.1377037  0.13892929 0.13323906 0.13306397 0.1256229\n",
      " 0.12264646 0.12142088 0.13569024 0.13980471 0.16694276 0.18839057\n",
      " 0.15468687 0.1272862  0.1643165  0.21675421 0.14243098 0.13656566\n",
      " 0.12877441 0.1272862  0.1233468  0.12544781 0.11879461 0.12212121\n",
      " 0.12404714 0.12404714 0.12247138 0.1222963  0.12378451 0.12282155\n",
      " 0.12264646 0.12255892 0.12737374 0.1272862  0.1316633  0.1256229\n",
      " 0.12509764 0.12571044 0.12719865 0.12492256 0.12290909 0.12492256\n",
      " 0.12649832 0.12772391 0.14041751 0.14111785 0.14444444 0.12527273\n",
      " 0.12273401 0.12807407 0.12903704 0.14540741 0.18716498 0.12299663\n",
      " 0.12912458 0.12325926 0.13096296 0.12212121 0.12387205 0.13709091\n",
      " 0.12859933 0.12238384 0.13630303 0.12430976 0.1222963  0.12212121\n",
      " 0.11721886 0.12045791 0.11879461 0.12080808 0.1216835  0.12378451\n",
      " 0.12938721 0.11870707 0.11879461 0.12851178 0.12457239 0.12107071\n",
      " 0.14155556 0.1250101  0.12719865 0.13463973 0.12247138 0.12089562\n",
      " 0.12150842 0.12072054 0.12702357 0.1200202  0.11905724 0.12010774\n",
      " 0.12133333 0.11905724 0.11844444 0.12588552 0.12212121 0.12929966\n",
      " 0.12465993 0.12098316 0.12133333 0.12509764 0.12483502 0.12465993\n",
      " 0.12255892 0.12115825 0.13052525 0.13954209 0.13709091 0.17061953\n",
      " 0.1493468  0.14908418 0.18900337 0.19285522 0.16983165 0.1383165\n",
      " 0.12212121 0.13857912 0.16344108 0.17683502 0.32381818 0.21762963\n",
      " 0.15232323 0.1316633  0.12369697 0.12369697 0.15652525 0.13534007\n",
      " 0.13490236]\n",
      "[ 4.84333333  4.43666667  4.80666667  4.73333333  4.62        4.74333333\n",
      "  4.74666667  4.56666667  4.59        4.57        4.61        4.83666667\n",
      "  4.38333333  4.62333333  4.62666667  4.70333333  4.62333333  4.58666667\n",
      "  4.58666667  4.61        4.55333333  4.64        4.60666667  4.63\n",
      "  4.55666667  4.65        4.53666667  4.52        4.49333333  4.49666667\n",
      "  4.59        4.55333333  4.59        4.59        4.62666667  4.68666667\n",
      "  4.65333333  4.65666667  4.60666667  4.59        4.64        4.68\n",
      "  4.64333333  4.65        4.78333333  4.73333333  4.83333333  4.86666667\n",
      "  5.68333333  5.94        5.86        5.57666667  4.94        4.61666667\n",
      "  4.64333333  4.56        5.30666667  5.09        8.17        8.69\n",
      "  8.26333333  6.54333333  4.72333333 10.09        5.33        5.15333333\n",
      "  5.08666667  4.63        4.62333333  4.61        4.66666667  4.54333333\n",
      "  4.57666667  4.51666667  4.59666667  4.54333333  4.54666667  4.59333333\n",
      "  4.57333333  5.31333333  4.88333333  4.85        4.76666667  4.44\n",
      "  4.45        4.46333333  4.73333333  4.56666667  4.44333333  4.42666667\n",
      "  4.74        4.4         4.72        4.69        4.66333333  4.87666667\n",
      "  4.19333333  4.5         4.80666667  4.62333333  4.63        4.61\n",
      "  4.61        4.56666667  4.58666667  4.66        4.66        5.00666667\n",
      "  5.11333333  5.24333333  5.29        5.07333333  5.06666667  4.78333333\n",
      "  4.67        4.62333333  5.16666667  5.32333333  6.35666667  7.17333333\n",
      "  5.89        4.84666667  6.25666667  8.25333333  5.42333333  5.2\n",
      "  4.90333333  4.84666667  4.69666667  4.77666667  4.52333333  4.65\n",
      "  4.72333333  4.72333333  4.66333333  4.65666667  4.71333333  4.67666667\n",
      "  4.67        4.66666667  4.85        4.84666667  5.01333333  4.78333333\n",
      "  4.76333333  4.78666667  4.84333333  4.75666667  4.68        4.75666667\n",
      "  4.81666667  4.86333333  5.34666667  5.37333333  5.5         4.77\n",
      "  4.67333333  4.87666667  4.91333333  5.53666667  7.12666667  4.68333333\n",
      "  4.91666667  4.69333333  4.98666667  4.65        4.71666667  5.22\n",
      "  4.89666667  4.66        5.19        4.73333333  4.65666667  4.65\n",
      "  4.46333333  4.58666667  4.52333333  4.6         4.63333333  4.71333333\n",
      "  4.92666667  4.52        4.52333333  4.89333333  4.74333333  4.61\n",
      "  5.39        4.76        4.84333333  5.12666667  4.66333333  4.60333333\n",
      "  4.62666667  4.59666667  4.83666667  4.57        4.53333333  4.57333333\n",
      "  4.62        4.53333333  4.51        4.79333333  4.65        4.92333333\n",
      "  4.74666667  4.60666667  4.62        4.76333333  4.75333333  4.74666667\n",
      "  4.66666667  4.61333333  4.97        5.31333333  5.22        6.49666667\n",
      "  5.68666667  5.67666667  7.19666667  7.34333333  6.46666667  5.26666667\n",
      "  4.65        5.27666667  6.22333333  6.73333333 12.33        8.28666667\n",
      "  5.8         5.01333333  4.71        4.71        5.96        5.15333333\n",
      "  5.13666667]\n"
     ]
    }
   ],
   "source": [
    "#For predicting Te/Tg: keep top block, comment bottom block. For predicting ne/ng, keep bottom block, comment top block.\n",
    "\n",
    "\n",
    "\n",
    "\n",
    "#### TOP BLOCK ####\n",
    "\n",
    "df_out = pd.read_excel(df_2, sheet_name='time_b_data').iloc[:,1:]\n",
    "T_e = np.array(df_out.iloc[:,3])\n",
    "df_out = pd.read_excel(df_2, sheet_name='other_data').iloc[:,1:]\n",
    "T_g = np.array(df_out.iloc[:,5])*0.026/297\n",
    "T_e_no_dim = T_e/T_g\n",
    "print(T_e)\n",
    "output = rescale_vec(T_e_no_dim)\n",
    "print(output)\n",
    "D_out = np.array(\n",
    "    [\n",
    "        [0.],\n",
    "        [0.],\n",
    "        [0.],\n",
    "        [0.],\n",
    "        [0,],\n",
    "        [0.]\n",
    "    ],\n",
    "\n",
    ")\n",
    "\n",
    "\n",
    "\n",
    "#### BOTTOM BLOCK ####\n",
    "\n",
    "# df_out = pd.read_excel(df_2, sheet_name='other_data').iloc[:,1:]\n",
    "# n_e = np.array(df_out.iloc[:,3])\n",
    "# df_out = pd.read_excel(df_2, sheet_name='other_data').iloc[:,1:]\n",
    "# n_g = np.array(df_out.iloc[:,4])\n",
    "# n_e_no_dim = n_e/n_g\n",
    "# print(n_e)\n",
    "# print(n_e_no_dim)\n",
    "# output = rescale_vec(n_e_no_dim)\n",
    "# print(output)\n",
    "# D_out = np.array(\n",
    "#     [\n",
    "#         [0.],\n",
    "#         [0.],\n",
    "#         [0.],\n",
    "#         [0.],\n",
    "#         [0,],\n",
    "#         [0.]\n",
    "#     ],\n",
    "\n",
    "# )\n"
   ]
  },
  {
   "cell_type": "code",
   "execution_count": 11,
   "metadata": {
    "ExecuteTime": {
     "end_time": "2023-06-12T03:47:01.908564Z",
     "start_time": "2023-06-12T03:47:01.852932Z"
    }
   },
   "outputs": [
    {
     "data": {
      "text/plain": [
       "tensor([[-1.0000,  0.0000,  0.0000, -1.0000,  0.0000,  0.0000,  0.0000,  0.0000],\n",
       "        [ 0.0000,  0.0000,  0.0000,  0.0000,  0.0000,  0.0000, -0.3333, -0.6667],\n",
       "        [ 0.0000, -1.0000,  0.0000, -1.0000, -1.0000, -1.0000,  0.0000,  0.0000],\n",
       "        [ 0.0000,  0.0000, -1.0000, -1.0000,  0.0000,  0.0000,  1.0000,  0.0000],\n",
       "        [ 1.0000,  0.0000,  0.0000,  0.0000,  0.0000,  0.0000,  0.0000,  0.0000],\n",
       "        [ 0.0000,  1.0000,  0.0000,  0.0000,  0.0000,  0.0000,  0.0000,  0.0000],\n",
       "        [ 0.0000,  0.0000,  1.0000,  0.0000,  0.0000,  0.0000,  0.0000,  0.0000],\n",
       "        [ 0.0000,  0.0000,  0.0000,  1.0000,  0.0000,  0.0000,  0.0000,  0.0000],\n",
       "        [ 0.0000,  0.0000,  0.0000,  0.0000,  1.0000,  0.0000,  0.0000,  0.0000],\n",
       "        [ 0.0000,  0.0000,  0.0000,  0.0000,  0.0000,  1.0000,  0.0000,  0.0000],\n",
       "        [ 0.0000,  0.0000,  0.0000,  0.0000,  0.0000,  0.0000,  1.0000,  0.0000],\n",
       "        [ 0.0000,  0.0000,  0.0000,  0.0000,  0.0000,  0.0000,  0.0000,  0.0000],\n",
       "        [ 0.0000,  0.0000,  0.0000,  0.0000,  0.0000,  0.0000,  0.0000,  1.0000]],\n",
       "       dtype=torch.float64)"
      ]
     },
     "execution_count": 11,
     "metadata": {},
     "output_type": "execute_result"
    }
   ],
   "source": [
    "fff = DimensionlessLearning(D_in, D_out)\n",
    "fff.basis_col"
   ]
  },
  {
   "cell_type": "code",
   "execution_count": 12,
   "metadata": {
    "ExecuteTime": {
     "end_time": "2023-06-12T03:47:01.947405Z",
     "start_time": "2023-06-12T03:47:01.911512Z"
    }
   },
   "outputs": [
    {
     "data": {
      "text/plain": [
       "tensor([[-1.0000,  0.0000,  0.0000, -1.0000,  0.0000,  0.0000,  0.0000,  0.0000],\n",
       "        [ 0.0000,  0.0000,  0.0000,  0.0000,  0.0000,  0.0000, -0.3333, -0.6667],\n",
       "        [ 0.0000, -1.0000,  0.0000, -1.0000, -1.0000, -1.0000,  0.0000,  0.0000],\n",
       "        [ 0.0000,  0.0000, -1.0000, -1.0000,  0.0000,  0.0000,  1.0000,  0.0000],\n",
       "        [ 1.0000,  0.0000,  0.0000,  0.0000,  0.0000,  0.0000,  0.0000,  0.0000],\n",
       "        [ 0.0000,  1.0000,  0.0000,  0.0000,  0.0000,  0.0000,  0.0000,  0.0000],\n",
       "        [ 0.0000,  0.0000,  1.0000,  0.0000,  0.0000,  0.0000,  0.0000,  0.0000],\n",
       "        [ 0.0000,  0.0000,  0.0000,  1.0000,  0.0000,  0.0000,  0.0000,  0.0000],\n",
       "        [ 0.0000,  0.0000,  0.0000,  0.0000,  1.0000,  0.0000,  0.0000,  0.0000],\n",
       "        [ 0.0000,  0.0000,  0.0000,  0.0000,  0.0000,  1.0000,  0.0000,  0.0000],\n",
       "        [ 0.0000,  0.0000,  0.0000,  0.0000,  0.0000,  0.0000,  1.0000,  0.0000],\n",
       "        [ 0.0000,  0.0000,  0.0000,  0.0000,  0.0000,  0.0000,  0.0000,  0.0000],\n",
       "        [ 0.0000,  0.0000,  0.0000,  0.0000,  0.0000,  0.0000,  0.0000,  1.0000]],\n",
       "       dtype=torch.float64)"
      ]
     },
     "execution_count": 12,
     "metadata": {},
     "output_type": "execute_result"
    }
   ],
   "source": [
    "fff.basis_col"
   ]
  },
  {
   "cell_type": "code",
   "execution_count": 13,
   "metadata": {
    "ExecuteTime": {
     "end_time": "2023-06-12T03:47:01.981711Z",
     "start_time": "2023-06-12T03:47:01.928617Z"
    }
   },
   "outputs": [],
   "source": [
    "fff.read_data(inputs, output)\n"
   ]
  },
  {
   "cell_type": "code",
   "execution_count": 14,
   "metadata": {
    "is_executing": true
   },
   "outputs": [],
   "source": [
    "from PyDBDdim import PiLinearRegressionViaTorch\n",
    "\n",
    "\n",
    "#the code does five fold to ensure the R2 is worth while.\n",
    "# we then want to rerun the fitting on all data instead of 80% of it. The 5fold find the right number of epochs.\n",
    "# so, we re run to find the right number of epochs, and then we must store the parameters and the R2 from the 5-fold fitting.\n",
    "#"
   ]
  },
  {
   "cell_type": "code",
   "execution_count": 15,
   "metadata": {
    "ExecuteTime": {
     "end_time": "2023-06-12T03:47:24.504910Z",
     "start_time": "2023-06-12T03:47:24.479189Z"
    }
   },
   "outputs": [],
   "source": [
    "X_train_val, X_test, y_train_val, y_test = train_test_split(fff.X, fff.y, test_size=0.2, random_state=42)"
   ]
  },
  {
   "cell_type": "code",
   "execution_count": 16,
   "metadata": {},
   "outputs": [
    {
     "name": "stdout",
     "output_type": "stream",
     "text": [
      "torch.return_types.topk(\n",
      "values=tensor([0.7424, 0.7424, 0.7424, 0.7424, 0.7424], dtype=torch.float64),\n",
      "indices=tensor([ 78,  16, 115,  18,   4]))\n",
      "torch.return_types.topk(\n",
      "values=tensor([10.0900,  8.6900,  8.2867,  8.2533,  8.1700], dtype=torch.float64),\n",
      "indices=tensor([140, 130, 158,  97, 151]))\n"
     ]
    }
   ],
   "source": [
    "print(torch.topk(X_train_val[:,1],5))\n",
    "print(torch.topk(y_train_val[:,0],5))"
   ]
  },
  {
   "cell_type": "code",
   "execution_count": 17,
   "metadata": {},
   "outputs": [
    {
     "name": "stdout",
     "output_type": "stream",
     "text": [
      "torch.return_types.topk(\n",
      "values=tensor([12.3300,  8.2633,  6.7333,  5.8000,  5.4233], dtype=torch.float64),\n",
      "indices=tensor([18, 43, 10, 12, 42]))\n"
     ]
    }
   ],
   "source": [
    "torch.topk(X_test[:,1],5)\n",
    "print(torch.topk(y_test[:,0],5)) #try this one!"
   ]
  },
  {
   "cell_type": "code",
   "execution_count": 18,
   "metadata": {
    "ExecuteTime": {
     "end_time": "2023-06-12T03:47:33.979886Z",
     "start_time": "2023-06-12T03:47:33.941455Z"
    }
   },
   "outputs": [],
   "source": [
    "from PyDBDdim import PiLinearRegressionViaTorch"
   ]
  },
  {
   "cell_type": "code",
   "execution_count": 19,
   "metadata": {
    "ExecuteTime": {
     "end_time": "2023-06-12T03:48:11.003285Z",
     "start_time": "2023-06-12T03:48:10.989357Z"
    }
   },
   "outputs": [],
   "source": [
    "# ndimensionless = 1\n",
    "# lambda_gamma = 0.01\n",
    "# lambda_beta = 0.01\n",
    "# poly_order = 1\n",
    "# poly_mapping = np.array([[0],\n",
    "#                          [1]])\n",
    "# para_threshold = 0.005\n",
    "# model_train = PiLinearRegressionViaTorch.TrainHolder(fff.X, fff.y, poly_mapping.shape[0], fff.y.shape[-1],\n",
    "#                                                      poly_mapping,\n",
    "#                                                      fff.basis_col,\n",
    "#                                                      ndimensionless, lambda_gamma, lambda_beta, lowest_para_threshold=para_threshold)"
   ]
  },
  {
   "cell_type": "code",
   "execution_count": 20,
   "metadata": {
    "ExecuteTime": {
     "end_time": "2023-06-12T03:48:49.221271Z",
     "start_time": "2023-06-12T03:48:49.186719Z"
    }
   },
   "outputs": [],
   "source": [
    "#model_train.model.pi.para = torch.nn.Parameter(torch.tensor([[0.61421621,\t3.089901834,\t1.490923021,\t0.015626248,\t0.895745453,\t0.655244742,\t0,\t0,\t0.021770321,\t0.011003651,\t0,\t0,\t0.029786742,\t0]], requires_grad=True).t().double())"
   ]
  },
  {
   "cell_type": "code",
   "execution_count": 21,
   "metadata": {
    "ExecuteTime": {
     "end_time": "2023-06-12T03:49:10.353233Z",
     "start_time": "2023-06-12T03:49:10.314384Z"
    }
   },
   "outputs": [],
   "source": [
    "#model_train.model.linear.linear.weight = torch.nn.Parameter(torch.tensor([[0,\t0.762072241]], requires_grad=True).double())"
   ]
  },
  {
   "cell_type": "code",
   "execution_count": 22,
   "metadata": {
    "ExecuteTime": {
     "end_time": "2023-06-12T03:49:18.919043Z",
     "start_time": "2023-06-12T03:49:18.885279Z"
    }
   },
   "outputs": [],
   "source": [
    "# model_train.model.eval()\n",
    "# with torch.no_grad():\n",
    "#     y_pred_train = model_train.model(X_train_val)\n",
    "#     y_pred_test = model_train.model(X_test)"
   ]
  },
  {
   "cell_type": "code",
   "execution_count": 23,
   "metadata": {
    "ExecuteTime": {
     "end_time": "2023-06-12T03:56:42.679599Z",
     "start_time": "2023-06-12T03:56:42.562238Z"
    }
   },
   "outputs": [],
   "source": [
    "# from sklearn.metrics import r2_score\n",
    "# print(r2_score(y_train_val, y_pred_train[0]))"
   ]
  },
  {
   "cell_type": "code",
   "execution_count": 24,
   "metadata": {
    "ExecuteTime": {
     "end_time": "2023-06-12T03:52:21.095773Z",
     "start_time": "2023-06-12T03:52:21.043715Z"
    }
   },
   "outputs": [],
   "source": [
    "import matplotlib.pyplot as plt"
   ]
  },
  {
   "cell_type": "code",
   "execution_count": 25,
   "metadata": {},
   "outputs": [
    {
     "name": "stdout",
     "output_type": "stream",
     "text": [
      "flag 1\n",
      "Y.shape  = (235, 1)\n",
      "X.shape  = (235, 1)\n",
      "test_size =  11\n",
      "sorted indices =  [226  63  59 227  60 123  58 219 218 119 160]\n",
      "flag 2\n",
      "Y_test.shape  =  (11, 1)\n",
      "X_test.shape  = (11, 13)\n",
      "flag 3\n",
      "Y_train.shape  = (224, 1)\n",
      "X_train.shape  = (224, 13)\n",
      "flag 4\n",
      "Y_test.shape  = (11, 1)\n",
      "X_test.shape  = (11, 13)\n",
      "Y_train.shape  = (224, 1)\n",
      "X_train.shape  = (224, 13)\n"
     ]
    }
   ],
   "source": [
    "import torch\n",
    "import torch.nn as nn\n",
    "import numpy as np\n",
    "import sys\n",
    "import matplotlib\n",
    "sys.path.append(r'C:\\Users\\vvmil\\Documents\\Python_Vmil\\Jupyter_Notebooks\\Plasma_He_calcs\\He_code_new')\n",
    "import vics_fcns as vf\n",
    "\n",
    "output = np.reshape(output, (len(output),1))\n",
    "\n",
    "X_test, Y_test, X_train_val, y_train_val = vf.top_split_y(inputs,output,5)\n",
    "\n",
    "\n",
    "x_test = torch.tensor(X_test)\n",
    "y_test = torch.tensor(Y_test)\n",
    "x_train = torch.tensor(X_train_val)\n",
    "y_train = torch.tensor(y_train_val)\n",
    "\n",
    "# Define the modified Power Law model\n",
    "class ModifiedPowerLawModel(nn.Module):\n",
    "    def __init__(self, coefficients, exponents):\n",
    "        super(ModifiedPowerLawModel, self).__init__()\n",
    "        # Assuming the model is already fitted, we'll use the provided coefficients and exponents\n",
    "        self.coefficients = torch.nn.Parameter(torch.tensor(coefficients), requires_grad=False)\n",
    "        self.exponents = torch.nn.Parameter(torch.tensor(exponents), requires_grad=False)\n",
    "\n",
    "    def forward(self, x):\n",
    "        # Compute x_i raised to exponent_i and multiply them together\n",
    "        product = torch.prod(torch.pow(x, self.exponents), dim=1)\n",
    "        # Multiply the result by coefficient[1]\n",
    "        return self.coefficients[1] * product + self.coefficients[0]\n",
    "\n"
   ]
  },
  {
   "cell_type": "code",
   "execution_count": 31,
   "metadata": {},
   "outputs": [
    {
     "name": "stdout",
     "output_type": "stream",
     "text": [
      "0.9529070734466017\n"
     ]
    }
   ],
   "source": [
    "# Assuming you have your fitted model's coefficients and exponents\n",
    "#exponents = torch.tensor([0, 0, 1.133479, 0, 0, 0.951609, 0, 0, -2.08509, 0, 0, 0, 0 ])\n",
    "exponents = torch.tensor([0, 0, 1.13, 0, 0, 0.952, 0, 0, -2.09, 0, 0, 0, 0 ])\n",
    "coefficients = torch.tensor([0.873, 0.5383])  \n",
    "\n",
    "# Instantiate the model with the fitted parameters\n",
    "model = ModifiedPowerLawModel(coefficients, exponents)\n",
    "\n",
    "\n",
    "# Put the model in evaluation mode\n",
    "model.eval()\n",
    "\n",
    "# Compute predictions without tracking gradients\n",
    "with torch.no_grad():\n",
    "    y_pred_test = model.forward(x_test)\n",
    "    y_pred_train = model.forward(x_train)\n",
    "# Compute R^2 score\n",
    "from sklearn.metrics import r2_score\n",
    "\n",
    "print(r2_score(y_test, y_pred_test))"
   ]
  },
  {
   "cell_type": "code",
   "execution_count": 32,
   "metadata": {},
   "outputs": [
    {
     "data": {
      "image/png": "[encoded data removed]",
      "text/plain": [
       "<Figure size 2400x900 with 2 Axes>"
      ]
     },
     "metadata": {},
     "output_type": "display_data"
    }
   ],
   "source": [
    "plt.figure(dpi=300, figsize=(8, 3))\n",
    "plt.rcParams['text.usetex'] = True\n",
    "\n",
    "\n",
    "top_val = 12\n",
    "\n",
    "plt.subplot(121)\n",
    "plt.plot([-0.1,top_val], [-0.1,top_val], 'g-', lw=2, label = 'Predicted = Observed')\n",
    "plt.plot(y_train, y_pred_train,'b.', ms=5, label = 'Training Data')\n",
    "plt.xlim([0,top_val])\n",
    "plt.ylim([0,top_val])\n",
    "plt.xlabel(r'Training $\\frac{n_e}{n_g}$')\n",
    "plt.ylabel(r'Observed $\\frac{n_e}{n_g}$')\n",
    "plt.legend()\n",
    "\n",
    "plt.subplot(122)\n",
    "plt.plot([-0.1e-12,top_val], [-0.1e-12,top_val], 'g-', lw=2, label = 'Predicted = Observed')\n",
    "plt.plot(y_test, y_pred_test,'r.', ms=5, label = 'Observed Data')\n",
    "plt.xlim([0,top_val])\n",
    "plt.ylim([0,top_val])\n",
    "plt.xlabel(r'Observed $\\frac{n_e}{n_g}$')\n",
    "plt.ylabel(r'Predicted $\\frac{n_e}{n_g}$')\n",
    "plt.legend()\n",
    "\n",
    "plt.show()"
   ]
  },
  {
   "cell_type": "code",
   "execution_count": null,
   "metadata": {},
   "outputs": [],
   "source": []
  }
 ],
 "metadata": {
  "kernelspec": {
   "display_name": "research",
   "language": "python",
   "name": "research"
  },
  "language_info": {
   "codemirror_mode": {
    "name": "ipython",
    "version": 3
   },
   "file_extension": ".py",
   "mimetype": "text/x-python",
   "name": "python",
   "nbconvert_exporter": "python",
   "pygments_lexer": "ipython3",
   "version": "3.9.18"
  }
 },
 "nbformat": 4,
 "nbformat_minor": 1
}
