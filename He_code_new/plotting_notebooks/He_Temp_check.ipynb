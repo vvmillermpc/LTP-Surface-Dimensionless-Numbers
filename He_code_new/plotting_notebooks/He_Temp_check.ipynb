{
 "cells": [
  {
   "cell_type": "markdown",
   "id": "d34d20dc",
   "metadata": {},
   "source": [
    "#Calculate the expecte He exit temperature\n",
    "Inlet temp: 22C\n",
    "Outlet temp: to be calculate\n",
    "Flow rate: 0.4-4L/min (@ 295K 1 atm bubble-o-meter)\n",
    "Flow rate (mass) = m = PF(MW)/RT, where T is the cylinder temp (assumed lab temp)\n",
    "Specific Heat (Cp) @ 300K: 5.1926 Cp[kJ/kg.K]\n",
    "(Source for Cp) https://www.ohio.edu/mechanical/thermo/property_tables/gas/idealGas.html\n",
    "Cp: 20.79 J/mol/k https://webbook.nist.gov/cgi/cbook.cgi?ID=C7440597&Mask=1&Type=JANAFG&Table=on\n",
    "Pabs < 0.04 Watts"
   ]
  },
  {
   "cell_type": "markdown",
   "id": "ebd69319",
   "metadata": {},
   "source": [
    "Assumptions:\n",
    "1) constant Cp (pretty good)\n",
    "2) conservative: all energy goes to He, none lost to reactor or packing or photonic emissions"
   ]
  },
  {
   "cell_type": "code",
   "execution_count": 2,
   "id": "98fc00c4",
   "metadata": {},
   "outputs": [
    {
     "name": "stdout",
     "output_type": "stream",
     "text": [
      "294.00069690446287\n"
     ]
    }
   ],
   "source": [
    "#Inputs\n",
    "P_abs = 0.04 #J/s\n",
    "V_flow= 4 #L/min\n",
    "\n",
    "#Calculations\n",
    "Cp = 5.1926*1000 #J/kg/K\n",
    "V_flow = 4/60 #L/second\n",
    "P = 101325 #Pascals\n",
    "R = 8.3145 #J/K/mole\n",
    "T = 272+22 #K\n",
    "T_in = T\n",
    "M_W = 0.004 #kg/mole He\n",
    "m_flow = P*V_flow*M_W/(R*T)\n",
    "\n",
    "T_out = T_in +P_abs/(Cp*m_flow)\n",
    "print(T_out)\n",
    "\n"
   ]
  },
  {
   "cell_type": "code",
   "execution_count": 3,
   "id": "4fee8ead",
   "metadata": {},
   "outputs": [
    {
     "name": "stdout",
     "output_type": "stream",
     "text": [
      "294.0069690446289\n"
     ]
    }
   ],
   "source": [
    "#Inputs\n",
    "P_abs = 0.4 #J/s\n",
    "V_flow= 0.4 #L/min\n",
    "\n",
    "#Calculations\n",
    "Cp = 5.1926*1000 #J/kg/K\n",
    "V_flow = 4/60 #L/second\n",
    "P = 101325 #Pascals  or kg/(m*s^2)\n",
    "R = 8.3145 #J/K/mole\n",
    "T = 272+22 #K\n",
    "T_in = T\n",
    "M_W = 0.004 #kg/mole He\n",
    "m_flow = P*V_flow*M_W/(R*T)\n",
    "\n",
    "T_out = T_in +P_abs/(Cp*m_flow)\n",
    "print(T_out)\n",
    "\n"
   ]
  },
  {
   "cell_type": "code",
   "execution_count": 4,
   "id": "a3d32086",
   "metadata": {},
   "outputs": [
    {
     "name": "stdout",
     "output_type": "stream",
     "text": [
      "295.74061862144765\n"
     ]
    }
   ],
   "source": [
    "#Inputs\n",
    "P_abs = 0.4 #J/s\n",
    "V_flow= 0.4 #L/min\n",
    "\n",
    "#Calculations\n",
    "Cp = 20.79 #J/mole/K\n",
    "V_flow = 0.4*(0.001)/60 #m^3/second\n",
    "P = 101325 #Pascals  or kg/(m*s^2)\n",
    "R = 8.3145 #J/K/mole\n",
    "T = 272+22 #K\n",
    "T_in = T\n",
    "M_W = 0.004 #kg/mole He\n",
    "mole_flow = P*V_flow/(R*T)\n",
    "\n",
    "T_out = T_in +P_abs/(Cp*m_flow)\n",
    "print(T_out)\n",
    "\n"
   ]
  },
  {
   "cell_type": "code",
   "execution_count": null,
   "id": "66c58946",
   "metadata": {},
   "outputs": [],
   "source": []
  }
 ],
 "metadata": {
  "kernelspec": {
   "display_name": "Python 3 (ipykernel)",
   "language": "python",
   "name": "python3"
  },
  "language_info": {
   "codemirror_mode": {
    "name": "ipython",
    "version": 3
   },
   "file_extension": ".py",
   "mimetype": "text/x-python",
   "name": "python",
   "nbconvert_exporter": "python",
   "pygments_lexer": "ipython3",
   "version": "3.11.5"
  }
 },
 "nbformat": 4,
 "nbformat_minor": 5
}
